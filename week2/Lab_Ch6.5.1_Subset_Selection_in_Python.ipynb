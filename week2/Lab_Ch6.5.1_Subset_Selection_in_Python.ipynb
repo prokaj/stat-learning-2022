{
 "cells": [
  {
   "cell_type": "markdown",
   "metadata": {},
   "source": [
    "This lab on Subset Selection is a Python adaptation of p. 244-247 of \"Introduction to Statistical Learning with Applications in R\" by Gareth James, Daniela Witten, Trevor Hastie and Robert Tibshirani. It is based on the work of R. Jordan Crouser at Smith College for SDS293: Machine Learning (Spring 2016).\n",
    "\n",
    "Before you start upgrade your scikit-learn library to version 1.0. "
   ]
  },
  {
   "cell_type": "code",
   "execution_count": 31,
   "metadata": {},
   "outputs": [
    {
     "name": "stdout",
     "output_type": "stream",
     "text": [
      "Your sklearn version=`1.0` seems to be up to date\n"
     ]
    }
   ],
   "source": [
    "def check_sklearn():\n",
    "    from importlib_metadata import metadata\n",
    "    version = metadata('scikit-learn').get('Version')\n",
    "    # print(version)\n",
    "    major, minor = list(map(int, version.split('.')[:2]))\n",
    "    if major==0:\n",
    "        print(f\"sklearn version is {version}, please upgrade by uncommenting and running the next cell!\")\n",
    "    else:\n",
    "        print(f\"Your sklearn version=`{version}` seems to be up to date\") \n",
    "check_sklearn()"
   ]
  },
  {
   "cell_type": "code",
   "execution_count": null,
   "metadata": {},
   "outputs": [],
   "source": [
    "#! pip install -U scikit-learn"
   ]
  },
  {
   "cell_type": "code",
   "execution_count": 1,
   "metadata": {
    "collapsed": false,
    "jupyter": {
     "outputs_hidden": false
    }
   },
   "outputs": [],
   "source": [
    "%matplotlib inline\n",
    "import pandas as pd\n",
    "import numpy as np\n",
    "import itertools\n",
    "import time\n",
    "import statsmodels.api as sm\n",
    "import statsmodels.datasets as smd\n",
    "import matplotlib.pyplot as plt"
   ]
  },
  {
   "cell_type": "markdown",
   "metadata": {},
   "source": [
    "# 6.5.1 Best Subset Selection\n",
    "\n",
    "Here we apply the best subset selection approach to the Hitters data. We\n",
    "wish to predict a baseball player’s Salary on the basis of various statistics\n",
    "associated with performance in the previous year. Let's take a quick look:"
   ]
  },
  {
   "cell_type": "code",
   "execution_count": 2,
   "metadata": {
    "collapsed": false,
    "jupyter": {
     "outputs_hidden": false
    }
   },
   "outputs": [
    {
     "data": {
      "text/html": [
       "<div>\n",
       "<style scoped>\n",
       "    .dataframe tbody tr th:only-of-type {\n",
       "        vertical-align: middle;\n",
       "    }\n",
       "\n",
       "    .dataframe tbody tr th {\n",
       "        vertical-align: top;\n",
       "    }\n",
       "\n",
       "    .dataframe thead th {\n",
       "        text-align: right;\n",
       "    }\n",
       "</style>\n",
       "<table border=\"1\" class=\"dataframe\">\n",
       "  <thead>\n",
       "    <tr style=\"text-align: right;\">\n",
       "      <th></th>\n",
       "      <th>AtBat</th>\n",
       "      <th>Hits</th>\n",
       "      <th>HmRun</th>\n",
       "      <th>Runs</th>\n",
       "      <th>RBI</th>\n",
       "      <th>Walks</th>\n",
       "      <th>Years</th>\n",
       "      <th>CAtBat</th>\n",
       "      <th>CHits</th>\n",
       "      <th>CHmRun</th>\n",
       "      <th>CRuns</th>\n",
       "      <th>CRBI</th>\n",
       "      <th>CWalks</th>\n",
       "      <th>League</th>\n",
       "      <th>Division</th>\n",
       "      <th>PutOuts</th>\n",
       "      <th>Assists</th>\n",
       "      <th>Errors</th>\n",
       "      <th>Salary</th>\n",
       "      <th>NewLeague</th>\n",
       "    </tr>\n",
       "    <tr>\n",
       "      <th>Player</th>\n",
       "      <th></th>\n",
       "      <th></th>\n",
       "      <th></th>\n",
       "      <th></th>\n",
       "      <th></th>\n",
       "      <th></th>\n",
       "      <th></th>\n",
       "      <th></th>\n",
       "      <th></th>\n",
       "      <th></th>\n",
       "      <th></th>\n",
       "      <th></th>\n",
       "      <th></th>\n",
       "      <th></th>\n",
       "      <th></th>\n",
       "      <th></th>\n",
       "      <th></th>\n",
       "      <th></th>\n",
       "      <th></th>\n",
       "      <th></th>\n",
       "    </tr>\n",
       "  </thead>\n",
       "  <tbody>\n",
       "    <tr>\n",
       "      <th>-Andy Allanson</th>\n",
       "      <td>293</td>\n",
       "      <td>66</td>\n",
       "      <td>1</td>\n",
       "      <td>30</td>\n",
       "      <td>29</td>\n",
       "      <td>14</td>\n",
       "      <td>1</td>\n",
       "      <td>293</td>\n",
       "      <td>66</td>\n",
       "      <td>1</td>\n",
       "      <td>30</td>\n",
       "      <td>29</td>\n",
       "      <td>14</td>\n",
       "      <td>A</td>\n",
       "      <td>E</td>\n",
       "      <td>446</td>\n",
       "      <td>33</td>\n",
       "      <td>20</td>\n",
       "      <td>NaN</td>\n",
       "      <td>A</td>\n",
       "    </tr>\n",
       "    <tr>\n",
       "      <th>-Alan Ashby</th>\n",
       "      <td>315</td>\n",
       "      <td>81</td>\n",
       "      <td>7</td>\n",
       "      <td>24</td>\n",
       "      <td>38</td>\n",
       "      <td>39</td>\n",
       "      <td>14</td>\n",
       "      <td>3449</td>\n",
       "      <td>835</td>\n",
       "      <td>69</td>\n",
       "      <td>321</td>\n",
       "      <td>414</td>\n",
       "      <td>375</td>\n",
       "      <td>N</td>\n",
       "      <td>W</td>\n",
       "      <td>632</td>\n",
       "      <td>43</td>\n",
       "      <td>10</td>\n",
       "      <td>475.0</td>\n",
       "      <td>N</td>\n",
       "    </tr>\n",
       "    <tr>\n",
       "      <th>-Alvin Davis</th>\n",
       "      <td>479</td>\n",
       "      <td>130</td>\n",
       "      <td>18</td>\n",
       "      <td>66</td>\n",
       "      <td>72</td>\n",
       "      <td>76</td>\n",
       "      <td>3</td>\n",
       "      <td>1624</td>\n",
       "      <td>457</td>\n",
       "      <td>63</td>\n",
       "      <td>224</td>\n",
       "      <td>266</td>\n",
       "      <td>263</td>\n",
       "      <td>A</td>\n",
       "      <td>W</td>\n",
       "      <td>880</td>\n",
       "      <td>82</td>\n",
       "      <td>14</td>\n",
       "      <td>480.0</td>\n",
       "      <td>A</td>\n",
       "    </tr>\n",
       "    <tr>\n",
       "      <th>-Andre Dawson</th>\n",
       "      <td>496</td>\n",
       "      <td>141</td>\n",
       "      <td>20</td>\n",
       "      <td>65</td>\n",
       "      <td>78</td>\n",
       "      <td>37</td>\n",
       "      <td>11</td>\n",
       "      <td>5628</td>\n",
       "      <td>1575</td>\n",
       "      <td>225</td>\n",
       "      <td>828</td>\n",
       "      <td>838</td>\n",
       "      <td>354</td>\n",
       "      <td>N</td>\n",
       "      <td>E</td>\n",
       "      <td>200</td>\n",
       "      <td>11</td>\n",
       "      <td>3</td>\n",
       "      <td>500.0</td>\n",
       "      <td>N</td>\n",
       "    </tr>\n",
       "    <tr>\n",
       "      <th>-Andres Galarraga</th>\n",
       "      <td>321</td>\n",
       "      <td>87</td>\n",
       "      <td>10</td>\n",
       "      <td>39</td>\n",
       "      <td>42</td>\n",
       "      <td>30</td>\n",
       "      <td>2</td>\n",
       "      <td>396</td>\n",
       "      <td>101</td>\n",
       "      <td>12</td>\n",
       "      <td>48</td>\n",
       "      <td>46</td>\n",
       "      <td>33</td>\n",
       "      <td>N</td>\n",
       "      <td>E</td>\n",
       "      <td>805</td>\n",
       "      <td>40</td>\n",
       "      <td>4</td>\n",
       "      <td>91.5</td>\n",
       "      <td>N</td>\n",
       "    </tr>\n",
       "  </tbody>\n",
       "</table>\n",
       "</div>"
      ],
      "text/plain": [
       "                   AtBat  Hits  HmRun  Runs  RBI  Walks  Years  CAtBat  CHits  \\\n",
       "Player                                                                          \n",
       "-Andy Allanson       293    66      1    30   29     14      1     293     66   \n",
       "-Alan Ashby          315    81      7    24   38     39     14    3449    835   \n",
       "-Alvin Davis         479   130     18    66   72     76      3    1624    457   \n",
       "-Andre Dawson        496   141     20    65   78     37     11    5628   1575   \n",
       "-Andres Galarraga    321    87     10    39   42     30      2     396    101   \n",
       "\n",
       "                   CHmRun  CRuns  CRBI  CWalks League Division  PutOuts  \\\n",
       "Player                                                                    \n",
       "-Andy Allanson          1     30    29      14      A        E      446   \n",
       "-Alan Ashby            69    321   414     375      N        W      632   \n",
       "-Alvin Davis           63    224   266     263      A        W      880   \n",
       "-Andre Dawson         225    828   838     354      N        E      200   \n",
       "-Andres Galarraga      12     48    46      33      N        E      805   \n",
       "\n",
       "                   Assists  Errors  Salary NewLeague  \n",
       "Player                                                \n",
       "-Andy Allanson          33      20     NaN         A  \n",
       "-Alan Ashby             43      10   475.0         N  \n",
       "-Alvin Davis            82      14   480.0         A  \n",
       "-Andre Dawson           11       3   500.0         N  \n",
       "-Andres Galarraga       40       4    91.5         N  "
      ]
     },
     "execution_count": 2,
     "metadata": {},
     "output_type": "execute_result"
    }
   ],
   "source": [
    "use_smith_edu = False  or True\n",
    "if use_smith_edu:\n",
    "    url = ''\n",
    "    hitters_df = pd.read_csv('https://www.science.smith.edu/~jcrouser/SDS293/data/Hitters.csv')\n",
    "    hitters_df = hitters_df.set_index('Player')\n",
    "else:\n",
    "    hitters_df = smd.get_rdataset('Hitters', 'ISLR')\n",
    "    hitters_df.data.__doc__ = hitters_df.__doc__\n",
    "    hitters_df = hitters_df.data\n",
    "hitters_df.head()"
   ]
  },
  {
   "cell_type": "markdown",
   "metadata": {},
   "source": [
    "First of all, we note that the `Salary` variable is missing for some of the\n",
    "players. The `isnull()` function can be used to identify the missing observations. It returns a vector of the same length as the input vector, with a `TRUE` value\n",
    "for any elements that are missing, and a `FALSE` value for non-missing elements.\n",
    "The `sum()` function can then be used to count all of the missing elements:"
   ]
  },
  {
   "cell_type": "code",
   "execution_count": 3,
   "metadata": {
    "collapsed": false,
    "jupyter": {
     "outputs_hidden": false
    }
   },
   "outputs": [
    {
     "name": "stdout",
     "output_type": "stream",
     "text": [
      "Number of null values: 59\n"
     ]
    }
   ],
   "source": [
    "print(\"Number of null values:\", hitters_df[\"Salary\"].isnull().sum())"
   ]
  },
  {
   "cell_type": "markdown",
   "metadata": {},
   "source": [
    "We see that `Salary` is missing for 59 players. The `dropna()` function\n",
    "removes all of the rows that have missing values in any variable:"
   ]
  },
  {
   "cell_type": "code",
   "execution_count": 4,
   "metadata": {
    "collapsed": false,
    "jupyter": {
     "outputs_hidden": false
    }
   },
   "outputs": [
    {
     "name": "stdout",
     "output_type": "stream",
     "text": [
      "Dimensions of original data: (322, 20)\n",
      "Dimensions of modified data: (263, 20)\n",
      "Number of null values: 0\n"
     ]
    }
   ],
   "source": [
    "# Print the dimensions of the original Hitters data (322 rows x 20 columns)\n",
    "print(\"Dimensions of original data:\", hitters_df.shape)\n",
    "\n",
    "# Drop any rows the contain missing values, along with the player names\n",
    "hitters_df_clean = hitters_df.dropna()\n",
    "\n",
    "# Print the dimensions of the modified Hitters data (263 rows x 20 columns)\n",
    "print(\"Dimensions of modified data:\", hitters_df_clean.shape)\n",
    "\n",
    "# One last check: should return 0\n",
    "print(\"Number of null values:\", hitters_df_clean[\"Salary\"].isnull().sum())"
   ]
  },
  {
   "cell_type": "code",
   "execution_count": 5,
   "metadata": {
    "collapsed": false,
    "jupyter": {
     "outputs_hidden": false
    }
   },
   "outputs": [],
   "source": [
    "dummies = pd.get_dummies(hitters_df_clean[['League', 'Division', 'NewLeague']])\n",
    "\n",
    "y = hitters_df_clean.Salary\n",
    "\n",
    "# Drop the column with the independent variable (Salary), and columns for which we created dummy variables\n",
    "hitters = hitters_df_clean.drop(['League', 'Division', 'NewLeague'], axis=1).astype('float64')\n",
    "\n",
    "# Define the feature set X.\n",
    "hitters = pd.concat([hitters, dummies[['League_N', 'Division_W', 'NewLeague_N']]], axis=1)"
   ]
  },
  {
   "cell_type": "markdown",
   "metadata": {},
   "source": [
    "We can perform best subset selection by identifying the best model that contains a given number of predictors, where **best** is quantified using RSS. We'll define a helper function to outputs the best set of variables for\n",
    "each model size:"
   ]
  },
  {
   "cell_type": "code",
   "execution_count": 6,
   "metadata": {
    "tags": []
   },
   "outputs": [],
   "source": [
    "from tqdm.auto import tqdm\n",
    "\n",
    "def haty_norm2(X, y):\n",
    "    q, r = np.linalg.qr(X)\n",
    "    return (np.dot(q.T, y)**2).sum()\n",
    "\n",
    "def best_k(X, y, k):\n",
    "    best_v = 0\n",
    "    best_c = None\n",
    "    for c in itertools.combinations(range(X.shape[1]), k):\n",
    "        v = haty_norm2(X[:, c], y)\n",
    "        if v > best_v:\n",
    "            best_v = v\n",
    "            best_c = c\n",
    "    return best_c, best_v\n",
    "\n",
    "def best_subset(X, y, max_k=8, min_k=1):\n",
    "    col_names = X.columns\n",
    "    y, X = np.asarray(y), np.asarray(X)\n",
    "    y = y - y.mean(axis=0)\n",
    "    X = X - X.mean(axis=0)\n",
    "    q, r = np.linalg.qr(X)\n",
    "    TSS = (y**2).sum()\n",
    "    y = np.dot(q.T, y)\n",
    "    def result(x):\n",
    "        c,v = x\n",
    "        return {\n",
    "            'num_pred': len(c),\n",
    "            'predictors': [col_names[i] for i in c],\n",
    "            'R2': v/TSS\n",
    "        }\n",
    "    return pd.DataFrame([result(best_k(r, y, k)) \n",
    "                         for k in tqdm(range(min_k, min(len(col_names), max_k)+1))]).set_index('num_pred')\n",
    "\n",
    "\n",
    "\n",
    "def best2(X, y, c1=[], v1=0):\n",
    "    x0 = X[:,-1]\n",
    "    x0 = x0/(1e-30+np.linalg.norm(x0))\n",
    "    x0y = np.dot(x0, y) # (x0*y).sum()\n",
    "    v0 = x0y*x0y\n",
    "        \n",
    "    if X.shape[1]==1:\n",
    "        return [(c1,  v1), (c1+[0], v1+v0)]\n",
    "\n",
    "    X = X[:, :-1]\n",
    "    k = X.shape[1]\n",
    "    a = best2(X, y, c1, v1) + [([], -1)]\n",
    "    X = X - np.outer(x0, np.dot(X.T, x0))\n",
    "    # y = y - x0y*x0\n",
    "    b = [(c1, v1)] + best2(X, y, c1+[k], v1+v0)\n",
    "    c = [(ca, va) if va>vb else (cb, vb)  for (ca,va), (cb,vb) in zip(a,b)]\n",
    "    return c\n",
    "\n",
    "def best_subset2(X, y, *args, **kwargs):\n",
    "    col_names = X.columns\n",
    "    y, X = np.asarray(y), np.asarray(X)\n",
    "    y = y - y.mean(axis=0)\n",
    "    X = X - X.mean(axis=0)\n",
    "    q, r = np.linalg.qr(X)\n",
    "    TSS = (y**2).sum()\n",
    "    y = np.dot(q.T, y)\n",
    "    def result(x):\n",
    "        c, v = x\n",
    "        return {\n",
    "            'num_pred': len(c),\n",
    "            'predictors': [col_names[i] for i in sorted(c)],\n",
    "            'R2': v/TSS\n",
    "        }\n",
    "    return pd.DataFrame([result(x) for x in best2(r, y) if x[0]]).set_index('num_pred')\n",
    "\n",
    "best_subset = best_subset2"
   ]
  },
  {
   "cell_type": "code",
   "execution_count": 7,
   "metadata": {},
   "outputs": [
    {
     "name": "stdout",
     "output_type": "stream",
     "text": [
      "CPU times: user 11.2 s, sys: 8.27 ms, total: 11.2 s\n",
      "Wall time: 11.3 s\n"
     ]
    }
   ],
   "source": [
    "%%time\n",
    "fit = best_subset(y=hitters.Salary, X=hitters.drop(columns=['Salary']), max_k=19)"
   ]
  },
  {
   "cell_type": "code",
   "execution_count": 8,
   "metadata": {},
   "outputs": [
    {
     "data": {
      "text/html": [
       "<div>\n",
       "<style scoped>\n",
       "    .dataframe tbody tr th:only-of-type {\n",
       "        vertical-align: middle;\n",
       "    }\n",
       "\n",
       "    .dataframe tbody tr th {\n",
       "        vertical-align: top;\n",
       "    }\n",
       "\n",
       "    .dataframe thead th {\n",
       "        text-align: right;\n",
       "    }\n",
       "</style>\n",
       "<table border=\"1\" class=\"dataframe\">\n",
       "  <thead>\n",
       "    <tr style=\"text-align: right;\">\n",
       "      <th></th>\n",
       "      <th>predictors</th>\n",
       "      <th>R2</th>\n",
       "    </tr>\n",
       "    <tr>\n",
       "      <th>num_pred</th>\n",
       "      <th></th>\n",
       "      <th></th>\n",
       "    </tr>\n",
       "  </thead>\n",
       "  <tbody>\n",
       "    <tr>\n",
       "      <th>1</th>\n",
       "      <td>[CRBI]</td>\n",
       "      <td>0.321450</td>\n",
       "    </tr>\n",
       "    <tr>\n",
       "      <th>2</th>\n",
       "      <td>[Hits, CRBI]</td>\n",
       "      <td>0.425224</td>\n",
       "    </tr>\n",
       "    <tr>\n",
       "      <th>3</th>\n",
       "      <td>[Hits, CRBI, PutOuts]</td>\n",
       "      <td>0.451429</td>\n",
       "    </tr>\n",
       "    <tr>\n",
       "      <th>4</th>\n",
       "      <td>[Hits, CRBI, PutOuts, Division_W]</td>\n",
       "      <td>0.475407</td>\n",
       "    </tr>\n",
       "    <tr>\n",
       "      <th>5</th>\n",
       "      <td>[AtBat, Hits, CRBI, PutOuts, Division_W]</td>\n",
       "      <td>0.490804</td>\n",
       "    </tr>\n",
       "    <tr>\n",
       "      <th>6</th>\n",
       "      <td>[AtBat, Hits, Walks, CRBI, PutOuts, Division_W]</td>\n",
       "      <td>0.508715</td>\n",
       "    </tr>\n",
       "    <tr>\n",
       "      <th>7</th>\n",
       "      <td>[Hits, Walks, CAtBat, CHits, CHmRun, PutOuts, ...</td>\n",
       "      <td>0.514123</td>\n",
       "    </tr>\n",
       "    <tr>\n",
       "      <th>8</th>\n",
       "      <td>[AtBat, Hits, Walks, CHmRun, CRuns, CWalks, Pu...</td>\n",
       "      <td>0.528557</td>\n",
       "    </tr>\n",
       "    <tr>\n",
       "      <th>9</th>\n",
       "      <td>[AtBat, Hits, Walks, CAtBat, CRuns, CRBI, CWal...</td>\n",
       "      <td>0.534612</td>\n",
       "    </tr>\n",
       "    <tr>\n",
       "      <th>10</th>\n",
       "      <td>[AtBat, Hits, Walks, CAtBat, CRuns, CRBI, CWal...</td>\n",
       "      <td>0.540495</td>\n",
       "    </tr>\n",
       "    <tr>\n",
       "      <th>11</th>\n",
       "      <td>[AtBat, Hits, Walks, CAtBat, CRuns, CRBI, CWal...</td>\n",
       "      <td>0.542615</td>\n",
       "    </tr>\n",
       "    <tr>\n",
       "      <th>12</th>\n",
       "      <td>[AtBat, Hits, Runs, Walks, CAtBat, CRuns, CRBI...</td>\n",
       "      <td>0.543630</td>\n",
       "    </tr>\n",
       "    <tr>\n",
       "      <th>13</th>\n",
       "      <td>[AtBat, Hits, Runs, Walks, CAtBat, CRuns, CRBI...</td>\n",
       "      <td>0.544457</td>\n",
       "    </tr>\n",
       "    <tr>\n",
       "      <th>14</th>\n",
       "      <td>[AtBat, Hits, HmRun, Runs, Walks, CAtBat, CRun...</td>\n",
       "      <td>0.545216</td>\n",
       "    </tr>\n",
       "    <tr>\n",
       "      <th>15</th>\n",
       "      <td>[AtBat, Hits, HmRun, Runs, Walks, CAtBat, CHit...</td>\n",
       "      <td>0.545469</td>\n",
       "    </tr>\n",
       "    <tr>\n",
       "      <th>16</th>\n",
       "      <td>[AtBat, Hits, HmRun, Runs, RBI, Walks, CAtBat,...</td>\n",
       "      <td>0.545766</td>\n",
       "    </tr>\n",
       "    <tr>\n",
       "      <th>17</th>\n",
       "      <td>[AtBat, Hits, HmRun, Runs, RBI, Walks, CAtBat,...</td>\n",
       "      <td>0.545952</td>\n",
       "    </tr>\n",
       "    <tr>\n",
       "      <th>18</th>\n",
       "      <td>[AtBat, Hits, HmRun, Runs, RBI, Walks, Years, ...</td>\n",
       "      <td>0.546095</td>\n",
       "    </tr>\n",
       "    <tr>\n",
       "      <th>19</th>\n",
       "      <td>[AtBat, Hits, HmRun, Runs, RBI, Walks, Years, ...</td>\n",
       "      <td>0.546116</td>\n",
       "    </tr>\n",
       "  </tbody>\n",
       "</table>\n",
       "</div>"
      ],
      "text/plain": [
       "                                                 predictors        R2\n",
       "num_pred                                                             \n",
       "1                                                    [CRBI]  0.321450\n",
       "2                                              [Hits, CRBI]  0.425224\n",
       "3                                     [Hits, CRBI, PutOuts]  0.451429\n",
       "4                         [Hits, CRBI, PutOuts, Division_W]  0.475407\n",
       "5                  [AtBat, Hits, CRBI, PutOuts, Division_W]  0.490804\n",
       "6           [AtBat, Hits, Walks, CRBI, PutOuts, Division_W]  0.508715\n",
       "7         [Hits, Walks, CAtBat, CHits, CHmRun, PutOuts, ...  0.514123\n",
       "8         [AtBat, Hits, Walks, CHmRun, CRuns, CWalks, Pu...  0.528557\n",
       "9         [AtBat, Hits, Walks, CAtBat, CRuns, CRBI, CWal...  0.534612\n",
       "10        [AtBat, Hits, Walks, CAtBat, CRuns, CRBI, CWal...  0.540495\n",
       "11        [AtBat, Hits, Walks, CAtBat, CRuns, CRBI, CWal...  0.542615\n",
       "12        [AtBat, Hits, Runs, Walks, CAtBat, CRuns, CRBI...  0.543630\n",
       "13        [AtBat, Hits, Runs, Walks, CAtBat, CRuns, CRBI...  0.544457\n",
       "14        [AtBat, Hits, HmRun, Runs, Walks, CAtBat, CRun...  0.545216\n",
       "15        [AtBat, Hits, HmRun, Runs, Walks, CAtBat, CHit...  0.545469\n",
       "16        [AtBat, Hits, HmRun, Runs, RBI, Walks, CAtBat,...  0.545766\n",
       "17        [AtBat, Hits, HmRun, Runs, RBI, Walks, CAtBat,...  0.545952\n",
       "18        [AtBat, Hits, HmRun, Runs, RBI, Walks, Years, ...  0.546095\n",
       "19        [AtBat, Hits, HmRun, Runs, RBI, Walks, Years, ...  0.546116"
      ]
     },
     "execution_count": 8,
     "metadata": {},
     "output_type": "execute_result"
    }
   ],
   "source": [
    "fit"
   ]
  },
  {
   "cell_type": "code",
   "execution_count": 9,
   "metadata": {},
   "outputs": [],
   "source": [
    "fit['model'] = [sm.OLS.from_formula(f, data=hitters).fit()\n",
    "              for f in fit.predictors.apply(lambda x: 'Salary ~ ' + ' + '.join(sorted(x)))]"
   ]
  },
  {
   "cell_type": "code",
   "execution_count": 10,
   "metadata": {
    "tags": []
   },
   "outputs": [],
   "source": [
    "# def processSubset(feature_set):\n",
    "#     # Fit model on feature_set and calculate RSS\n",
    "#     model = sm.OLS(y,X[list(feature_set)])\n",
    "#     regr = model.fit()\n",
    "#     RSS = ((regr.predict(X[list(feature_set)]) - y) ** 2).sum()\n",
    "#     return {\"model\":regr, \"RSS\":RSS}"
   ]
  },
  {
   "cell_type": "code",
   "execution_count": 11,
   "metadata": {
    "collapsed": false,
    "jupyter": {
     "outputs_hidden": false
    }
   },
   "outputs": [],
   "source": [
    "# def getBest(k):\n",
    "    \n",
    "#     tic = time.time()\n",
    "    \n",
    "#     results = []\n",
    "    \n",
    "#     for combo in itertools.combinations(X.columns, k):\n",
    "#         results.append(processSubset(combo))\n",
    "    \n",
    "#     # Wrap everything up in a nice dataframe\n",
    "#     models = pd.DataFrame(results)\n",
    "    \n",
    "#     # Choose the model with the highest RSS\n",
    "#     best_model = models.loc[models['RSS'].argmin()]\n",
    "    \n",
    "#     toc = time.time()\n",
    "#     print(\"Processed\", models.shape[0], \"models on\", k, \"predictors in\", (toc-tic), \"seconds.\")\n",
    "    \n",
    "#     # Return the best model, along with some other useful information about the model\n",
    "#     return best_model"
   ]
  },
  {
   "cell_type": "markdown",
   "metadata": {},
   "source": [
    "This returns a `DataFrame` containing the best model that we generated, along with some extra information about the model. Now we want to call that function for each number of predictors $k$:"
   ]
  },
  {
   "cell_type": "code",
   "execution_count": 12,
   "metadata": {
    "collapsed": false,
    "jupyter": {
     "outputs_hidden": false
    }
   },
   "outputs": [],
   "source": [
    "# # Could take quite a while to complete...\n",
    "\n",
    "# models_best = pd.DataFrame(columns=[\"RSS\", \"model\"])\n",
    "\n",
    "# tic = time.time()\n",
    "# for i in range(1,4):\n",
    "#     models_best.loc[i] = getBest(i)\n",
    "\n",
    "# toc = time.time()\n",
    "# print(\"Total elapsed time:\", (toc-tic), \"seconds.\")"
   ]
  },
  {
   "cell_type": "markdown",
   "metadata": {},
   "source": [
    "Now we have one big `DataFrame` that contains the best models we've generated along with their RSS:"
   ]
  },
  {
   "cell_type": "code",
   "execution_count": 13,
   "metadata": {
    "collapsed": false,
    "jupyter": {
     "outputs_hidden": false
    }
   },
   "outputs": [],
   "source": [
    "# models_best['model'][2].summary()"
   ]
  },
  {
   "cell_type": "markdown",
   "metadata": {},
   "source": [
    "If we want to access the details of each model, no problem! We can get a full rundown of a single model using the `summary()` function:"
   ]
  },
  {
   "cell_type": "code",
   "execution_count": 14,
   "metadata": {
    "collapsed": false,
    "jupyter": {
     "outputs_hidden": false
    }
   },
   "outputs": [
    {
     "name": "stdout",
     "output_type": "stream",
     "text": [
      "                            OLS Regression Results                            \n",
      "==============================================================================\n",
      "Dep. Variable:                 Salary   R-squared:                       0.425\n",
      "Model:                            OLS   Adj. R-squared:                  0.421\n",
      "Method:                 Least Squares   F-statistic:                     96.17\n",
      "Date:                Sat, 13 Nov 2021   Prob (F-statistic):           5.43e-32\n",
      "Time:                        06:33:33   Log-Likelihood:                -1907.2\n",
      "No. Observations:                 263   AIC:                             3820.\n",
      "Df Residuals:                     260   BIC:                             3831.\n",
      "Df Model:                           2                                         \n",
      "Covariance Type:            nonrobust                                         \n",
      "==============================================================================\n",
      "                 coef    std err          t      P>|t|      [0.025      0.975]\n",
      "------------------------------------------------------------------------------\n",
      "Intercept    -47.9559     55.982     -0.857      0.392    -158.193      62.281\n",
      "CRBI           0.6899      0.067     10.262      0.000       0.558       0.822\n",
      "Hits           3.3008      0.482      6.851      0.000       2.352       4.250\n",
      "==============================================================================\n",
      "Omnibus:                      117.673   Durbin-Watson:                   1.927\n",
      "Prob(Omnibus):                  0.000   Jarque-Bera (JB):              700.819\n",
      "Skew:                           1.704   Prob(JB):                    6.59e-153\n",
      "Kurtosis:                      10.235   Cond. No.                     1.24e+03\n",
      "==============================================================================\n",
      "\n",
      "Notes:\n",
      "[1] Standard Errors assume that the covariance matrix of the errors is correctly specified.\n",
      "[2] The condition number is large, 1.24e+03. This might indicate that there are\n",
      "strong multicollinearity or other numerical problems.\n"
     ]
    }
   ],
   "source": [
    "print(fit.loc[2, \"model\"].summary())"
   ]
  },
  {
   "cell_type": "markdown",
   "metadata": {},
   "source": [
    "This output indicates that the best two-variable model\n",
    "contains only `Hits` and `CRBI`. To save time, we only generated results\n",
    "up to the best 7-variable model. You can use the functions we defined above to explore as many variables as are desired."
   ]
  },
  {
   "cell_type": "code",
   "execution_count": 15,
   "metadata": {
    "collapsed": false,
    "jupyter": {
     "outputs_hidden": false
    }
   },
   "outputs": [
    {
     "name": "stdout",
     "output_type": "stream",
     "text": [
      "                            OLS Regression Results                            \n",
      "==============================================================================\n",
      "Dep. Variable:                 Salary   R-squared:                       0.546\n",
      "Model:                            OLS   Adj. R-squared:                  0.511\n",
      "Method:                 Least Squares   F-statistic:                     15.39\n",
      "Date:                Sat, 13 Nov 2021   Prob (F-statistic):           7.84e-32\n",
      "Time:                        06:33:34   Log-Likelihood:                -1876.2\n",
      "No. Observations:                 263   AIC:                             3792.\n",
      "Df Residuals:                     243   BIC:                             3864.\n",
      "Df Model:                          19                                         \n",
      "Covariance Type:            nonrobust                                         \n",
      "===============================================================================\n",
      "                  coef    std err          t      P>|t|      [0.025      0.975]\n",
      "-------------------------------------------------------------------------------\n",
      "Intercept     163.1036     90.779      1.797      0.074     -15.710     341.917\n",
      "Assists         0.3711      0.221      1.678      0.095      -0.065       0.807\n",
      "AtBat          -1.9799      0.634     -3.123      0.002      -3.229      -0.731\n",
      "CAtBat         -0.1713      0.135     -1.267      0.206      -0.438       0.095\n",
      "CHits           0.1340      0.675      0.199      0.843      -1.195       1.463\n",
      "CHmRun         -0.1729      1.617     -0.107      0.915      -3.358       3.013\n",
      "CRBI            0.8077      0.693      1.166      0.245      -0.557       2.172\n",
      "CRuns           1.4543      0.750      1.938      0.054      -0.024       2.933\n",
      "CWalks         -0.8116      0.328     -2.474      0.014      -1.458      -0.165\n",
      "Division_W   -116.8492     40.367     -2.895      0.004    -196.363     -37.335\n",
      "Errors         -3.3608      4.392     -0.765      0.445     -12.011       5.290\n",
      "Hits            7.5008      2.378      3.155      0.002       2.818      12.184\n",
      "HmRun           4.3309      6.201      0.698      0.486      -7.885      16.546\n",
      "League_N       62.5994     79.261      0.790      0.430     -93.528     218.727\n",
      "NewLeague_N   -24.7623     79.003     -0.313      0.754    -180.380     130.855\n",
      "PutOuts         0.2819      0.077      3.640      0.000       0.129       0.434\n",
      "RBI            -1.0450      2.601     -0.402      0.688      -6.168       4.078\n",
      "Runs           -2.3762      2.981     -0.797      0.426      -8.248       3.495\n",
      "Walks           6.2313      1.829      3.408      0.001       2.630       9.833\n",
      "Years          -3.4891     12.412     -0.281      0.779     -27.938      20.960\n",
      "==============================================================================\n",
      "Omnibus:                       87.414   Durbin-Watson:                   2.018\n",
      "Prob(Omnibus):                  0.000   Jarque-Bera (JB):              452.923\n",
      "Skew:                           1.236   Prob(JB):                     4.46e-99\n",
      "Kurtosis:                       8.934   Cond. No.                     2.09e+04\n",
      "==============================================================================\n",
      "\n",
      "Notes:\n",
      "[1] Standard Errors assume that the covariance matrix of the errors is correctly specified.\n",
      "[2] The condition number is large, 2.09e+04. This might indicate that there are\n",
      "strong multicollinearity or other numerical problems.\n"
     ]
    }
   ],
   "source": [
    "# Show the best 19-variable model (there's actually only one)\n",
    "print(fit.model.iloc()[-1].summary())"
   ]
  },
  {
   "cell_type": "markdown",
   "metadata": {},
   "source": [
    "Rather than letting the results of our call to the `summary()` function print to the screen, we can access just the parts we need using the model's attributes. For example, if we want the $R^2$ value:"
   ]
  },
  {
   "cell_type": "code",
   "execution_count": 16,
   "metadata": {
    "collapsed": false,
    "jupyter": {
     "outputs_hidden": false
    }
   },
   "outputs": [
    {
     "data": {
      "text/plain": [
       "0.42522374646677874"
      ]
     },
     "execution_count": 16,
     "metadata": {},
     "output_type": "execute_result"
    }
   ],
   "source": [
    "fit.loc[2, \"model\"].rsquared"
   ]
  },
  {
   "cell_type": "markdown",
   "metadata": {},
   "source": [
    "Excellent! In addition to the verbose output we get when we print the summary to the screen, fitting the `OLM` also produced many other useful statistics such as adjusted $R^2$, AIC, and BIC. We can examine these to try to select the best overall model. Let's start by looking at $R^2$ across all our models:"
   ]
  },
  {
   "cell_type": "code",
   "execution_count": 17,
   "metadata": {
    "collapsed": false,
    "jupyter": {
     "outputs_hidden": false
    }
   },
   "outputs": [
    {
     "name": "stdout",
     "output_type": "stream",
     "text": [
      "R2:\n",
      "num_pred\n",
      "1     0.321450\n",
      "2     0.425224\n",
      "3     0.451429\n",
      "4     0.475407\n",
      "5     0.490804\n",
      "6     0.508715\n",
      "7     0.514123\n",
      "8     0.528557\n",
      "9     0.534612\n",
      "10    0.540495\n",
      "11    0.542615\n",
      "12    0.543630\n",
      "13    0.544457\n",
      "14    0.545216\n",
      "15    0.545469\n",
      "16    0.545766\n",
      "17    0.545952\n",
      "18    0.546095\n",
      "19    0.546116\n",
      "Name: model, dtype: float64\n",
      "RSS:\n",
      "num_pred\n",
      "1     3.617968e+07\n",
      "2     3.064656e+07\n",
      "3     2.924930e+07\n",
      "4     2.797085e+07\n",
      "5     2.714990e+07\n",
      "6     2.619490e+07\n",
      "7     2.590655e+07\n",
      "8     2.513693e+07\n",
      "9     2.481405e+07\n",
      "10    2.450040e+07\n",
      "11    2.438735e+07\n",
      "12    2.433323e+07\n",
      "13    2.428915e+07\n",
      "14    2.424866e+07\n",
      "15    2.423518e+07\n",
      "16    2.421938e+07\n",
      "17    2.420945e+07\n",
      "18    2.420184e+07\n",
      "19    2.420070e+07\n",
      "Name: model, dtype: float64\n"
     ]
    }
   ],
   "source": [
    "# Gets the second element from each row ('model') and pulls out its rsquared attribute\n",
    "print('R2:', fit.model.apply(lambda x: x.rsquared), sep='\\n')\n",
    "print('RSS:', fit.model.apply(lambda x: x.ssr), sep='\\n')"
   ]
  },
  {
   "cell_type": "markdown",
   "metadata": {},
   "source": [
    "As expected, the $R^2$ statistic increases monotonically as more\n",
    "variables are included.\n",
    "\n",
    "Plotting RSS, adjusted $R^2$, AIC, and BIC for all of the models at once will\n",
    "help us decide which model to select."
   ]
  },
  {
   "cell_type": "code",
   "execution_count": 18,
   "metadata": {
    "collapsed": false,
    "jupyter": {
     "outputs_hidden": false
    }
   },
   "outputs": [
    {
     "data": {
      "text/plain": [
       "[<matplotlib.lines.Line2D at 0x7f113a016250>]"
      ]
     },
     "execution_count": 18,
     "metadata": {},
     "output_type": "execute_result"
    },
    {
     "data": {
      "image/png": "[encoded data removed]",
      "text/plain": [
       "<Figure size 1440x720 with 4 Axes>"
      ]
     },
     "metadata": {
      "needs_background": "light"
     },
     "output_type": "display_data"
    }
   ],
   "source": [
    "plt.figure(figsize=(20,10))\n",
    "#plt.rcParams.update({'font.size': 16, 'lines.markersize': 8})\n",
    "\n",
    "# We will now plot a red dot to indicate the model with the largest adjusted R^2 statistic.\n",
    "# The argmax() function can be used to identify the location of the maximum point of a vector\n",
    "plt_data = np.stack(fit.apply(lambda x: (len(x['predictors']), x['model'].ssr), axis=1))\n",
    "\n",
    "# Set up a 2x2 grid so we can look at 4 plots at once\n",
    "plt.subplot(2, 2, 1)\n",
    "plt.plot(*plt_data.T)\n",
    "plt.xlabel('# Predictors')\n",
    "plt.ylabel('RSS')\n",
    "plt.grid()\n",
    "plt.plot(*plt_data[plt_data[:,1].argmin()], 'or')\n",
    "\n",
    "# We will now plot a red dot to indicate the model with the largest adjusted R^2 statistic.\n",
    "# The argmax() function can be used to identify the location of the maximum point of a vector\n",
    "\n",
    "plt_data = np.stack(fit.apply(lambda x: (len(x['predictors']), x['model'].rsquared_adj), axis=1))\n",
    "\n",
    "plt.subplot(2, 2, 2)\n",
    "plt.plot(*plt_data.T)\n",
    "plt.xlabel('# Predictors')\n",
    "plt.ylabel('adjusted rsquared')\n",
    "plt.grid()\n",
    "plt.plot(*plt_data[plt_data[:,1].argmax()], 'or')\n",
    "\n",
    "\n",
    "# We'll do the same for AIC and BIC, this time looking for the models with the SMALLEST statistic\n",
    "plt_data = np.stack(fit.apply(lambda x: (len(x['predictors']), x['model'].aic), axis=1))\n",
    "\n",
    "plt.subplot(2, 2, 3)\n",
    "plt.plot(*plt_data.T)\n",
    "plt.xlabel('# Predictors')\n",
    "plt.ylabel('AIC')\n",
    "plt.grid()\n",
    "plt.plot(*plt_data[plt_data[:,1].argmin()], 'or')\n",
    "\n",
    "\n",
    "plt_data = np.stack(fit.apply(lambda x: (len(x['predictors']), x['model'].bic), axis=1))\n",
    "\n",
    "plt.subplot(2, 2, 4)\n",
    "plt.plot(*plt_data.T)\n",
    "plt.xlabel('# Predictors')\n",
    "plt.ylabel('BIC')\n",
    "plt.grid()\n",
    "plt.plot(*plt_data[plt_data[:,1].argmin()], 'or')\n"
   ]
  },
  {
   "cell_type": "markdown",
   "metadata": {},
   "source": [
    "Recall that in the second step of our selection process, we narrowed the field down to just one model on any $k<=p$ predictors. We see that according to BIC, the best performer is the model with 6 variables. According to AIC and adjusted $R^2$ something a bit more complex might be better. Again, no one measure is going to give us an entirely accurate picture... but they all agree that a model with 5 or fewer predictors is insufficient."
   ]
  },
  {
   "cell_type": "markdown",
   "metadata": {},
   "source": [
    "# 6.5.2 Forward and Backward Stepwise Selection\n",
    "We can also use a similar approach to perform forward stepwise\n",
    "or backward stepwise selection, using a slight modification of the functions we defined above:"
   ]
  },
  {
   "cell_type": "code",
   "execution_count": 19,
   "metadata": {},
   "outputs": [],
   "source": [
    "def forward(y, X):\n",
    "    col_names = list(X.columns)\n",
    "    y, X = np.asarray(y), np.asarray(X)\n",
    "    # remove constant effect\n",
    "    y = y - y.mean(axis=0)\n",
    "    X = X - X.mean(axis=0)\n",
    "    \n",
    "    # total sum of squares\n",
    "    TSS = (y**2).sum()\n",
    "    \n",
    "    # Reduce dimension to p by QR\n",
    "    q, X = np.linalg.qr(X)\n",
    "    y = np.dot(q.T, y)\n",
    "    \n",
    "    \n",
    "    tv = 0\n",
    "    result = []\n",
    "    predictors = []\n",
    "    while len(col_names)>0:\n",
    "        # find best predictor from the inactive predictors\n",
    "        (c,), v = best_k(y=y, X=X, k=1)\n",
    "        tv += v\n",
    "        predictors.append(col_names.pop(c))\n",
    "        result.append(dict(num_pred=len(predictors), predictors=predictors.copy(), r2=tv/TSS))\n",
    "        \n",
    "        # remove the selected predictors from the inactive set\n",
    "        x, X = X[:,c], X[:,np.arange(X.shape[1])!=c] \n",
    "        \n",
    "        # orthogonalize the inactive predictors with respect to the just selected one.\n",
    "        x = x/np.linalg.norm(x)\n",
    "        y = y - np.dot(y,x)*x\n",
    "        X = X - np.outer(x, np.dot(x.T, X))\n",
    "    return pd.DataFrame(result).set_index('num_pred')\n"
   ]
  },
  {
   "cell_type": "markdown",
   "metadata": {},
   "source": [
    "Now let's see how much faster it runs!"
   ]
  },
  {
   "cell_type": "code",
   "execution_count": 20,
   "metadata": {},
   "outputs": [
    {
     "data": {
      "text/html": [
       "<div>\n",
       "<style scoped>\n",
       "    .dataframe tbody tr th:only-of-type {\n",
       "        vertical-align: middle;\n",
       "    }\n",
       "\n",
       "    .dataframe tbody tr th {\n",
       "        vertical-align: top;\n",
       "    }\n",
       "\n",
       "    .dataframe thead th {\n",
       "        text-align: right;\n",
       "    }\n",
       "</style>\n",
       "<table border=\"1\" class=\"dataframe\">\n",
       "  <thead>\n",
       "    <tr style=\"text-align: right;\">\n",
       "      <th></th>\n",
       "      <th>predictors</th>\n",
       "      <th>r2</th>\n",
       "    </tr>\n",
       "    <tr>\n",
       "      <th>num_pred</th>\n",
       "      <th></th>\n",
       "      <th></th>\n",
       "    </tr>\n",
       "  </thead>\n",
       "  <tbody>\n",
       "    <tr>\n",
       "      <th>1</th>\n",
       "      <td>[CRBI]</td>\n",
       "      <td>0.321450</td>\n",
       "    </tr>\n",
       "    <tr>\n",
       "      <th>2</th>\n",
       "      <td>[CRBI, Hits]</td>\n",
       "      <td>0.425224</td>\n",
       "    </tr>\n",
       "    <tr>\n",
       "      <th>3</th>\n",
       "      <td>[CRBI, Hits, PutOuts]</td>\n",
       "      <td>0.451429</td>\n",
       "    </tr>\n",
       "    <tr>\n",
       "      <th>4</th>\n",
       "      <td>[CRBI, Hits, PutOuts, Division_W]</td>\n",
       "      <td>0.475407</td>\n",
       "    </tr>\n",
       "    <tr>\n",
       "      <th>5</th>\n",
       "      <td>[CRBI, Hits, PutOuts, Division_W, AtBat]</td>\n",
       "      <td>0.490804</td>\n",
       "    </tr>\n",
       "    <tr>\n",
       "      <th>6</th>\n",
       "      <td>[CRBI, Hits, PutOuts, Division_W, AtBat, Walks]</td>\n",
       "      <td>0.508715</td>\n",
       "    </tr>\n",
       "    <tr>\n",
       "      <th>7</th>\n",
       "      <td>[CRBI, Hits, PutOuts, Division_W, AtBat, Walks...</td>\n",
       "      <td>0.513229</td>\n",
       "    </tr>\n",
       "    <tr>\n",
       "      <th>8</th>\n",
       "      <td>[CRBI, Hits, PutOuts, Division_W, AtBat, Walks...</td>\n",
       "      <td>0.528139</td>\n",
       "    </tr>\n",
       "    <tr>\n",
       "      <th>9</th>\n",
       "      <td>[CRBI, Hits, PutOuts, Division_W, AtBat, Walks...</td>\n",
       "      <td>0.534612</td>\n",
       "    </tr>\n",
       "    <tr>\n",
       "      <th>10</th>\n",
       "      <td>[CRBI, Hits, PutOuts, Division_W, AtBat, Walks...</td>\n",
       "      <td>0.540495</td>\n",
       "    </tr>\n",
       "    <tr>\n",
       "      <th>11</th>\n",
       "      <td>[CRBI, Hits, PutOuts, Division_W, AtBat, Walks...</td>\n",
       "      <td>0.542615</td>\n",
       "    </tr>\n",
       "    <tr>\n",
       "      <th>12</th>\n",
       "      <td>[CRBI, Hits, PutOuts, Division_W, AtBat, Walks...</td>\n",
       "      <td>0.543630</td>\n",
       "    </tr>\n",
       "    <tr>\n",
       "      <th>13</th>\n",
       "      <td>[CRBI, Hits, PutOuts, Division_W, AtBat, Walks...</td>\n",
       "      <td>0.544457</td>\n",
       "    </tr>\n",
       "    <tr>\n",
       "      <th>14</th>\n",
       "      <td>[CRBI, Hits, PutOuts, Division_W, AtBat, Walks...</td>\n",
       "      <td>0.545216</td>\n",
       "    </tr>\n",
       "    <tr>\n",
       "      <th>15</th>\n",
       "      <td>[CRBI, Hits, PutOuts, Division_W, AtBat, Walks...</td>\n",
       "      <td>0.545469</td>\n",
       "    </tr>\n",
       "    <tr>\n",
       "      <th>16</th>\n",
       "      <td>[CRBI, Hits, PutOuts, Division_W, AtBat, Walks...</td>\n",
       "      <td>0.545766</td>\n",
       "    </tr>\n",
       "    <tr>\n",
       "      <th>17</th>\n",
       "      <td>[CRBI, Hits, PutOuts, Division_W, AtBat, Walks...</td>\n",
       "      <td>0.545952</td>\n",
       "    </tr>\n",
       "    <tr>\n",
       "      <th>18</th>\n",
       "      <td>[CRBI, Hits, PutOuts, Division_W, AtBat, Walks...</td>\n",
       "      <td>0.546095</td>\n",
       "    </tr>\n",
       "    <tr>\n",
       "      <th>19</th>\n",
       "      <td>[CRBI, Hits, PutOuts, Division_W, AtBat, Walks...</td>\n",
       "      <td>0.546116</td>\n",
       "    </tr>\n",
       "  </tbody>\n",
       "</table>\n",
       "</div>"
      ],
      "text/plain": [
       "                                                 predictors        r2\n",
       "num_pred                                                             \n",
       "1                                                    [CRBI]  0.321450\n",
       "2                                              [CRBI, Hits]  0.425224\n",
       "3                                     [CRBI, Hits, PutOuts]  0.451429\n",
       "4                         [CRBI, Hits, PutOuts, Division_W]  0.475407\n",
       "5                  [CRBI, Hits, PutOuts, Division_W, AtBat]  0.490804\n",
       "6           [CRBI, Hits, PutOuts, Division_W, AtBat, Walks]  0.508715\n",
       "7         [CRBI, Hits, PutOuts, Division_W, AtBat, Walks...  0.513229\n",
       "8         [CRBI, Hits, PutOuts, Division_W, AtBat, Walks...  0.528139\n",
       "9         [CRBI, Hits, PutOuts, Division_W, AtBat, Walks...  0.534612\n",
       "10        [CRBI, Hits, PutOuts, Division_W, AtBat, Walks...  0.540495\n",
       "11        [CRBI, Hits, PutOuts, Division_W, AtBat, Walks...  0.542615\n",
       "12        [CRBI, Hits, PutOuts, Division_W, AtBat, Walks...  0.543630\n",
       "13        [CRBI, Hits, PutOuts, Division_W, AtBat, Walks...  0.544457\n",
       "14        [CRBI, Hits, PutOuts, Division_W, AtBat, Walks...  0.545216\n",
       "15        [CRBI, Hits, PutOuts, Division_W, AtBat, Walks...  0.545469\n",
       "16        [CRBI, Hits, PutOuts, Division_W, AtBat, Walks...  0.545766\n",
       "17        [CRBI, Hits, PutOuts, Division_W, AtBat, Walks...  0.545952\n",
       "18        [CRBI, Hits, PutOuts, Division_W, AtBat, Walks...  0.546095\n",
       "19        [CRBI, Hits, PutOuts, Division_W, AtBat, Walks...  0.546116"
      ]
     },
     "execution_count": 20,
     "metadata": {},
     "output_type": "execute_result"
    }
   ],
   "source": [
    "fwd_fit = forward(y=hitters.Salary, X=hitters.drop(columns=['Salary']))\n",
    "fwd_fit"
   ]
  },
  {
   "cell_type": "code",
   "execution_count": 21,
   "metadata": {},
   "outputs": [],
   "source": [
    "# fit a statsmodels linear model\n",
    "def regress_on(v):\n",
    "    return sm.OLS.from_formula('Salary ~ ' + ' + '.join(sorted(v)), data=hitters).fit()\n",
    "\n",
    "fwd_fit['model'] = [regress_on(v) for v in fwd_fit.predictors]"
   ]
  },
  {
   "cell_type": "markdown",
   "metadata": {},
   "source": [
    "Phew! That's a lot better. Let's take a look:"
   ]
  },
  {
   "cell_type": "code",
   "execution_count": 22,
   "metadata": {},
   "outputs": [
    {
     "data": {
      "text/plain": [
       "num_pred\n",
       "1     (0.3214500886678946, 0.32145008866789465)\n",
       "2     (0.42522374646677874, 0.4252237464667787)\n",
       "3     (0.45142941571795725, 0.4514294157179571)\n",
       "4     (0.47540665339478694, 0.4754066533947868)\n",
       "5      (0.4908036159635182, 0.4908036159635181)\n",
       "6      (0.5087145573589968, 0.5087145573589966)\n",
       "7      (0.5132286393324803, 0.5132286393324802)\n",
       "8      (0.5281385504329166, 0.5281385504329165)\n",
       "9      (0.5346124477924314, 0.5346124477924314)\n",
       "10     (0.5404949509407984, 0.5404949509407982)\n",
       "11     (0.5426153254254202, 0.5426153254254202)\n",
       "12      (0.543630208632163, 0.5436302086321629)\n",
       "13     (0.5444570142319775, 0.5444570142319773)\n",
       "14      (0.5452163563014891, 0.545216356301489)\n",
       "15     (0.5454692306811637, 0.5454692306811637)\n",
       "16     (0.5457655574852799, 0.5457655574852798)\n",
       "17      (0.545951808076699, 0.5459518080766989)\n",
       "18      (0.5460945223419063, 0.546094522341906)\n",
       "19     (0.5461158619125321, 0.5461158619125321)\n",
       "dtype: object"
      ]
     },
     "execution_count": 22,
     "metadata": {},
     "output_type": "execute_result"
    }
   ],
   "source": [
    "fwd_fit.apply(lambda x: (x['model'].rsquared, x['r2']), axis=1)"
   ]
  },
  {
   "cell_type": "code",
   "execution_count": 23,
   "metadata": {
    "collapsed": false,
    "jupyter": {
     "outputs_hidden": false
    }
   },
   "outputs": [
    {
     "name": "stdout",
     "output_type": "stream",
     "text": [
      "                            OLS Regression Results                            \n",
      "==============================================================================\n",
      "Dep. Variable:                 Salary   R-squared:                       0.321\n",
      "Model:                            OLS   Adj. R-squared:                  0.319\n",
      "Method:                 Least Squares   F-statistic:                     123.6\n",
      "Date:                Sat, 13 Nov 2021   Prob (F-statistic):           9.07e-24\n",
      "Time:                        06:33:35   Log-Likelihood:                -1929.1\n",
      "No. Observations:                 263   AIC:                             3862.\n",
      "Df Residuals:                     261   BIC:                             3869.\n",
      "Df Model:                           1                                         \n",
      "Covariance Type:            nonrobust                                         \n",
      "==============================================================================\n",
      "                 coef    std err          t      P>|t|      [0.025      0.975]\n",
      "------------------------------------------------------------------------------\n",
      "Intercept    274.5804     32.855      8.357      0.000     209.885     339.276\n",
      "CRBI           0.7910      0.071     11.120      0.000       0.651       0.931\n",
      "==============================================================================\n",
      "Omnibus:                       85.161   Durbin-Watson:                   1.982\n",
      "Prob(Omnibus):                  0.000   Jarque-Bera (JB):              284.349\n",
      "Skew:                           1.370   Prob(JB):                     1.80e-62\n",
      "Kurtosis:                       7.294   Cond. No.                         661.\n",
      "==============================================================================\n",
      "\n",
      "Notes:\n",
      "[1] Standard Errors assume that the covariance matrix of the errors is correctly specified.\n",
      "                            OLS Regression Results                            \n",
      "==============================================================================\n",
      "Dep. Variable:                 Salary   R-squared:                       0.425\n",
      "Model:                            OLS   Adj. R-squared:                  0.421\n",
      "Method:                 Least Squares   F-statistic:                     96.17\n",
      "Date:                Sat, 13 Nov 2021   Prob (F-statistic):           5.43e-32\n",
      "Time:                        06:33:35   Log-Likelihood:                -1907.2\n",
      "No. Observations:                 263   AIC:                             3820.\n",
      "Df Residuals:                     260   BIC:                             3831.\n",
      "Df Model:                           2                                         \n",
      "Covariance Type:            nonrobust                                         \n",
      "==============================================================================\n",
      "                 coef    std err          t      P>|t|      [0.025      0.975]\n",
      "------------------------------------------------------------------------------\n",
      "Intercept    -47.9559     55.982     -0.857      0.392    -158.193      62.281\n",
      "CRBI           0.6899      0.067     10.262      0.000       0.558       0.822\n",
      "Hits           3.3008      0.482      6.851      0.000       2.352       4.250\n",
      "==============================================================================\n",
      "Omnibus:                      117.673   Durbin-Watson:                   1.927\n",
      "Prob(Omnibus):                  0.000   Jarque-Bera (JB):              700.819\n",
      "Skew:                           1.704   Prob(JB):                    6.59e-153\n",
      "Kurtosis:                      10.235   Cond. No.                     1.24e+03\n",
      "==============================================================================\n",
      "\n",
      "Notes:\n",
      "[1] Standard Errors assume that the covariance matrix of the errors is correctly specified.\n",
      "[2] The condition number is large, 1.24e+03. This might indicate that there are\n",
      "strong multicollinearity or other numerical problems.\n"
     ]
    }
   ],
   "source": [
    "print(fwd_fit.loc[1, \"model\"].summary())\n",
    "print(fwd_fit.loc[2, \"model\"].summary())"
   ]
  },
  {
   "cell_type": "markdown",
   "metadata": {},
   "source": [
    "We see that using forward stepwise selection, the best one-variable\n",
    "model contains only `Hits`, and the best two-variable model additionally\n",
    "includes `CRBI`. Let's see how the models stack up against best subset selection:"
   ]
  },
  {
   "cell_type": "code",
   "execution_count": 24,
   "metadata": {
    "collapsed": false,
    "jupyter": {
     "outputs_hidden": false
    }
   },
   "outputs": [
    {
     "name": "stdout",
     "output_type": "stream",
     "text": [
      "Intercept      79.450947\n",
      "CAtBat         -0.375235\n",
      "CHits           1.495707\n",
      "CHmRun          1.442054\n",
      "Division_W   -129.986643\n",
      "Hits            1.283351\n",
      "PutOuts         0.236681\n",
      "Walks           3.227426\n",
      "dtype: float64\n",
      "Intercept     109.787306\n",
      "AtBat          -1.958885\n",
      "CRBI            0.853762\n",
      "CWalks         -0.305307\n",
      "Division_W   -127.122393\n",
      "Hits            7.449877\n",
      "PutOuts         0.253340\n",
      "Walks           4.913140\n",
      "dtype: float64\n"
     ]
    }
   ],
   "source": [
    "print(fit.loc[7, \"model\"].params)\n",
    "print(fwd_fit.loc[7, \"model\"].params)"
   ]
  },
  {
   "cell_type": "markdown",
   "metadata": {},
   "source": [
    "For this data, the best one-variable through six-variable\n",
    "models are each identical for best subset and forward selection.\n",
    "\n",
    "# Backward Selection\n",
    "Not much has to change to implement backward selection... just looping through the predictors in reverse!"
   ]
  },
  {
   "cell_type": "code",
   "execution_count": 25,
   "metadata": {},
   "outputs": [],
   "source": [
    "def backward(y, X):\n",
    "    col_names = list(X.columns)\n",
    "    y, X = np.asarray(y), np.asarray(X)\n",
    "    \n",
    "    # remove constant effect\n",
    "    y = y - y.mean(axis=0)\n",
    "    X = X - X.mean(axis=0)\n",
    "    \n",
    "    # total sum of squares\n",
    "    TSS = (y**2).sum()\n",
    "    \n",
    "    # Reduce dimension to p by QR\n",
    "    q, X = np.linalg.qr(X)\n",
    "    y = np.dot(q.T, y)\n",
    "    \n",
    "    \n",
    "    tv = 0\n",
    "    result = []\n",
    "    while len(col_names)>1:\n",
    "        # find the best subset of the active set that misses only one predictor.\n",
    "        c, v = best_k(y=y, X=X, k=len(col_names)-1)\n",
    "        \n",
    "        # bookkeeping\n",
    "        col_names = [col_names[i] for i in c]\n",
    "        result.append(dict(num_pred=len(c), \n",
    "                           predictors=col_names, \n",
    "                           r2=v/TSS))\n",
    "        # remove the selected predictor from the active set.\n",
    "        X = X[:,c] \n",
    "    return pd.DataFrame(result).set_index('num_pred')\n"
   ]
  },
  {
   "cell_type": "code",
   "execution_count": 26,
   "metadata": {},
   "outputs": [
    {
     "name": "stdout",
     "output_type": "stream",
     "text": [
      "                                                 predictors        r2\n",
      "num_pred                                                             \n",
      "18        [AtBat, Hits, HmRun, Runs, RBI, Walks, Years, ...  0.546095\n",
      "17        [AtBat, Hits, HmRun, Runs, RBI, Walks, CAtBat,...  0.545952\n",
      "16        [AtBat, Hits, HmRun, Runs, RBI, Walks, CAtBat,...  0.545766\n",
      "15        [AtBat, Hits, HmRun, Runs, Walks, CAtBat, CHit...  0.545469\n",
      "14        [AtBat, Hits, HmRun, Runs, Walks, CAtBat, CRun...  0.545216\n",
      "13        [AtBat, Hits, Runs, Walks, CAtBat, CRuns, CRBI...  0.544457\n",
      "12        [AtBat, Hits, Runs, Walks, CAtBat, CRuns, CRBI...  0.543630\n",
      "11        [AtBat, Hits, Walks, CAtBat, CRuns, CRBI, CWal...  0.542615\n",
      "10        [AtBat, Hits, Walks, CAtBat, CRuns, CRBI, CWal...  0.540495\n",
      "9         [AtBat, Hits, Walks, CAtBat, CRuns, CRBI, CWal...  0.534612\n",
      "8         [AtBat, Hits, Walks, CRuns, CRBI, CWalks, PutO...  0.528139\n",
      "7         [AtBat, Hits, Walks, CRuns, CWalks, PutOuts, D...  0.513617\n",
      "6          [AtBat, Hits, Walks, CRuns, PutOuts, Division_W]  0.499727\n",
      "5                      [AtBat, Hits, Walks, CRuns, PutOuts]  0.484059\n",
      "4                             [AtBat, Hits, CRuns, PutOuts]  0.466405\n",
      "3                                    [Hits, CRuns, PutOuts]  0.448466\n",
      "2                                             [Hits, CRuns]  0.414779\n",
      "1                                                   [CRuns]  0.316606\n"
     ]
    }
   ],
   "source": [
    "bwd_fit = backward(y=hitters.Salary, X=hitters.drop(columns=['Salary']))\n",
    "print(bwd_fit)\n",
    "bwd_fit['model'] = [regress_on(v) for v in bwd_fit.predictors]"
   ]
  },
  {
   "cell_type": "markdown",
   "metadata": {},
   "source": [
    "For this data, the best one-variable through six-variable\n",
    "models are each identical for best subset and forward selection.\n",
    "However, the best seven-variable models identified by forward stepwise selection,\n",
    "backward stepwise selection, and best subset selection are different:"
   ]
  },
  {
   "cell_type": "code",
   "execution_count": 27,
   "metadata": {
    "collapsed": false,
    "jupyter": {
     "outputs_hidden": false
    }
   },
   "outputs": [
    {
     "name": "stdout",
     "output_type": "stream",
     "text": [
      "------------\n",
      "Best Subset:\n",
      "------------\n",
      "Intercept      79.450947\n",
      "CAtBat         -0.375235\n",
      "CHits           1.495707\n",
      "CHmRun          1.442054\n",
      "Division_W   -129.986643\n",
      "Hits            1.283351\n",
      "PutOuts         0.236681\n",
      "Walks           3.227426\n",
      "dtype: float64\n"
     ]
    }
   ],
   "source": [
    "print(\"------------\")\n",
    "print(\"Best Subset:\")\n",
    "print(\"------------\")\n",
    "print(fit.loc[7, \"model\"].params)"
   ]
  },
  {
   "cell_type": "code",
   "execution_count": 28,
   "metadata": {
    "collapsed": false,
    "jupyter": {
     "outputs_hidden": false
    }
   },
   "outputs": [
    {
     "name": "stdout",
     "output_type": "stream",
     "text": [
      "-----------------\n",
      "Foward Selection:\n",
      "-----------------\n",
      "Intercept     109.787306\n",
      "AtBat          -1.958885\n",
      "CRBI            0.853762\n",
      "CWalks         -0.305307\n",
      "Division_W   -127.122393\n",
      "Hits            7.449877\n",
      "PutOuts         0.253340\n",
      "Walks           4.913140\n",
      "dtype: float64\n"
     ]
    }
   ],
   "source": [
    "print(\"-----------------\")\n",
    "print(\"Foward Selection:\")\n",
    "print(\"-----------------\")\n",
    "print(fwd_fit.loc[7, \"model\"].params)"
   ]
  },
  {
   "cell_type": "code",
   "execution_count": 29,
   "metadata": {
    "collapsed": false,
    "jupyter": {
     "outputs_hidden": false
    }
   },
   "outputs": [
    {
     "name": "stdout",
     "output_type": "stream",
     "text": [
      "-------------------\n",
      "Backward Selection:\n",
      "-------------------\n",
      "Intercept     105.648749\n",
      "AtBat          -1.976284\n",
      "CRuns           1.129309\n",
      "CWalks         -0.716335\n",
      "Division_W   -116.169217\n",
      "Hits            6.757491\n",
      "PutOuts         0.302885\n",
      "Walks           6.055869\n",
      "dtype: float64\n"
     ]
    }
   ],
   "source": [
    "print(\"-------------------\")\n",
    "print(\"Backward Selection:\")\n",
    "print(\"-------------------\")\n",
    "print(bwd_fit.loc[7, \"model\"].params)"
   ]
  },
  {
   "cell_type": "code",
   "execution_count": null,
   "metadata": {},
   "outputs": [],
   "source": []
  }
 ],
 "metadata": {
  "anaconda-cloud": {},
  "kernelspec": {
   "display_name": "base",
   "language": "python",
   "name": "python3"
  },
  "language_info": {
   "codemirror_mode": {
    "name": "ipython",
    "version": 3
   },
   "file_extension": ".py",
   "mimetype": "text/x-python",
   "name": "python",
   "nbconvert_exporter": "python",
   "pygments_lexer": "ipython3",
   "version": "3.8.13 | packaged by conda-forge | (default, Mar 25 2022, 06:04:10) \n[GCC 10.3.0]"
  },
  "vscode": {
   "interpreter": {
    "hash": "d8b53ac59aeb7dd99955ed1c7af180cec0b2adbd03b0a8162d4077beb5f10154"
   }
  },
  "widgets": {
   "application/vnd.jupyter.widget-state+json": {
    "state": {},
    "version_major": 2,
    "version_minor": 0
   }
  }
 },
 "nbformat": 4,
 "nbformat_minor": 4
}
