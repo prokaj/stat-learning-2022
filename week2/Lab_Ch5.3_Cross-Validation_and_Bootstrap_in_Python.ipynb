{
 "cells": [
  {
   "cell_type": "markdown",
   "metadata": {},
   "source": [
    "This lab on Cross-Validation is a python adaptation of p. 190-194 of \"Introduction to Statistical Learning\n",
    "with Applications in R\" by Gareth James, Daniela Witten, Trevor Hastie and Robert Tibshirani. \n",
    "It is based on the work of R. Jordan Crouser at Smith College for SDS293: Machine Learning (Spring 2016).\n",
    "\n",
    "\n",
    "\n",
    "# 5.3.1 The Validation Set Approach"
   ]
  },
  {
   "cell_type": "markdown",
   "metadata": {},
   "source": [
    "Before you start upgrade your scikit-learn library to version 1.0. "
   ]
  },
  {
   "cell_type": "code",
   "execution_count": 1,
   "metadata": {},
   "outputs": [
    {
     "name": "stdout",
     "output_type": "stream",
     "text": [
      "Your sklearn version=`1.1.2` seems to be up to date\n"
     ]
    }
   ],
   "source": [
    "def check_sklearn():\n",
    "    from importlib_metadata import metadata\n",
    "    version = metadata('scikit-learn').get('Version')\n",
    "    # print(version)\n",
    "    major, minor = list(map(int, version.split('.')[:2]))\n",
    "    if major==0:\n",
    "        print(f\"sklearn version is {version}, please upgrade by uncommenting and running the next cell!\")\n",
    "    else:\n",
    "        print(f\"Your sklearn version=`{version}` seems to be up to date\") \n",
    "check_sklearn()"
   ]
  },
  {
   "cell_type": "code",
   "execution_count": 2,
   "metadata": {},
   "outputs": [],
   "source": [
    "#! pip install -U scikit-learn"
   ]
  },
  {
   "cell_type": "code",
   "execution_count": 2,
   "metadata": {
    "collapsed": false,
    "jupyter": {
     "outputs_hidden": false
    }
   },
   "outputs": [],
   "source": [
    "import pandas as pd\n",
    "import numpy as np\n",
    "import sklearn.linear_model as skl_lm\n",
    "from sklearn.model_selection import train_test_split\n",
    "import matplotlib.pyplot as plt\n",
    "import statsmodels.datasets as smd"
   ]
  },
  {
   "cell_type": "markdown",
   "metadata": {},
   "source": [
    "In this section, we'll explore the use of the validation set approach in order to estimate the\n",
    "test error rates that result from fitting various linear models on the `Auto` data set."
   ]
  },
  {
   "cell_type": "code",
   "execution_count": 3,
   "metadata": {
    "collapsed": false,
    "jupyter": {
     "outputs_hidden": false
    }
   },
   "outputs": [
    {
     "name": "stdout",
     "output_type": "stream",
     "text": [
      "<class 'pandas.core.frame.DataFrame'>\n",
      "Index: 392 entries, chevrolet chevelle malibu to chevy s-10\n",
      "Data columns (total 8 columns):\n",
      " #   Column        Non-Null Count  Dtype  \n",
      "---  ------        --------------  -----  \n",
      " 0   mpg           392 non-null    float64\n",
      " 1   cylinders     392 non-null    int64  \n",
      " 2   displacement  392 non-null    float64\n",
      " 3   horsepower    392 non-null    int64  \n",
      " 4   weight        392 non-null    int64  \n",
      " 5   acceleration  392 non-null    float64\n",
      " 6   year          392 non-null    int64  \n",
      " 7   origin        392 non-null    int64  \n",
      "dtypes: float64(3), int64(5)\n",
      "memory usage: 27.6+ KB\n"
     ]
    }
   ],
   "source": [
    "df1 = smd.get_rdataset('Auto', 'ISLR').data.set_index('name')\n",
    "df1.info()"
   ]
  },
  {
   "cell_type": "markdown",
   "metadata": {},
   "source": [
    "We begin by using the `sample()` function to split the set of observations\n",
    "into two halves, by selecting a random subset of 196 observations out of\n",
    "the original 392 observations. We refer to these observations as the training\n",
    "set.\n",
    "\n",
    "We'll use the `random_state` parameter in order to set a seed for\n",
    "`python`’s random number generator, so that you'll obtain precisely the same results each time. It is generally a good idea to set a random seed when performing an analysis such as cross-validation\n",
    "that contains an element of randomness, so that the results obtained can be reproduced precisely at a later time."
   ]
  },
  {
   "cell_type": "code",
   "execution_count": 4,
   "metadata": {
    "collapsed": false,
    "jupyter": {
     "outputs_hidden": false
    }
   },
   "outputs": [
    {
     "name": "stdout",
     "output_type": "stream",
     "text": [
      "Index(['amc ambassador brougham', 'amc ambassador dpl', 'amc ambassador sst',\n",
      "       'amc gremlin', 'amc gremlin', 'amc hornet', 'amc hornet', 'amc hornet',\n",
      "       'amc hornet', 'amc hornet sportabout (sw)',\n",
      "       ...\n",
      "       'volkswagen rabbit l', 'volkswagen type 3', 'volvo 144ea',\n",
      "       'volvo 264gl', 'volvo diesel', 'vw dasher (diesel)', 'vw pickup',\n",
      "       'vw rabbit', 'vw rabbit c (diesel)', 'vw rabbit custom'],\n",
      "      dtype='object', name='name', length=196) Index(['amc concord', 'amc concord', 'amc concord d/l', 'amc concord dl 6',\n",
      "       'amc pacer d/l', 'amc rebel sst', 'audi 100 ls', 'audi 5000s (diesel)',\n",
      "       'bmw 320i', 'buick century limited',\n",
      "       ...\n",
      "       'toyota tercel', 'volkswagen 411 (sw)', 'volkswagen model 111',\n",
      "       'volkswagen rabbit custom', 'volkswagen rabbit custom diesel',\n",
      "       'volkswagen scirocco', 'volkswagen super beetle', 'volvo 145e (sw)',\n",
      "       'volvo 244dl', 'volvo 245'],\n",
      "      dtype='object', name='name', length=154)\n"
     ]
    }
   ],
   "source": [
    "train_df = df1.sample(196, random_state = 1)\n",
    "test_df = df1[~df1.index.isin(train_df.index)].dropna(how = 'all')\n",
    "print(train_df.index.sort_values(), test_df.index.sort_values())\n",
    "\n",
    "\n",
    "def extract(df,y_name=None, X_names=None):\n",
    "    res = dict(X = df[X_names] if X_names else df.drop(columns=[y_name]))\n",
    "    if y_name:\n",
    "        res['y'] = df[y_name]\n",
    "    return res \n",
    "\n",
    "## or using sklearn\n",
    "use_sklearn = True\n",
    "if use_sklearn:\n",
    "    train_df, test_df = train_test_split(df1, test_size=len(df1)-196, shuffle=True, random_state=1)\n",
    "    # print(train_df.index.sort_values(), test_df.index.sort_values())\n",
    "    \n",
    "    # people typically do this\n",
    "    X_train, X_test, y_train,y_test = train_test_split(df1[['horsepower']], df1.mpg, test_size=len(df1)-196, shuffle=True, random_state=1)\n",
    "    #print(X_train.head())\n",
    "    #print(y_train.head())\n",
    "    \n",
    "# print(extract(train_df,'mpg','horsepower'))"
   ]
  },
  {
   "cell_type": "markdown",
   "metadata": {},
   "source": [
    "We then use `LinearRegression()` to fit a linear regression to predict `mpg` from `horsepower` using only\n",
    "the observations corresponding to the training set."
   ]
  },
  {
   "cell_type": "code",
   "execution_count": 6,
   "metadata": {
    "collapsed": false,
    "jupyter": {
     "outputs_hidden": false
    }
   },
   "outputs": [
    {
     "data": {
      "text/html": [
       "<style>#sk-container-id-2 {color: black;background-color: white;}#sk-container-id-2 pre{padding: 0;}#sk-container-id-2 div.sk-toggleable {background-color: white;}#sk-container-id-2 label.sk-toggleable__label {cursor: pointer;display: block;width: 100%;margin-bottom: 0;padding: 0.3em;box-sizing: border-box;text-align: center;}#sk-container-id-2 label.sk-toggleable__label-arrow:before {content: \"▸\";float: left;margin-right: 0.25em;color: #696969;}#sk-container-id-2 label.sk-toggleable__label-arrow:hover:before {color: black;}#sk-container-id-2 div.sk-estimator:hover label.sk-toggleable__label-arrow:before {color: black;}#sk-container-id-2 div.sk-toggleable__content {max-height: 0;max-width: 0;overflow: hidden;text-align: left;background-color: #f0f8ff;}#sk-container-id-2 div.sk-toggleable__content pre {margin: 0.2em;color: black;border-radius: 0.25em;background-color: #f0f8ff;}#sk-container-id-2 input.sk-toggleable__control:checked~div.sk-toggleable__content {max-height: 200px;max-width: 100%;overflow: auto;}#sk-container-id-2 input.sk-toggleable__control:checked~label.sk-toggleable__label-arrow:before {content: \"▾\";}#sk-container-id-2 div.sk-estimator input.sk-toggleable__control:checked~label.sk-toggleable__label {background-color: #d4ebff;}#sk-container-id-2 div.sk-label input.sk-toggleable__control:checked~label.sk-toggleable__label {background-color: #d4ebff;}#sk-container-id-2 input.sk-hidden--visually {border: 0;clip: rect(1px 1px 1px 1px);clip: rect(1px, 1px, 1px, 1px);height: 1px;margin: -1px;overflow: hidden;padding: 0;position: absolute;width: 1px;}#sk-container-id-2 div.sk-estimator {font-family: monospace;background-color: #f0f8ff;border: 1px dotted black;border-radius: 0.25em;box-sizing: border-box;margin-bottom: 0.5em;}#sk-container-id-2 div.sk-estimator:hover {background-color: #d4ebff;}#sk-container-id-2 div.sk-parallel-item::after {content: \"\";width: 100%;border-bottom: 1px solid gray;flex-grow: 1;}#sk-container-id-2 div.sk-label:hover label.sk-toggleable__label {background-color: #d4ebff;}#sk-container-id-2 div.sk-serial::before {content: \"\";position: absolute;border-left: 1px solid gray;box-sizing: border-box;top: 0;bottom: 0;left: 50%;z-index: 0;}#sk-container-id-2 div.sk-serial {display: flex;flex-direction: column;align-items: center;background-color: white;padding-right: 0.2em;padding-left: 0.2em;position: relative;}#sk-container-id-2 div.sk-item {position: relative;z-index: 1;}#sk-container-id-2 div.sk-parallel {display: flex;align-items: stretch;justify-content: center;background-color: white;position: relative;}#sk-container-id-2 div.sk-item::before, #sk-container-id-2 div.sk-parallel-item::before {content: \"\";position: absolute;border-left: 1px solid gray;box-sizing: border-box;top: 0;bottom: 0;left: 50%;z-index: -1;}#sk-container-id-2 div.sk-parallel-item {display: flex;flex-direction: column;z-index: 1;position: relative;background-color: white;}#sk-container-id-2 div.sk-parallel-item:first-child::after {align-self: flex-end;width: 50%;}#sk-container-id-2 div.sk-parallel-item:last-child::after {align-self: flex-start;width: 50%;}#sk-container-id-2 div.sk-parallel-item:only-child::after {width: 0;}#sk-container-id-2 div.sk-dashed-wrapped {border: 1px dashed gray;margin: 0 0.4em 0.5em 0.4em;box-sizing: border-box;padding-bottom: 0.4em;background-color: white;}#sk-container-id-2 div.sk-label label {font-family: monospace;font-weight: bold;display: inline-block;line-height: 1.2em;}#sk-container-id-2 div.sk-label-container {text-align: center;}#sk-container-id-2 div.sk-container {/* jupyter's `normalize.less` sets `[hidden] { display: none; }` but bootstrap.min.css set `[hidden] { display: none !important; }` so we also need the `!important` here to be able to override the default hidden behavior on the sphinx rendered scikit-learn.org. See: https://github.com/scikit-learn/scikit-learn/issues/21755 */display: inline-block !important;position: relative;}#sk-container-id-2 div.sk-text-repr-fallback {display: none;}</style><div id=\"sk-container-id-2\" class=\"sk-top-container\"><div class=\"sk-text-repr-fallback\"><pre>LinearRegression()</pre><b>In a Jupyter environment, please rerun this cell to show the HTML representation or trust the notebook. <br />On GitHub, the HTML representation is unable to render, please try loading this page with nbviewer.org.</b></div><div class=\"sk-container\" hidden><div class=\"sk-item\"><div class=\"sk-estimator sk-toggleable\"><input class=\"sk-toggleable__control sk-hidden--visually\" id=\"sk-estimator-id-2\" type=\"checkbox\" checked><label for=\"sk-estimator-id-2\" class=\"sk-toggleable__label sk-toggleable__label-arrow\">LinearRegression</label><div class=\"sk-toggleable__content\"><pre>LinearRegression()</pre></div></div></div></div></div>"
      ],
      "text/plain": [
       "LinearRegression()"
      ]
     },
     "execution_count": 6,
     "metadata": {},
     "output_type": "execute_result"
    }
   ],
   "source": [
    "lm = skl_lm.LinearRegression()\n",
    "lm.fit(X=train_df[['horsepower']], y=train_df['mpg']) ## y_name='mpg', X_names=['horsepower']))"
   ]
  },
  {
   "cell_type": "markdown",
   "metadata": {},
   "source": [
    "We now use the `predict()` function to estimate the response for the test\n",
    "observations, and we use `sklearn` to caclulate the MSE."
   ]
  },
  {
   "cell_type": "code",
   "execution_count": 7,
   "metadata": {},
   "outputs": [
    {
     "data": {
      "text/plain": [
       "array([24.41268594, 27.8555737 , 27.8555737 , 22.06526247, 29.10753289,\n",
       "       26.60361451, 28.79454309, 16.11845633, 25.19516043, 28.3250584 ,\n",
       "       21.59577777, 27.6990788 , 19.2483543 , 28.63804819, 26.44711962,\n",
       "       17.68340532, 26.44711962, 32.08093595,  5.16381346, 23.94320124,\n",
       "       27.8555737 , 22.37825226, 16.11845633, 12.98855837,  8.60670122,\n",
       "       16.11845633, 28.95103799, 23.94320124, 22.37825226, 26.44711962,\n",
       "       16.90093082, 25.82114002, 15.33598184, 22.06526247, 23.16072675,\n",
       "       17.68340532, 24.72567574, 23.16072675, 29.10753289, 25.82114002,\n",
       "        9.8586604 , 12.20608388, 20.50031348, 23.94320124, 23.94320124,\n",
       "       22.37825226, 16.11845633, 28.95103799, 23.94320124,  5.94628795,\n",
       "       16.11845633, 24.72567574, 25.50815023, 26.44711962, 29.89000738,\n",
       "       24.41268594, 21.59577777, 26.29062472, 25.50815023, 30.20299717,\n",
       "       26.29062472, 26.13412982, 29.42052268, 22.37825226, 25.50815023,\n",
       "       25.50815023, 25.82114002, 14.55350735, 28.48155329, 11.42360939,\n",
       "       25.19516043, 20.03082879, 16.11845633, 27.38608901, 21.90876757,\n",
       "       27.07309921,  4.38133896, 16.11845633, 13.77103286, 26.44711962,\n",
       "       22.37825226, 26.60361451, 29.42052268, 28.0120686 , 12.20608388,\n",
       "       22.37825226, 29.10753289, 27.07309921, 29.10753289, 26.91660431,\n",
       "       27.07309921, 26.29062472, 19.2483543 ,  6.72876244,  8.60670122,\n",
       "       21.59577777, 17.68340532, 21.59577777, 26.29062472, 15.33598184,\n",
       "       25.82114002, 28.3250584 , 23.94320124, 27.8555737 , 27.8555737 ,\n",
       "       28.95103799, 25.82114002, 31.45495636, 15.64897164, 23.16072675,\n",
       "       29.42052268, 27.6990788 , 28.95103799, 25.50815023, 16.11845633,\n",
       "       25.50815023, 22.37825226, 14.86649715, 25.82114002, 26.76010941,\n",
       "       31.45495636, 25.82114002, 20.03082879, 29.42052268, 16.11845633,\n",
       "       31.14196656, 27.07309921, 15.80546654, 24.41268594, 29.42052268,\n",
       "       28.0120686 , 25.50815023, 16.11845633, 23.94320124, 24.72567574,\n",
       "       16.27495123, 24.72567574, 24.41268594, 11.42360939, 16.11845633,\n",
       "       26.29062472, 27.6990788 , 22.84773696,  9.8586604 , 24.72567574,\n",
       "       24.41268594, 28.63804819, 19.2483543 , 11.42360939, 31.29846146,\n",
       "       28.48155329, 24.41268594, 12.20608388, 24.72567574, 23.16072675,\n",
       "       27.8555737 , 29.73351248, 27.8555737 , 12.98855837, 11.42360939,\n",
       "       22.37825226, 22.69124206, 16.11845633, 25.50815023, 17.99639511,\n",
       "       23.47371655, 24.41268594, 29.10753289, 24.72567574, 23.94320124,\n",
       "       25.50815023, 25.66464513, 16.11845633, 25.19516043, 12.98855837,\n",
       "       32.39392575, 17.68340532, 22.37825226, 27.8555737 , 22.37825226,\n",
       "       23.94320124, 23.94320124, 27.38608901, 28.3250584 , 30.51598697,\n",
       "       24.56918084, 26.13412982, 28.63804819, 12.20608388,  4.38133896,\n",
       "       27.22959411, 25.82114002, 29.10753289, 32.08093595, 25.50815023,\n",
       "        9.38917571])"
      ]
     },
     "execution_count": 7,
     "metadata": {},
     "output_type": "execute_result"
    }
   ],
   "source": [
    "lm.predict(test_df[['horsepower']])"
   ]
  },
  {
   "cell_type": "code",
   "execution_count": 8,
   "metadata": {
    "collapsed": false,
    "jupyter": {
     "outputs_hidden": false
    }
   },
   "outputs": [
    {
     "name": "stdout",
     "output_type": "stream",
     "text": [
      "test MSE: 24.80\n",
      "test MSE: 24.80\n"
     ]
    }
   ],
   "source": [
    "from sklearn.metrics import mean_squared_error, make_scorer\n",
    "\n",
    "def model_mse(model, df, y_name):\n",
    "    X, y = df[model.feature_names_in_], df[y_name] \n",
    "    pred = model.predict(X)\n",
    "    return mean_squared_error(pred, y)\n",
    "\n",
    "m_mse = make_scorer(mean_squared_error)\n",
    "    \n",
    "print(f\"test MSE: {model_mse(lm, test_df, 'mpg'):.2f}\")\n",
    "print(f\"test MSE: {m_mse(lm, test_df[['horsepower']], test_df['mpg']):.2f}\")"
   ]
  },
  {
   "cell_type": "code",
   "execution_count": 11,
   "metadata": {},
   "outputs": [
    {
     "data": {
      "text/plain": [
       "\u001b[0;31mSignature:\u001b[0m      \u001b[0mm_mse\u001b[0m\u001b[0;34m(\u001b[0m\u001b[0mestimator\u001b[0m\u001b[0;34m,\u001b[0m \u001b[0mX\u001b[0m\u001b[0;34m,\u001b[0m \u001b[0my_true\u001b[0m\u001b[0;34m,\u001b[0m \u001b[0msample_weight\u001b[0m\u001b[0;34m=\u001b[0m\u001b[0;32mNone\u001b[0m\u001b[0;34m)\u001b[0m\u001b[0;34m\u001b[0m\u001b[0;34m\u001b[0m\u001b[0m\n",
       "\u001b[0;31mType:\u001b[0m           _PredictScorer\n",
       "\u001b[0;31mString form:\u001b[0m    make_scorer(mean_squared_error)\n",
       "\u001b[0;31mFile:\u001b[0m           ~/.local/lib/python3.8/site-packages/sklearn/metrics/_scorer.py\n",
       "\u001b[0;31mDocstring:\u001b[0m      <no docstring>\n",
       "\u001b[0;31mCall docstring:\u001b[0m\n",
       "Evaluate predicted target values for X relative to y_true.\n",
       "\n",
       "Parameters\n",
       "----------\n",
       "estimator : object\n",
       "    Trained estimator to use for scoring. Must have a predict_proba\n",
       "    method; the output of that is used to compute the score.\n",
       "\n",
       "X : {array-like, sparse matrix}\n",
       "    Test data that will be fed to estimator.predict.\n",
       "\n",
       "y_true : array-like\n",
       "    Gold standard target values for X.\n",
       "\n",
       "sample_weight : array-like of shape (n_samples,), default=None\n",
       "    Sample weights.\n",
       "\n",
       "Returns\n",
       "-------\n",
       "score : float\n",
       "    Score function applied to prediction of estimator on X.\n"
      ]
     },
     "metadata": {},
     "output_type": "display_data"
    }
   ],
   "source": [
    "m_mse?"
   ]
  },
  {
   "cell_type": "markdown",
   "metadata": {},
   "source": [
    "Therefore, the estimated test MSE for the linear regression fit is 25.14. We\n",
    "can use the `PolynomialFeatures()` function to estimate the test error for the polynomial\n",
    "and cubic regressions."
   ]
  },
  {
   "cell_type": "code",
   "execution_count": 9,
   "metadata": {
    "collapsed": false,
    "jupyter": {
     "outputs_hidden": false
    }
   },
   "outputs": [
    {
     "name": "stdout",
     "output_type": "stream",
     "text": [
      "Quadratic polynomial regression: test mse 18.85\n",
      "    Cubic polynomial regression: test mse 18.81\n"
     ]
    }
   ],
   "source": [
    "from sklearn.preprocessing import PolynomialFeatures\n",
    "from sklearn.pipeline import make_pipeline\n",
    "\n",
    "# Quadratic\n",
    "model = make_pipeline(PolynomialFeatures(degree=2, include_bias=False), skl_lm.LinearRegression())\n",
    "model.fit(**extract(train_df, 'mpg', ['horsepower']))          \n",
    "print(f\"Quadratic polynomial regression: test mse {model_mse(model, test_df, 'mpg'):.2f}\")\n",
    "\n",
    "# Cubic\n",
    "model = make_pipeline(PolynomialFeatures(degree=3, include_bias=False), skl_lm.LinearRegression())\n",
    "model.fit(**extract(train_df, 'mpg', ['horsepower']))          \n",
    "print(f\"    Cubic polynomial regression: test mse {model_mse(model, test_df, 'mpg'):.2f}\")\n"
   ]
  },
  {
   "cell_type": "markdown",
   "metadata": {},
   "source": [
    "These error rates are 20.94 and 20.88, respectively. If we choose a different\n",
    "training set instead, then we will obtain somewhat different errors on the\n",
    "validation set. We can test this out by setting a different random seed:"
   ]
  },
  {
   "cell_type": "code",
   "execution_count": 10,
   "metadata": {
    "collapsed": false,
    "jupyter": {
     "outputs_hidden": false
    }
   },
   "outputs": [
    {
     "name": "stdout",
     "output_type": "stream",
     "text": [
      "Degree-1: test mse 25.01\n",
      "Degree-2: test mse 20.94\n",
      "Degree-3: test mse 20.88\n"
     ]
    }
   ],
   "source": [
    "train_df = df1.sample(196, random_state = 1)\n",
    "test_df = df1[~df1.index.isin(train_df.index)].dropna(how = 'all')\n",
    "\n",
    "for d in range(1,4):\n",
    "    model = make_pipeline(PolynomialFeatures(degree=d, include_bias=False), \n",
    "                          skl_lm.LinearRegression())\n",
    "    model.fit(X=train_df[['horsepower']], y=train_df['mpg']) ## , ['horsepower']))          \n",
    "    print(f\"Degree-{d}: test mse {model_mse(model, test_df, 'mpg'):.2f}\")"
   ]
  },
  {
   "cell_type": "markdown",
   "metadata": {},
   "source": [
    "Using this split of the observations into a training set and a validation\n",
    "set, we find that the validation set error rates for the models with linear,\n",
    "quadratic, and cubic terms are 25.11, 19.72, and 19.92, respectively.\n",
    "\n",
    "These results are consistent with our previous findings: a model that\n",
    "predicts `mpg` using a quadratic function of `horsepower` performs better than\n",
    "a model that involves only a linear function of `horsepower`, and there is\n",
    "little evidence in favor of a model that uses a cubic function of `horsepower`.\n",
    "\n",
    "# 5.3.2 Leave-One-Out Cross-Validation\n",
    "\n",
    "The LOOCV estimate can be automatically computed for any generalized linear model in `R`. In `python` the `sklearn` library does not provide such a function, but it can be easily implemented."
   ]
  },
  {
   "cell_type": "code",
   "execution_count": 11,
   "metadata": {},
   "outputs": [],
   "source": [
    "def lm_loocv(X, y):\n",
    "    \"\"\"only works for OLS\"\"\"\n",
    "    X, y = np.asarray(X), np.asarray(y)\n",
    "    # include the constant effect\n",
    "    X = np.concatenate([np.ones((X.shape[0],1)),X],axis=-1)\n",
    "    q,_ = np.linalg.qr(X)\n",
    "    # Compute the leverage values\n",
    "    hat_diag = (q**2).sum(axis=1)\n",
    "    # predictions when all observations are included\n",
    "    pred = np.dot(q,np.dot(q.T,y))\n",
    "    # Corrections due to leaving out one observation (see textbook pp. 202 eq (5.2))\n",
    "    return (-y*hat_diag + pred)/(1-hat_diag), ((pred-y)/(1-hat_diag))**2\n",
    "                           "
   ]
  },
  {
   "cell_type": "code",
   "execution_count": 12,
   "metadata": {},
   "outputs": [
    {
     "name": "stdout",
     "output_type": "stream",
     "text": [
      "Folds: 392 MSE: 24.23 STD: 36.80\n"
     ]
    }
   ],
   "source": [
    "preds0, scores0 = lm_loocv(**extract(df1, 'mpg', ['horsepower']))\n",
    "print(f\"Folds: {len(scores0)} MSE: {scores0.mean():.2f} STD: {scores0.std():.2f}\")"
   ]
  },
  {
   "cell_type": "code",
   "execution_count": 13,
   "metadata": {
    "collapsed": false,
    "jupyter": {
     "outputs_hidden": false
    }
   },
   "outputs": [
    {
     "name": "stdout",
     "output_type": "stream",
     "text": [
      "Folds: 392 MSE: 24.23 STD: 36.80\n"
     ]
    }
   ],
   "source": [
    "\n",
    "from sklearn.model_selection import cross_val_score, cross_val_predict\n",
    "from sklearn.model_selection import KFold\n",
    "\n",
    "LOOCV = KFold(n_splits=len(df1), random_state=None, shuffle=False)\n",
    "\n",
    "scores = cross_val_score(skl_lm.LinearRegression(), \n",
    "                         X= df1[['horsepower']], \n",
    "                         y=df1.mpg,\n",
    "                         ## **extract(df1, 'mpg', ['horsepower']), \n",
    "                         scoring=\"neg_mean_squared_error\", \n",
    "                         cv=LOOCV,\n",
    "                         n_jobs=1)\n",
    "\n",
    "preds = cross_val_predict(skl_lm.LinearRegression(), \n",
    "                          **extract(df1, 'mpg', ['horsepower']), \n",
    "                          cv=LOOCV)\n",
    "print(f\"Folds: {len(scores)} MSE: {-scores.mean():.2f} STD: {scores.std():.2f}\")\n"
   ]
  },
  {
   "cell_type": "markdown",
   "metadata": {},
   "source": [
    "The two methods produces the same prediction, the difference is the order of the truncation error of `float64`."
   ]
  },
  {
   "cell_type": "code",
   "execution_count": 14,
   "metadata": {},
   "outputs": [
    {
     "data": {
      "text/plain": [
       "[<matplotlib.lines.Line2D at 0x7f628a13f370>]"
      ]
     },
     "execution_count": 14,
     "metadata": {},
     "output_type": "execute_result"
    },
    {
     "data": {
      "image/png": "[encoded data removed]",
      "text/plain": [
       "<Figure size 640x480 with 1 Axes>"
      ]
     },
     "metadata": {},
     "output_type": "display_data"
    }
   ],
   "source": [
    "plt.plot(preds.flatten()-preds0)"
   ]
  },
  {
   "cell_type": "markdown",
   "metadata": {},
   "source": [
    "Our cross-validation estimate for the test error is approximately 24.23. We can repeat this procedure for increasingly complex polynomial fits.\n",
    "To automate the process, we use the `for()` function to initiate a for loop\n",
    "which iteratively fits polynomial regressions for polynomials of order `i = 1`\n",
    "to `i = 5` and computes the associated cross-validation error. \n",
    "\n",
    "This command may take a couple of minutes to run."
   ]
  },
  {
   "cell_type": "code",
   "execution_count": 15,
   "metadata": {
    "collapsed": false,
    "jupyter": {
     "outputs_hidden": false
    }
   },
   "outputs": [
    {
     "name": "stdout",
     "output_type": "stream",
     "text": [
      "Degree-1 polynomial MSE: 24.23 STD: 36.80\n",
      "Degree-2 polynomial MSE: 19.25 STD: 35.00\n",
      "Degree-3 polynomial MSE: 19.33 STD: 35.77\n",
      "Degree-4 polynomial MSE: 19.42 STD: 35.68\n",
      "Degree-5 polynomial MSE: 19.03 STD: 35.32\n"
     ]
    }
   ],
   "source": [
    "v = extract(df1, \"mpg\", [\"horsepower\"])\n",
    "X,y = v['X'], v['y']\n",
    "for i in range(1,6):\n",
    "    poly = PolynomialFeatures(degree=i, include_bias=False)\n",
    "    X_current = poly.fit_transform(X)\n",
    "    scores = cross_val_score(skl_lm.LinearRegression(), \n",
    "                             X_current, \n",
    "                             y, \n",
    "                             scoring=\"neg_mean_squared_error\", \n",
    "                             cv=LOOCV,\n",
    "                             n_jobs=1)\n",
    "    \n",
    "    print(f\"Degree-{i} polynomial MSE: {-scores.mean():.2f} STD: {scores.std():.2f}\")\n"
   ]
  },
  {
   "cell_type": "code",
   "execution_count": 16,
   "metadata": {},
   "outputs": [
    {
     "name": "stdout",
     "output_type": "stream",
     "text": [
      "Degree-1 polynomial MSE: 24.23 STD: 36.80\n",
      "Degree-2 polynomial MSE: 19.25 STD: 35.00\n",
      "Degree-3 polynomial MSE: 19.33 STD: 35.77\n",
      "Degree-4 polynomial MSE: 19.42 STD: 35.68\n",
      "Degree-5 polynomial MSE: 19.03 STD: 35.32\n"
     ]
    }
   ],
   "source": [
    "v = extract(df1, \"mpg\", [\"horsepower\"])\n",
    "X,y = v['X'], v['y']\n",
    "for i in range(1,6):\n",
    "    poly = PolynomialFeatures(degree=i, include_bias=False)\n",
    "    X_current = poly.fit_transform(X)\n",
    "    preds, scores = lm_loocv(X_current, y)\n",
    "    print(f\"Degree-{i} polynomial MSE: {scores.mean():.2f} STD: {scores.std():.2f}\")\n"
   ]
  },
  {
   "cell_type": "markdown",
   "metadata": {},
   "source": [
    "Here we see a sharp drop in the estimated test MSE between\n",
    "the linear and quadratic fits, but then no clear improvement from using\n",
    "higher-order polynomials."
   ]
  },
  {
   "cell_type": "markdown",
   "metadata": {},
   "source": [
    "# 5.3.3 k-Fold Cross-Validation\n",
    "\n",
    "The `KFold` function can (intuitively) also be used to implement `k`-fold CV. Below we\n",
    "use `k = 10`, a common choice for `k`, on the `Auto` data set. We once again set\n",
    "a random seed and initialize a vector in which we will print the CV errors\n",
    "corresponding to the polynomial fits of orders one to ten."
   ]
  },
  {
   "cell_type": "code",
   "execution_count": 17,
   "metadata": {
    "collapsed": false,
    "jupyter": {
     "outputs_hidden": false
    }
   },
   "outputs": [
    {
     "name": "stdout",
     "output_type": "stream",
     "text": [
      "Degree-1  polynomial MSE: 24.10 STD: 4.82\n",
      "Degree-2  polynomial MSE: 19.18 STD: 5.13\n",
      "Degree-3  polynomial MSE: 19.21 STD: 5.14\n",
      "Degree-4  polynomial MSE: 19.21 STD: 4.93\n",
      "Degree-5  polynomial MSE: 18.76 STD: 4.70\n",
      "Degree-6  polynomial MSE: 18.64 STD: 4.51\n",
      "Degree-7  polynomial MSE: 18.81 STD: 4.57\n",
      "Degree-8  polynomial MSE: 18.98 STD: 4.71\n",
      "Degree-9  polynomial MSE: 18.94 STD: 4.87\n",
      "Degree-10 polynomial MSE: 18.79 STD: 4.84\n"
     ]
    }
   ],
   "source": [
    "cv = KFold(n_splits=10, random_state=1, shuffle=True)\n",
    "\n",
    "np.random.seed(42)\n",
    "v = extract(df1, \"mpg\", [\"horsepower\"])\n",
    "X,y = v['X'], v['y']\n",
    "for i in range(1,11):\n",
    "    model = make_pipeline(PolynomialFeatures(degree=i, include_bias=False), \n",
    "                          skl_lm.LinearRegression())\n",
    "    scores = cross_val_score(model, \n",
    "                             X=X, y=y, \n",
    "                             scoring=\"neg_mean_squared_error\", \n",
    "                             cv=cv,\n",
    "                             n_jobs=1)\n",
    "    \n",
    "    print(f\"Degree-{i:<2} polynomial MSE: {-scores.mean():.2f} STD: {scores.std():.2f}\")\n"
   ]
  },
  {
   "cell_type": "markdown",
   "metadata": {},
   "source": [
    "Notice that the computation time is **much** shorter than that of LOOCV.\n",
    "(In principle, the computation time for LOOCV for a least squares linear\n",
    "model should be faster than for `k`-fold CV, due to the availability of the\n",
    "formula (5.2) for LOOCV; however, unfortunately the `KFold()` function\n",
    "does not make use of this formula.) We still see little evidence that using\n",
    "cubic or higher-order polynomial terms leads to lower test error than simply\n",
    "using a quadratic fit.\n",
    "\n",
    "# An Application to Default Data\n",
    "\n",
    "Now that you're armed with more useful technique for resampling your data, let's try fitting a model for the `Default` dataset:"
   ]
  },
  {
   "cell_type": "code",
   "execution_count": 18,
   "metadata": {
    "collapsed": false,
    "jupyter": {
     "outputs_hidden": false
    }
   },
   "outputs": [
    {
     "name": "stdout",
     "output_type": "stream",
     "text": [
      "<class 'pandas.core.frame.DataFrame'>\n",
      "RangeIndex: 10000 entries, 0 to 9999\n",
      "Data columns (total 4 columns):\n",
      " #   Column   Non-Null Count  Dtype  \n",
      "---  ------   --------------  -----  \n",
      " 0   default  10000 non-null  object \n",
      " 1   student  10000 non-null  object \n",
      " 2   balance  10000 non-null  float64\n",
      " 3   income   10000 non-null  float64\n",
      "dtypes: float64(2), object(2)\n",
      "memory usage: 312.6+ KB\n"
     ]
    },
    {
     "data": {
      "text/plain": [
       "0       No\n",
       "1       No\n",
       "2       No\n",
       "3       No\n",
       "4       No\n",
       "        ..\n",
       "9995    No\n",
       "9996    No\n",
       "9997    No\n",
       "9998    No\n",
       "9999    No\n",
       "Name: default, Length: 10000, dtype: object"
      ]
     },
     "execution_count": 18,
     "metadata": {},
     "output_type": "execute_result"
    }
   ],
   "source": [
    "df2 = smd.get_rdataset('Default', 'ISLR')\n",
    "df2.data.__doc__= df2.__doc__\n",
    "df2 = df2.data\n",
    "# df2 = pd.read_csv('Default.csv', na_values='?').dropna()\n",
    "df2.describe()\n",
    "df2.info()\n",
    "df2.default"
   ]
  },
  {
   "cell_type": "markdown",
   "metadata": {},
   "source": [
    "First we'll try just holding out a random 20% of the data:"
   ]
  },
  {
   "cell_type": "code",
   "execution_count": 20,
   "metadata": {
    "collapsed": false,
    "jupyter": {
     "outputs_hidden": false
    }
   },
   "outputs": [],
   "source": [
    "import statsmodels.formula.api as smf\n",
    "import statsmodels.api as sm\n",
    "from sklearn.metrics import confusion_matrix, classification_report\n",
    "\n",
    "if False:\n",
    "    for i in range(1,11):\n",
    "        train_df2 = df2.sample(8000, random_state = i)\n",
    "        test_df2 = df2[~df2.isin(train_df2)].dropna(how = 'all')\n",
    "\n",
    "        # Fit a logistic regression to predict default using balance\n",
    "        model = smf.glm('default~balance', data=train_df2, family=sm.families.Binomial())\n",
    "        result = model.fit()\n",
    "        predictions_nominal = [ \"Yes\" if x < 0.5 else \"No\" for x in result.predict(test_df2)]\n",
    "        print(\"----------------\")\n",
    "        print(\"Random Seed = \" + str(i) + \"\")\n",
    "        print(\"----------------\")\n",
    "        print(confusion_matrix(test_df2[\"default\"], \n",
    "                           predictions_nominal))\n",
    "        print(classification_report(test_df2[\"default\"], \n",
    "                                predictions_nominal, \n",
    "                                digits = 3))\n",
    "        print()\n",
    "    "
   ]
  },
  {
   "cell_type": "markdown",
   "metadata": {},
   "source": [
    "Our accuracy is really high on this data, but we're getting different error rates depending on how we choose our test set. That's no good!\n",
    "\n",
    "Unfortunately this dataset is too big for us to run LOOCV, so we'll have to settle for `k`-fold. In the space below, build a logistic model on the full `Default` dataset and then run 5-fold cross-validation to get a more accurate estimate of your test error rate:"
   ]
  },
  {
   "cell_type": "code",
   "execution_count": 23,
   "metadata": {},
   "outputs": [],
   "source": [
    "# Your code here"
   ]
  },
  {
   "cell_type": "markdown",
   "metadata": {},
   "source": [
    "# 5.3.4 The Bootstrap\n",
    "\n",
    "We illustrate the use of the bootstrap in the simple example of Section 5.2,\n",
    "as well as on an example involving estimating the accuracy of the linear\n",
    "regression model on the `Auto`data set.\n",
    "\n",
    "# Estimating the Accuracy of a Statistic of Interest\n",
    "\n",
    "One of the great advantages of the bootstrap approach is that it can be\n",
    "applied in almost all situations. No complicated mathematical calculations\n",
    "are required. Performing a bootstrap analysis in R entails only two steps.\n",
    "\n",
    "- First, we must create a function that computes the statistic of interest.\n",
    "- Second, we use the `boot()` function, which is part of the boot library, to perform the bootstrap by repeatedly sampling observations from the data set with replacement.\n",
    "\n",
    "The `Portfolio` data set in the `ISLR` package is described in Section 5.2. It has variables called `X` and `Y`. "
   ]
  },
  {
   "cell_type": "code",
   "execution_count": 24,
   "metadata": {
    "collapsed": false,
    "jupyter": {
     "outputs_hidden": false
    }
   },
   "outputs": [
    {
     "data": {
      "text/html": [
       "<div>\n",
       "<style scoped>\n",
       "    .dataframe tbody tr th:only-of-type {\n",
       "        vertical-align: middle;\n",
       "    }\n",
       "\n",
       "    .dataframe tbody tr th {\n",
       "        vertical-align: top;\n",
       "    }\n",
       "\n",
       "    .dataframe thead th {\n",
       "        text-align: right;\n",
       "    }\n",
       "</style>\n",
       "<table border=\"1\" class=\"dataframe\">\n",
       "  <thead>\n",
       "    <tr style=\"text-align: right;\">\n",
       "      <th></th>\n",
       "      <th>X</th>\n",
       "      <th>Y</th>\n",
       "    </tr>\n",
       "  </thead>\n",
       "  <tbody>\n",
       "    <tr>\n",
       "      <th>0</th>\n",
       "      <td>-0.895251</td>\n",
       "      <td>-0.234924</td>\n",
       "    </tr>\n",
       "    <tr>\n",
       "      <th>1</th>\n",
       "      <td>-1.562454</td>\n",
       "      <td>-0.885176</td>\n",
       "    </tr>\n",
       "    <tr>\n",
       "      <th>2</th>\n",
       "      <td>-0.417090</td>\n",
       "      <td>0.271888</td>\n",
       "    </tr>\n",
       "    <tr>\n",
       "      <th>3</th>\n",
       "      <td>1.044356</td>\n",
       "      <td>-0.734198</td>\n",
       "    </tr>\n",
       "    <tr>\n",
       "      <th>4</th>\n",
       "      <td>-0.315568</td>\n",
       "      <td>0.841983</td>\n",
       "    </tr>\n",
       "  </tbody>\n",
       "</table>\n",
       "</div>"
      ],
      "text/plain": [
       "          X         Y\n",
       "0 -0.895251 -0.234924\n",
       "1 -1.562454 -0.885176\n",
       "2 -0.417090  0.271888\n",
       "3  1.044356 -0.734198\n",
       "4 -0.315568  0.841983"
      ]
     },
     "execution_count": 24,
     "metadata": {},
     "output_type": "execute_result"
    }
   ],
   "source": [
    "portfolio_df = smd.get_rdataset('Portfolio', 'ISLR')\n",
    "portfolio_df.data.__doc__ = portfolio_df.__doc__\n",
    "portfolio_df = portfolio_df.data\n",
    "portfolio_df.head()"
   ]
  },
  {
   "cell_type": "code",
   "execution_count": 25,
   "metadata": {},
   "outputs": [],
   "source": [
    "# print(portfolio_df.__doc__)"
   ]
  },
  {
   "cell_type": "markdown",
   "metadata": {},
   "source": [
    "To illustrate the use of the bootstrap on this data, we must first create\n",
    "a function, `alpha()`, which takes as input the data and outputs the estimate for $\\alpha$ (described in more detail on page 187)."
   ]
  },
  {
   "cell_type": "code",
   "execution_count": 26,
   "metadata": {
    "tags": []
   },
   "outputs": [],
   "source": [
    "def alpha(X,Y):\n",
    "    Sigma = np.cov(X,Y)\n",
    "    return (Sigma[1,1]-Sigma[0,1])/ (Sigma[0,0]+Sigma[1,1]-2*Sigma[0,1])"
   ]
  },
  {
   "cell_type": "markdown",
   "metadata": {},
   "source": [
    "This function returns, or outputs, an estimate for $\\alpha$ based on applying\n",
    "(5.7) to the observations indexed by the argument index. For instance, the\n",
    "following command tells `python` to estimate $\\alpha$ using all 100 observations."
   ]
  },
  {
   "cell_type": "code",
   "execution_count": 27,
   "metadata": {
    "collapsed": false,
    "jupyter": {
     "outputs_hidden": false
    }
   },
   "outputs": [
    {
     "name": "stdout",
     "output_type": "stream",
     "text": [
      "0.57583207459283\n"
     ]
    }
   ],
   "source": [
    "X = portfolio_df.X[0:100]\n",
    "y = portfolio_df.Y[0:100]\n",
    "print(alpha(X,y))"
   ]
  },
  {
   "cell_type": "markdown",
   "metadata": {},
   "source": [
    "The next command uses the `sample()` function to randomly select 100 observations\n",
    "from the range 1 to 100, with replacement. This is equivalent\n",
    "to constructing a new bootstrap data set and recomputing $\\hat{\\alpha}$ based on the\n",
    "new data set."
   ]
  },
  {
   "cell_type": "code",
   "execution_count": 28,
   "metadata": {
    "collapsed": false,
    "jupyter": {
     "outputs_hidden": false
    }
   },
   "outputs": [
    {
     "name": "stdout",
     "output_type": "stream",
     "text": [
      "0.4557262562988247\n"
     ]
    }
   ],
   "source": [
    "dfsample = portfolio_df.sample(frac=1, replace=True)\n",
    "print(alpha(**dfsample))"
   ]
  },
  {
   "cell_type": "markdown",
   "metadata": {},
   "source": [
    "We can implement a bootstrap analysis by performing this command many\n",
    "times, recording all of the corresponding estimates for $\\alpha$, and computing the resulting standard deviation. However, the `boot()`function automates\n",
    "this approach. Below we produce $1,000$ bootstrap estimates for $\\alpha$:"
   ]
  },
  {
   "cell_type": "code",
   "execution_count": 29,
   "metadata": {
    "collapsed": false,
    "jupyter": {
     "outputs_hidden": false
    }
   },
   "outputs": [
    {
     "data": {
      "text/html": [
       "<div>\n",
       "<style scoped>\n",
       "    .dataframe tbody tr th:only-of-type {\n",
       "        vertical-align: middle;\n",
       "    }\n",
       "\n",
       "    .dataframe tbody tr th {\n",
       "        vertical-align: top;\n",
       "    }\n",
       "\n",
       "    .dataframe thead th {\n",
       "        text-align: right;\n",
       "    }\n",
       "</style>\n",
       "<table border=\"1\" class=\"dataframe\">\n",
       "  <thead>\n",
       "    <tr style=\"text-align: right;\">\n",
       "      <th></th>\n",
       "      <th>alpha</th>\n",
       "    </tr>\n",
       "  </thead>\n",
       "  <tbody>\n",
       "    <tr>\n",
       "      <th>mean</th>\n",
       "      <td>0.578030</td>\n",
       "    </tr>\n",
       "    <tr>\n",
       "      <th>std</th>\n",
       "      <td>0.089962</td>\n",
       "    </tr>\n",
       "  </tbody>\n",
       "</table>\n",
       "</div>"
      ],
      "text/plain": [
       "         alpha\n",
       "mean  0.578030\n",
       "std   0.089962"
      ]
     },
     "execution_count": 29,
     "metadata": {},
     "output_type": "execute_result"
    }
   ],
   "source": [
    "def boot(df, fun, n=1000):\n",
    "    gen = range(n) if isinstance(n, int) else n\n",
    "    res = pd.DataFrame([fun(df.sample(frac=1, replace=True)) for i in gen])\n",
    "    return res.aggregate(['mean', 'std'])\n",
    "#{'mean':res.mean(axis=0), 'std':res.std(axis=0)}\n",
    "res = boot(portfolio_df, lambda x: {'alpha': alpha(**x)})\n",
    "res\n",
    "# res.aggregate(['mean', 'std'])"
   ]
  },
  {
   "cell_type": "markdown",
   "metadata": {},
   "source": [
    "The final output shows that using the original data, $\\hat{\\alpha} = 0.58$, and that the bootstrap estimate for $SE(\\hat{\\alpha})$ is 0.09.\n",
    "\n",
    "# Estimating the Accuracy of a Linear Regression Model\n",
    "\n",
    "The bootstrap approach can be used to assess the variability of the coefficient\n",
    "estimates and predictions from a statistical learning method. Here\n",
    "we use the bootstrap approach in order to assess the variability of the\n",
    "estimates for $\\beta_0$ and $\\beta_1$, the intercept and slope terms for the linear regression\n",
    "model that uses horsepower to predict mpg in the Auto data set. We\n",
    "will compare the estimates obtained using the bootstrap to those obtained\n",
    "using the formulas for $SE(\\hat{\\beta}_0)$ and $SE(\\hat{\\beta}_1)$ described in Section 3.1.2.\n",
    "\n",
    "First let's refresh our memory about a linear model of the `Auto` dataset:"
   ]
  },
  {
   "cell_type": "code",
   "execution_count": 23,
   "metadata": {
    "collapsed": false,
    "jupyter": {
     "outputs_hidden": false
    }
   },
   "outputs": [
    {
     "data": {
      "text/html": [
       "<div>\n",
       "<style scoped>\n",
       "    .dataframe tbody tr th:only-of-type {\n",
       "        vertical-align: middle;\n",
       "    }\n",
       "\n",
       "    .dataframe tbody tr th {\n",
       "        vertical-align: top;\n",
       "    }\n",
       "\n",
       "    .dataframe thead th {\n",
       "        text-align: right;\n",
       "    }\n",
       "</style>\n",
       "<table border=\"1\" class=\"dataframe\">\n",
       "  <thead>\n",
       "    <tr style=\"text-align: right;\">\n",
       "      <th></th>\n",
       "      <th>mpg</th>\n",
       "      <th>cylinders</th>\n",
       "      <th>displacement</th>\n",
       "      <th>horsepower</th>\n",
       "      <th>weight</th>\n",
       "      <th>acceleration</th>\n",
       "      <th>year</th>\n",
       "      <th>origin</th>\n",
       "    </tr>\n",
       "  </thead>\n",
       "  <tbody>\n",
       "    <tr>\n",
       "      <th>count</th>\n",
       "      <td>392.000000</td>\n",
       "      <td>392.000000</td>\n",
       "      <td>392.000000</td>\n",
       "      <td>392.000000</td>\n",
       "      <td>392.000000</td>\n",
       "      <td>392.000000</td>\n",
       "      <td>392.000000</td>\n",
       "      <td>392.000000</td>\n",
       "    </tr>\n",
       "    <tr>\n",
       "      <th>mean</th>\n",
       "      <td>23.445918</td>\n",
       "      <td>5.471939</td>\n",
       "      <td>194.411990</td>\n",
       "      <td>104.469388</td>\n",
       "      <td>2977.584184</td>\n",
       "      <td>15.541327</td>\n",
       "      <td>75.979592</td>\n",
       "      <td>1.576531</td>\n",
       "    </tr>\n",
       "    <tr>\n",
       "      <th>std</th>\n",
       "      <td>7.805007</td>\n",
       "      <td>1.705783</td>\n",
       "      <td>104.644004</td>\n",
       "      <td>38.491160</td>\n",
       "      <td>849.402560</td>\n",
       "      <td>2.758864</td>\n",
       "      <td>3.683737</td>\n",
       "      <td>0.805518</td>\n",
       "    </tr>\n",
       "    <tr>\n",
       "      <th>min</th>\n",
       "      <td>9.000000</td>\n",
       "      <td>3.000000</td>\n",
       "      <td>68.000000</td>\n",
       "      <td>46.000000</td>\n",
       "      <td>1613.000000</td>\n",
       "      <td>8.000000</td>\n",
       "      <td>70.000000</td>\n",
       "      <td>1.000000</td>\n",
       "    </tr>\n",
       "    <tr>\n",
       "      <th>25%</th>\n",
       "      <td>17.000000</td>\n",
       "      <td>4.000000</td>\n",
       "      <td>105.000000</td>\n",
       "      <td>75.000000</td>\n",
       "      <td>2225.250000</td>\n",
       "      <td>13.775000</td>\n",
       "      <td>73.000000</td>\n",
       "      <td>1.000000</td>\n",
       "    </tr>\n",
       "    <tr>\n",
       "      <th>50%</th>\n",
       "      <td>22.750000</td>\n",
       "      <td>4.000000</td>\n",
       "      <td>151.000000</td>\n",
       "      <td>93.500000</td>\n",
       "      <td>2803.500000</td>\n",
       "      <td>15.500000</td>\n",
       "      <td>76.000000</td>\n",
       "      <td>1.000000</td>\n",
       "    </tr>\n",
       "    <tr>\n",
       "      <th>75%</th>\n",
       "      <td>29.000000</td>\n",
       "      <td>8.000000</td>\n",
       "      <td>275.750000</td>\n",
       "      <td>126.000000</td>\n",
       "      <td>3614.750000</td>\n",
       "      <td>17.025000</td>\n",
       "      <td>79.000000</td>\n",
       "      <td>2.000000</td>\n",
       "    </tr>\n",
       "    <tr>\n",
       "      <th>max</th>\n",
       "      <td>46.600000</td>\n",
       "      <td>8.000000</td>\n",
       "      <td>455.000000</td>\n",
       "      <td>230.000000</td>\n",
       "      <td>5140.000000</td>\n",
       "      <td>24.800000</td>\n",
       "      <td>82.000000</td>\n",
       "      <td>3.000000</td>\n",
       "    </tr>\n",
       "  </tbody>\n",
       "</table>\n",
       "</div>"
      ],
      "text/plain": [
       "              mpg   cylinders  displacement  horsepower       weight  \\\n",
       "count  392.000000  392.000000    392.000000  392.000000   392.000000   \n",
       "mean    23.445918    5.471939    194.411990  104.469388  2977.584184   \n",
       "std      7.805007    1.705783    104.644004   38.491160   849.402560   \n",
       "min      9.000000    3.000000     68.000000   46.000000  1613.000000   \n",
       "25%     17.000000    4.000000    105.000000   75.000000  2225.250000   \n",
       "50%     22.750000    4.000000    151.000000   93.500000  2803.500000   \n",
       "75%     29.000000    8.000000    275.750000  126.000000  3614.750000   \n",
       "max     46.600000    8.000000    455.000000  230.000000  5140.000000   \n",
       "\n",
       "       acceleration        year      origin  \n",
       "count    392.000000  392.000000  392.000000  \n",
       "mean      15.541327   75.979592    1.576531  \n",
       "std        2.758864    3.683737    0.805518  \n",
       "min        8.000000   70.000000    1.000000  \n",
       "25%       13.775000   73.000000    1.000000  \n",
       "50%       15.500000   76.000000    1.000000  \n",
       "75%       17.025000   79.000000    2.000000  \n",
       "max       24.800000   82.000000    3.000000  "
      ]
     },
     "execution_count": 23,
     "metadata": {},
     "output_type": "execute_result"
    }
   ],
   "source": [
    "auto_df = smd.get_rdataset('Auto', 'ISLR')\n",
    "auto_df.data.__doc__ = auto_df.__doc__\n",
    "auto_df = auto_df.data.dropna()\n",
    "auto_df.describe()"
   ]
  },
  {
   "cell_type": "code",
   "execution_count": 24,
   "metadata": {
    "collapsed": false,
    "jupyter": {
     "outputs_hidden": false
    }
   },
   "outputs": [
    {
     "name": "stdout",
     "output_type": "stream",
     "text": [
      "[-0.15784473] 39.93586102117047\n"
     ]
    }
   ],
   "source": [
    "clf = skl_lm.LinearRegression().fit(**extract(auto_df, 'mpg', ['horsepower']))\n",
    "print(clf.coef_, clf.intercept_)"
   ]
  },
  {
   "cell_type": "markdown",
   "metadata": {},
   "source": [
    "Next, we use the `boot()`function to compute the standard errors of 1,000\n",
    "bootstrap estimates for the intercept and slope terms:"
   ]
  },
  {
   "cell_type": "code",
   "execution_count": 21,
   "metadata": {},
   "outputs": [],
   "source": [
    "def boot(df, fun, n=1000):\n",
    "    gen = range(n) if isinstance(n, int) else n\n",
    "    res = pd.DataFrame([fun(df.sample(frac=1, replace=True)) for i in gen])\n",
    "    return res.aggregate(['mean', 'std'])"
   ]
  },
  {
   "cell_type": "code",
   "execution_count": 25,
   "metadata": {
    "collapsed": false,
    "jupyter": {
     "outputs_hidden": false
    }
   },
   "outputs": [
    {
     "data": {
      "application/vnd.jupyter.widget-view+json": {
       "model_id": "d26b7695e13b4e61893182ae563bdb6b",
       "version_major": 2,
       "version_minor": 0
      },
      "text/plain": [
       "  0%|          | 0/1000 [00:00<?, ?it/s]"
      ]
     },
     "metadata": {},
     "output_type": "display_data"
    },
    {
     "data": {
      "text/html": [
       "<div>\n",
       "<style scoped>\n",
       "    .dataframe tbody tr th:only-of-type {\n",
       "        vertical-align: middle;\n",
       "    }\n",
       "\n",
       "    .dataframe tbody tr th {\n",
       "        vertical-align: top;\n",
       "    }\n",
       "\n",
       "    .dataframe thead th {\n",
       "        text-align: right;\n",
       "    }\n",
       "</style>\n",
       "<table border=\"1\" class=\"dataframe\">\n",
       "  <thead>\n",
       "    <tr style=\"text-align: right;\">\n",
       "      <th></th>\n",
       "      <th>horsepower</th>\n",
       "      <th>intercept</th>\n",
       "    </tr>\n",
       "  </thead>\n",
       "  <tbody>\n",
       "    <tr>\n",
       "      <th>mean</th>\n",
       "      <td>-0.158345</td>\n",
       "      <td>39.969382</td>\n",
       "    </tr>\n",
       "    <tr>\n",
       "      <th>std</th>\n",
       "      <td>0.007503</td>\n",
       "      <td>0.869087</td>\n",
       "    </tr>\n",
       "  </tbody>\n",
       "</table>\n",
       "</div>"
      ],
      "text/plain": [
       "      horsepower  intercept\n",
       "mean   -0.158345  39.969382\n",
       "std     0.007503   0.869087"
      ]
     },
     "execution_count": 25,
     "metadata": {},
     "output_type": "execute_result"
    }
   ],
   "source": [
    "from sklearn.utils import resample\n",
    "from sklearn.metrics import mean_squared_error\n",
    "from tqdm.auto import tqdm\n",
    "\n",
    "df = auto_df[['mpg','horsepower']]\n",
    "\n",
    "np.random.seed(42)\n",
    "\n",
    "def intercept_slope(df):\n",
    "    fitted = skl_lm.LinearRegression().fit(**extract(df, 'mpg'))\n",
    "    res = dict(zip(fitted.feature_names_in_, fitted.coef_))\n",
    "    res['intercept'] = fitted.intercept_\n",
    "    return res\n",
    "    \n",
    "boot(df, intercept_slope, n=tqdm(range(1000)))\n"
   ]
  },
  {
   "cell_type": "code",
   "execution_count": 26,
   "metadata": {},
   "outputs": [
    {
     "data": {
      "application/vnd.jupyter.widget-view+json": {
       "model_id": "2ff870a1ee724132afe497f71e40eeda",
       "version_major": 2,
       "version_minor": 0
      },
      "text/plain": [
       "  0%|          | 0/1000 [00:00<?, ?it/s]"
      ]
     },
     "metadata": {},
     "output_type": "display_data"
    },
    {
     "data": {
      "text/html": [
       "<div>\n",
       "<style scoped>\n",
       "    .dataframe tbody tr th:only-of-type {\n",
       "        vertical-align: middle;\n",
       "    }\n",
       "\n",
       "    .dataframe tbody tr th {\n",
       "        vertical-align: top;\n",
       "    }\n",
       "\n",
       "    .dataframe thead th {\n",
       "        text-align: right;\n",
       "    }\n",
       "</style>\n",
       "<table border=\"1\" class=\"dataframe\">\n",
       "  <thead>\n",
       "    <tr style=\"text-align: right;\">\n",
       "      <th></th>\n",
       "      <th>horsepower</th>\n",
       "      <th>horsepower^2</th>\n",
       "      <th>intercept</th>\n",
       "    </tr>\n",
       "  </thead>\n",
       "  <tbody>\n",
       "    <tr>\n",
       "      <th>mean</th>\n",
       "      <td>-0.466665</td>\n",
       "      <td>0.001233</td>\n",
       "      <td>56.919738</td>\n",
       "    </tr>\n",
       "    <tr>\n",
       "      <th>std</th>\n",
       "      <td>0.034252</td>\n",
       "      <td>0.000123</td>\n",
       "      <td>2.150039</td>\n",
       "    </tr>\n",
       "  </tbody>\n",
       "</table>\n",
       "</div>"
      ],
      "text/plain": [
       "      horsepower  horsepower^2  intercept\n",
       "mean   -0.466665      0.001233  56.919738\n",
       "std     0.034252      0.000123   2.150039"
      ]
     },
     "execution_count": 26,
     "metadata": {},
     "output_type": "execute_result"
    }
   ],
   "source": [
    "def intercept_slope(df):\n",
    "    fitted = make_pipeline(PolynomialFeatures(2, include_bias=False), \n",
    "                           skl_lm.LinearRegression()).fit(**extract(df, 'mpg'))\n",
    "    res = dict(zip(fitted[0].get_feature_names_out(), fitted[-1].coef_))\n",
    "    res['intercept'] = fitted[-1].intercept_\n",
    "    return res\n",
    "\n",
    "boot(df, intercept_slope, n=tqdm(range(1000)))"
   ]
  },
  {
   "cell_type": "code",
   "execution_count": 27,
   "metadata": {},
   "outputs": [
    {
     "data": {
      "text/html": [
       "<style>#sk-container-id-3 {color: black;background-color: white;}#sk-container-id-3 pre{padding: 0;}#sk-container-id-3 div.sk-toggleable {background-color: white;}#sk-container-id-3 label.sk-toggleable__label {cursor: pointer;display: block;width: 100%;margin-bottom: 0;padding: 0.3em;box-sizing: border-box;text-align: center;}#sk-container-id-3 label.sk-toggleable__label-arrow:before {content: \"▸\";float: left;margin-right: 0.25em;color: #696969;}#sk-container-id-3 label.sk-toggleable__label-arrow:hover:before {color: black;}#sk-container-id-3 div.sk-estimator:hover label.sk-toggleable__label-arrow:before {color: black;}#sk-container-id-3 div.sk-toggleable__content {max-height: 0;max-width: 0;overflow: hidden;text-align: left;background-color: #f0f8ff;}#sk-container-id-3 div.sk-toggleable__content pre {margin: 0.2em;color: black;border-radius: 0.25em;background-color: #f0f8ff;}#sk-container-id-3 input.sk-toggleable__control:checked~div.sk-toggleable__content {max-height: 200px;max-width: 100%;overflow: auto;}#sk-container-id-3 input.sk-toggleable__control:checked~label.sk-toggleable__label-arrow:before {content: \"▾\";}#sk-container-id-3 div.sk-estimator input.sk-toggleable__control:checked~label.sk-toggleable__label {background-color: #d4ebff;}#sk-container-id-3 div.sk-label input.sk-toggleable__control:checked~label.sk-toggleable__label {background-color: #d4ebff;}#sk-container-id-3 input.sk-hidden--visually {border: 0;clip: rect(1px 1px 1px 1px);clip: rect(1px, 1px, 1px, 1px);height: 1px;margin: -1px;overflow: hidden;padding: 0;position: absolute;width: 1px;}#sk-container-id-3 div.sk-estimator {font-family: monospace;background-color: #f0f8ff;border: 1px dotted black;border-radius: 0.25em;box-sizing: border-box;margin-bottom: 0.5em;}#sk-container-id-3 div.sk-estimator:hover {background-color: #d4ebff;}#sk-container-id-3 div.sk-parallel-item::after {content: \"\";width: 100%;border-bottom: 1px solid gray;flex-grow: 1;}#sk-container-id-3 div.sk-label:hover label.sk-toggleable__label {background-color: #d4ebff;}#sk-container-id-3 div.sk-serial::before {content: \"\";position: absolute;border-left: 1px solid gray;box-sizing: border-box;top: 0;bottom: 0;left: 50%;z-index: 0;}#sk-container-id-3 div.sk-serial {display: flex;flex-direction: column;align-items: center;background-color: white;padding-right: 0.2em;padding-left: 0.2em;position: relative;}#sk-container-id-3 div.sk-item {position: relative;z-index: 1;}#sk-container-id-3 div.sk-parallel {display: flex;align-items: stretch;justify-content: center;background-color: white;position: relative;}#sk-container-id-3 div.sk-item::before, #sk-container-id-3 div.sk-parallel-item::before {content: \"\";position: absolute;border-left: 1px solid gray;box-sizing: border-box;top: 0;bottom: 0;left: 50%;z-index: -1;}#sk-container-id-3 div.sk-parallel-item {display: flex;flex-direction: column;z-index: 1;position: relative;background-color: white;}#sk-container-id-3 div.sk-parallel-item:first-child::after {align-self: flex-end;width: 50%;}#sk-container-id-3 div.sk-parallel-item:last-child::after {align-self: flex-start;width: 50%;}#sk-container-id-3 div.sk-parallel-item:only-child::after {width: 0;}#sk-container-id-3 div.sk-dashed-wrapped {border: 1px dashed gray;margin: 0 0.4em 0.5em 0.4em;box-sizing: border-box;padding-bottom: 0.4em;background-color: white;}#sk-container-id-3 div.sk-label label {font-family: monospace;font-weight: bold;display: inline-block;line-height: 1.2em;}#sk-container-id-3 div.sk-label-container {text-align: center;}#sk-container-id-3 div.sk-container {/* jupyter's `normalize.less` sets `[hidden] { display: none; }` but bootstrap.min.css set `[hidden] { display: none !important; }` so we also need the `!important` here to be able to override the default hidden behavior on the sphinx rendered scikit-learn.org. See: https://github.com/scikit-learn/scikit-learn/issues/21755 */display: inline-block !important;position: relative;}#sk-container-id-3 div.sk-text-repr-fallback {display: none;}</style><div id=\"sk-container-id-3\" class=\"sk-top-container\"><div class=\"sk-text-repr-fallback\"><pre>Pipeline(steps=[(&#x27;polynomialfeatures&#x27;, PolynomialFeatures(include_bias=False)),\n",
       "                (&#x27;linearregression&#x27;, LinearRegression())])</pre><b>In a Jupyter environment, please rerun this cell to show the HTML representation or trust the notebook. <br />On GitHub, the HTML representation is unable to render, please try loading this page with nbviewer.org.</b></div><div class=\"sk-container\" hidden><div class=\"sk-item sk-dashed-wrapped\"><div class=\"sk-label-container\"><div class=\"sk-label sk-toggleable\"><input class=\"sk-toggleable__control sk-hidden--visually\" id=\"sk-estimator-id-3\" type=\"checkbox\" ><label for=\"sk-estimator-id-3\" class=\"sk-toggleable__label sk-toggleable__label-arrow\">Pipeline</label><div class=\"sk-toggleable__content\"><pre>Pipeline(steps=[(&#x27;polynomialfeatures&#x27;, PolynomialFeatures(include_bias=False)),\n",
       "                (&#x27;linearregression&#x27;, LinearRegression())])</pre></div></div></div><div class=\"sk-serial\"><div class=\"sk-item\"><div class=\"sk-estimator sk-toggleable\"><input class=\"sk-toggleable__control sk-hidden--visually\" id=\"sk-estimator-id-4\" type=\"checkbox\" ><label for=\"sk-estimator-id-4\" class=\"sk-toggleable__label sk-toggleable__label-arrow\">PolynomialFeatures</label><div class=\"sk-toggleable__content\"><pre>PolynomialFeatures(include_bias=False)</pre></div></div></div><div class=\"sk-item\"><div class=\"sk-estimator sk-toggleable\"><input class=\"sk-toggleable__control sk-hidden--visually\" id=\"sk-estimator-id-5\" type=\"checkbox\" ><label for=\"sk-estimator-id-5\" class=\"sk-toggleable__label sk-toggleable__label-arrow\">LinearRegression</label><div class=\"sk-toggleable__content\"><pre>LinearRegression()</pre></div></div></div></div></div></div></div>"
      ],
      "text/plain": [
       "Pipeline(steps=[('polynomialfeatures', PolynomialFeatures(include_bias=False)),\n",
       "                ('linearregression', LinearRegression())])"
      ]
     },
     "execution_count": 27,
     "metadata": {},
     "output_type": "execute_result"
    }
   ],
   "source": [
    "make_pipeline(PolynomialFeatures(2, include_bias=False), \n",
    "              skl_lm.LinearRegression())"
   ]
  },
  {
   "cell_type": "code",
   "execution_count": null,
   "metadata": {},
   "outputs": [],
   "source": []
  }
 ],
 "metadata": {
  "anaconda-cloud": {},
  "kernelspec": {
   "display_name": "base",
   "language": "python",
   "name": "python3"
  },
  "language_info": {
   "codemirror_mode": {
    "name": "ipython",
    "version": 3
   },
   "file_extension": ".py",
   "mimetype": "text/x-python",
   "name": "python",
   "nbconvert_exporter": "python",
   "pygments_lexer": "ipython3",
   "version": "3.8.13"
  },
  "vscode": {
   "interpreter": {
    "hash": "d8b53ac59aeb7dd99955ed1c7af180cec0b2adbd03b0a8162d4077beb5f10154"
   }
  },
  "widgets": {
   "application/vnd.jupyter.widget-state+json": {
    "state": {},
    "version_major": 2,
    "version_minor": 0
   }
  }
 },
 "nbformat": 4,
 "nbformat_minor": 4
}
