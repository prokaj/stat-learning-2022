{
 "cells": [
  {
   "cell_type": "code",
   "execution_count": 1,
   "id": "11cc6588-9598-4f50-b916-33fd7613e2ca",
   "metadata": {},
   "outputs": [],
   "source": [
    "from sklearn.datasets import fetch_openml\n",
    "import pandas as pd\n",
    "import numpy as np\n",
    "import matplotlib.pyplot as plt\n",
    "%matplotlib inline\n",
    "import seaborn as sns"
   ]
  },
  {
   "cell_type": "code",
   "execution_count": 2,
   "id": "bf2aa226-a9c9-41a0-bfe8-fb9f4b76e26a",
   "metadata": {},
   "outputs": [],
   "source": [
    "spam = fetch_openml('spambase')"
   ]
  },
  {
   "cell_type": "code",
   "execution_count": 3,
   "id": "d9c2827c-ae02-46c9-acb3-c2e2651ab667",
   "metadata": {},
   "outputs": [
    {
     "data": {
      "text/html": [
       "<div>\n",
       "<style scoped>\n",
       "    .dataframe tbody tr th:only-of-type {\n",
       "        vertical-align: middle;\n",
       "    }\n",
       "\n",
       "    .dataframe tbody tr th {\n",
       "        vertical-align: top;\n",
       "    }\n",
       "\n",
       "    .dataframe thead th {\n",
       "        text-align: right;\n",
       "    }\n",
       "</style>\n",
       "<table border=\"1\" class=\"dataframe\">\n",
       "  <thead>\n",
       "    <tr style=\"text-align: right;\">\n",
       "      <th></th>\n",
       "      <th>word_freq_make</th>\n",
       "      <th>word_freq_address</th>\n",
       "      <th>word_freq_all</th>\n",
       "      <th>word_freq_3d</th>\n",
       "      <th>word_freq_our</th>\n",
       "      <th>word_freq_over</th>\n",
       "      <th>word_freq_remove</th>\n",
       "      <th>word_freq_internet</th>\n",
       "      <th>word_freq_order</th>\n",
       "      <th>word_freq_mail</th>\n",
       "      <th>...</th>\n",
       "      <th>char_freq_%3B</th>\n",
       "      <th>char_freq_%28</th>\n",
       "      <th>char_freq_%5B</th>\n",
       "      <th>char_freq_%21</th>\n",
       "      <th>char_freq_%24</th>\n",
       "      <th>char_freq_%23</th>\n",
       "      <th>capital_run_length_average</th>\n",
       "      <th>capital_run_length_longest</th>\n",
       "      <th>capital_run_length_total</th>\n",
       "      <th>class</th>\n",
       "    </tr>\n",
       "  </thead>\n",
       "  <tbody>\n",
       "    <tr>\n",
       "      <th>0</th>\n",
       "      <td>0.00</td>\n",
       "      <td>0.64</td>\n",
       "      <td>0.64</td>\n",
       "      <td>0.0</td>\n",
       "      <td>0.32</td>\n",
       "      <td>0.00</td>\n",
       "      <td>0.00</td>\n",
       "      <td>0.00</td>\n",
       "      <td>0.00</td>\n",
       "      <td>0.00</td>\n",
       "      <td>...</td>\n",
       "      <td>0.000</td>\n",
       "      <td>0.000</td>\n",
       "      <td>0.0</td>\n",
       "      <td>0.778</td>\n",
       "      <td>0.000</td>\n",
       "      <td>0.000</td>\n",
       "      <td>3.756</td>\n",
       "      <td>61.0</td>\n",
       "      <td>278.0</td>\n",
       "      <td>1</td>\n",
       "    </tr>\n",
       "    <tr>\n",
       "      <th>1</th>\n",
       "      <td>0.21</td>\n",
       "      <td>0.28</td>\n",
       "      <td>0.50</td>\n",
       "      <td>0.0</td>\n",
       "      <td>0.14</td>\n",
       "      <td>0.28</td>\n",
       "      <td>0.21</td>\n",
       "      <td>0.07</td>\n",
       "      <td>0.00</td>\n",
       "      <td>0.94</td>\n",
       "      <td>...</td>\n",
       "      <td>0.000</td>\n",
       "      <td>0.132</td>\n",
       "      <td>0.0</td>\n",
       "      <td>0.372</td>\n",
       "      <td>0.180</td>\n",
       "      <td>0.048</td>\n",
       "      <td>5.114</td>\n",
       "      <td>101.0</td>\n",
       "      <td>1028.0</td>\n",
       "      <td>1</td>\n",
       "    </tr>\n",
       "    <tr>\n",
       "      <th>2</th>\n",
       "      <td>0.06</td>\n",
       "      <td>0.00</td>\n",
       "      <td>0.71</td>\n",
       "      <td>0.0</td>\n",
       "      <td>1.23</td>\n",
       "      <td>0.19</td>\n",
       "      <td>0.19</td>\n",
       "      <td>0.12</td>\n",
       "      <td>0.64</td>\n",
       "      <td>0.25</td>\n",
       "      <td>...</td>\n",
       "      <td>0.010</td>\n",
       "      <td>0.143</td>\n",
       "      <td>0.0</td>\n",
       "      <td>0.276</td>\n",
       "      <td>0.184</td>\n",
       "      <td>0.010</td>\n",
       "      <td>9.821</td>\n",
       "      <td>485.0</td>\n",
       "      <td>2259.0</td>\n",
       "      <td>1</td>\n",
       "    </tr>\n",
       "    <tr>\n",
       "      <th>3</th>\n",
       "      <td>0.00</td>\n",
       "      <td>0.00</td>\n",
       "      <td>0.00</td>\n",
       "      <td>0.0</td>\n",
       "      <td>0.63</td>\n",
       "      <td>0.00</td>\n",
       "      <td>0.31</td>\n",
       "      <td>0.63</td>\n",
       "      <td>0.31</td>\n",
       "      <td>0.63</td>\n",
       "      <td>...</td>\n",
       "      <td>0.000</td>\n",
       "      <td>0.137</td>\n",
       "      <td>0.0</td>\n",
       "      <td>0.137</td>\n",
       "      <td>0.000</td>\n",
       "      <td>0.000</td>\n",
       "      <td>3.537</td>\n",
       "      <td>40.0</td>\n",
       "      <td>191.0</td>\n",
       "      <td>1</td>\n",
       "    </tr>\n",
       "    <tr>\n",
       "      <th>4</th>\n",
       "      <td>0.00</td>\n",
       "      <td>0.00</td>\n",
       "      <td>0.00</td>\n",
       "      <td>0.0</td>\n",
       "      <td>0.63</td>\n",
       "      <td>0.00</td>\n",
       "      <td>0.31</td>\n",
       "      <td>0.63</td>\n",
       "      <td>0.31</td>\n",
       "      <td>0.63</td>\n",
       "      <td>...</td>\n",
       "      <td>0.000</td>\n",
       "      <td>0.135</td>\n",
       "      <td>0.0</td>\n",
       "      <td>0.135</td>\n",
       "      <td>0.000</td>\n",
       "      <td>0.000</td>\n",
       "      <td>3.537</td>\n",
       "      <td>40.0</td>\n",
       "      <td>191.0</td>\n",
       "      <td>1</td>\n",
       "    </tr>\n",
       "    <tr>\n",
       "      <th>...</th>\n",
       "      <td>...</td>\n",
       "      <td>...</td>\n",
       "      <td>...</td>\n",
       "      <td>...</td>\n",
       "      <td>...</td>\n",
       "      <td>...</td>\n",
       "      <td>...</td>\n",
       "      <td>...</td>\n",
       "      <td>...</td>\n",
       "      <td>...</td>\n",
       "      <td>...</td>\n",
       "      <td>...</td>\n",
       "      <td>...</td>\n",
       "      <td>...</td>\n",
       "      <td>...</td>\n",
       "      <td>...</td>\n",
       "      <td>...</td>\n",
       "      <td>...</td>\n",
       "      <td>...</td>\n",
       "      <td>...</td>\n",
       "      <td>...</td>\n",
       "    </tr>\n",
       "    <tr>\n",
       "      <th>4596</th>\n",
       "      <td>0.31</td>\n",
       "      <td>0.00</td>\n",
       "      <td>0.62</td>\n",
       "      <td>0.0</td>\n",
       "      <td>0.00</td>\n",
       "      <td>0.31</td>\n",
       "      <td>0.00</td>\n",
       "      <td>0.00</td>\n",
       "      <td>0.00</td>\n",
       "      <td>0.00</td>\n",
       "      <td>...</td>\n",
       "      <td>0.000</td>\n",
       "      <td>0.232</td>\n",
       "      <td>0.0</td>\n",
       "      <td>0.000</td>\n",
       "      <td>0.000</td>\n",
       "      <td>0.000</td>\n",
       "      <td>1.142</td>\n",
       "      <td>3.0</td>\n",
       "      <td>88.0</td>\n",
       "      <td>0</td>\n",
       "    </tr>\n",
       "    <tr>\n",
       "      <th>4597</th>\n",
       "      <td>0.00</td>\n",
       "      <td>0.00</td>\n",
       "      <td>0.00</td>\n",
       "      <td>0.0</td>\n",
       "      <td>0.00</td>\n",
       "      <td>0.00</td>\n",
       "      <td>0.00</td>\n",
       "      <td>0.00</td>\n",
       "      <td>0.00</td>\n",
       "      <td>0.00</td>\n",
       "      <td>...</td>\n",
       "      <td>0.000</td>\n",
       "      <td>0.000</td>\n",
       "      <td>0.0</td>\n",
       "      <td>0.353</td>\n",
       "      <td>0.000</td>\n",
       "      <td>0.000</td>\n",
       "      <td>1.555</td>\n",
       "      <td>4.0</td>\n",
       "      <td>14.0</td>\n",
       "      <td>0</td>\n",
       "    </tr>\n",
       "    <tr>\n",
       "      <th>4598</th>\n",
       "      <td>0.30</td>\n",
       "      <td>0.00</td>\n",
       "      <td>0.30</td>\n",
       "      <td>0.0</td>\n",
       "      <td>0.00</td>\n",
       "      <td>0.00</td>\n",
       "      <td>0.00</td>\n",
       "      <td>0.00</td>\n",
       "      <td>0.00</td>\n",
       "      <td>0.00</td>\n",
       "      <td>...</td>\n",
       "      <td>0.102</td>\n",
       "      <td>0.718</td>\n",
       "      <td>0.0</td>\n",
       "      <td>0.000</td>\n",
       "      <td>0.000</td>\n",
       "      <td>0.000</td>\n",
       "      <td>1.404</td>\n",
       "      <td>6.0</td>\n",
       "      <td>118.0</td>\n",
       "      <td>0</td>\n",
       "    </tr>\n",
       "    <tr>\n",
       "      <th>4599</th>\n",
       "      <td>0.96</td>\n",
       "      <td>0.00</td>\n",
       "      <td>0.00</td>\n",
       "      <td>0.0</td>\n",
       "      <td>0.32</td>\n",
       "      <td>0.00</td>\n",
       "      <td>0.00</td>\n",
       "      <td>0.00</td>\n",
       "      <td>0.00</td>\n",
       "      <td>0.00</td>\n",
       "      <td>...</td>\n",
       "      <td>0.000</td>\n",
       "      <td>0.057</td>\n",
       "      <td>0.0</td>\n",
       "      <td>0.000</td>\n",
       "      <td>0.000</td>\n",
       "      <td>0.000</td>\n",
       "      <td>1.147</td>\n",
       "      <td>5.0</td>\n",
       "      <td>78.0</td>\n",
       "      <td>0</td>\n",
       "    </tr>\n",
       "    <tr>\n",
       "      <th>4600</th>\n",
       "      <td>0.00</td>\n",
       "      <td>0.00</td>\n",
       "      <td>0.65</td>\n",
       "      <td>0.0</td>\n",
       "      <td>0.00</td>\n",
       "      <td>0.00</td>\n",
       "      <td>0.00</td>\n",
       "      <td>0.00</td>\n",
       "      <td>0.00</td>\n",
       "      <td>0.00</td>\n",
       "      <td>...</td>\n",
       "      <td>0.000</td>\n",
       "      <td>0.000</td>\n",
       "      <td>0.0</td>\n",
       "      <td>0.125</td>\n",
       "      <td>0.000</td>\n",
       "      <td>0.000</td>\n",
       "      <td>1.250</td>\n",
       "      <td>5.0</td>\n",
       "      <td>40.0</td>\n",
       "      <td>0</td>\n",
       "    </tr>\n",
       "  </tbody>\n",
       "</table>\n",
       "<p>4601 rows × 58 columns</p>\n",
       "</div>"
      ],
      "text/plain": [
       "      word_freq_make  word_freq_address  word_freq_all  word_freq_3d  \\\n",
       "0               0.00               0.64           0.64           0.0   \n",
       "1               0.21               0.28           0.50           0.0   \n",
       "2               0.06               0.00           0.71           0.0   \n",
       "3               0.00               0.00           0.00           0.0   \n",
       "4               0.00               0.00           0.00           0.0   \n",
       "...              ...                ...            ...           ...   \n",
       "4596            0.31               0.00           0.62           0.0   \n",
       "4597            0.00               0.00           0.00           0.0   \n",
       "4598            0.30               0.00           0.30           0.0   \n",
       "4599            0.96               0.00           0.00           0.0   \n",
       "4600            0.00               0.00           0.65           0.0   \n",
       "\n",
       "      word_freq_our  word_freq_over  word_freq_remove  word_freq_internet  \\\n",
       "0              0.32            0.00              0.00                0.00   \n",
       "1              0.14            0.28              0.21                0.07   \n",
       "2              1.23            0.19              0.19                0.12   \n",
       "3              0.63            0.00              0.31                0.63   \n",
       "4              0.63            0.00              0.31                0.63   \n",
       "...             ...             ...               ...                 ...   \n",
       "4596           0.00            0.31              0.00                0.00   \n",
       "4597           0.00            0.00              0.00                0.00   \n",
       "4598           0.00            0.00              0.00                0.00   \n",
       "4599           0.32            0.00              0.00                0.00   \n",
       "4600           0.00            0.00              0.00                0.00   \n",
       "\n",
       "      word_freq_order  word_freq_mail  ...  char_freq_%3B  char_freq_%28  \\\n",
       "0                0.00            0.00  ...          0.000          0.000   \n",
       "1                0.00            0.94  ...          0.000          0.132   \n",
       "2                0.64            0.25  ...          0.010          0.143   \n",
       "3                0.31            0.63  ...          0.000          0.137   \n",
       "4                0.31            0.63  ...          0.000          0.135   \n",
       "...               ...             ...  ...            ...            ...   \n",
       "4596             0.00            0.00  ...          0.000          0.232   \n",
       "4597             0.00            0.00  ...          0.000          0.000   \n",
       "4598             0.00            0.00  ...          0.102          0.718   \n",
       "4599             0.00            0.00  ...          0.000          0.057   \n",
       "4600             0.00            0.00  ...          0.000          0.000   \n",
       "\n",
       "      char_freq_%5B  char_freq_%21  char_freq_%24  char_freq_%23  \\\n",
       "0               0.0          0.778          0.000          0.000   \n",
       "1               0.0          0.372          0.180          0.048   \n",
       "2               0.0          0.276          0.184          0.010   \n",
       "3               0.0          0.137          0.000          0.000   \n",
       "4               0.0          0.135          0.000          0.000   \n",
       "...             ...            ...            ...            ...   \n",
       "4596            0.0          0.000          0.000          0.000   \n",
       "4597            0.0          0.353          0.000          0.000   \n",
       "4598            0.0          0.000          0.000          0.000   \n",
       "4599            0.0          0.000          0.000          0.000   \n",
       "4600            0.0          0.125          0.000          0.000   \n",
       "\n",
       "      capital_run_length_average  capital_run_length_longest  \\\n",
       "0                          3.756                        61.0   \n",
       "1                          5.114                       101.0   \n",
       "2                          9.821                       485.0   \n",
       "3                          3.537                        40.0   \n",
       "4                          3.537                        40.0   \n",
       "...                          ...                         ...   \n",
       "4596                       1.142                         3.0   \n",
       "4597                       1.555                         4.0   \n",
       "4598                       1.404                         6.0   \n",
       "4599                       1.147                         5.0   \n",
       "4600                       1.250                         5.0   \n",
       "\n",
       "      capital_run_length_total  class  \n",
       "0                        278.0      1  \n",
       "1                       1028.0      1  \n",
       "2                       2259.0      1  \n",
       "3                        191.0      1  \n",
       "4                        191.0      1  \n",
       "...                        ...    ...  \n",
       "4596                      88.0      0  \n",
       "4597                      14.0      0  \n",
       "4598                     118.0      0  \n",
       "4599                      78.0      0  \n",
       "4600                      40.0      0  \n",
       "\n",
       "[4601 rows x 58 columns]"
      ]
     },
     "execution_count": 3,
     "metadata": {},
     "output_type": "execute_result"
    }
   ],
   "source": [
    "spam['frame']"
   ]
  },
  {
   "cell_type": "code",
   "execution_count": 4,
   "id": "ce1c5029-55ff-4ebc-ab05-a8286175ee0f",
   "metadata": {},
   "outputs": [],
   "source": [
    "from sklearn.linear_model import LogisticRegression, LogisticRegressionCV\n",
    "from sklearn.neighbors import KNeighborsClassifier as KNN\n",
    "from sklearn.discriminant_analysis import LinearDiscriminantAnalysis as LDA\n",
    "from sklearn.discriminant_analysis import QuadraticDiscriminantAnalysis as QDA\n",
    "from sklearn.naive_bayes import GaussianNB, BernoulliNB, CategoricalNB\n",
    "from sklearn.model_selection import train_test_split\n",
    "from sklearn.preprocessing import StandardScaler\n",
    "from sklearn.pipeline import make_pipeline\n",
    "from sklearn.metrics import classification_report, confusion_matrix, ConfusionMatrixDisplay, RocCurveDisplay"
   ]
  },
  {
   "cell_type": "code",
   "execution_count": 6,
   "id": "f6a8d5d3-9c9f-46f6-a122-02ef4473e95b",
   "metadata": {
    "tags": []
   },
   "outputs": [
    {
     "data": {
      "text/html": [
       "<div>\n",
       "<style scoped>\n",
       "    .dataframe tbody tr th:only-of-type {\n",
       "        vertical-align: middle;\n",
       "    }\n",
       "\n",
       "    .dataframe tbody tr th {\n",
       "        vertical-align: top;\n",
       "    }\n",
       "\n",
       "    .dataframe thead th {\n",
       "        text-align: right;\n",
       "    }\n",
       "</style>\n",
       "<table border=\"1\" class=\"dataframe\">\n",
       "  <thead>\n",
       "    <tr style=\"text-align: right;\">\n",
       "      <th></th>\n",
       "      <th>max</th>\n",
       "      <th>nonzero_prop</th>\n",
       "    </tr>\n",
       "  </thead>\n",
       "  <tbody>\n",
       "    <tr>\n",
       "      <th>word_freq_make</th>\n",
       "      <td>4.540</td>\n",
       "      <td>0.228863</td>\n",
       "    </tr>\n",
       "    <tr>\n",
       "      <th>word_freq_address</th>\n",
       "      <td>14.280</td>\n",
       "      <td>0.195175</td>\n",
       "    </tr>\n",
       "    <tr>\n",
       "      <th>word_freq_all</th>\n",
       "      <td>5.100</td>\n",
       "      <td>0.410346</td>\n",
       "    </tr>\n",
       "    <tr>\n",
       "      <th>word_freq_3d</th>\n",
       "      <td>42.810</td>\n",
       "      <td>0.010215</td>\n",
       "    </tr>\n",
       "    <tr>\n",
       "      <th>word_freq_our</th>\n",
       "      <td>10.000</td>\n",
       "      <td>0.379917</td>\n",
       "    </tr>\n",
       "    <tr>\n",
       "      <th>word_freq_over</th>\n",
       "      <td>5.880</td>\n",
       "      <td>0.217127</td>\n",
       "    </tr>\n",
       "    <tr>\n",
       "      <th>word_freq_remove</th>\n",
       "      <td>7.270</td>\n",
       "      <td>0.175397</td>\n",
       "    </tr>\n",
       "    <tr>\n",
       "      <th>word_freq_internet</th>\n",
       "      <td>11.110</td>\n",
       "      <td>0.179092</td>\n",
       "    </tr>\n",
       "    <tr>\n",
       "      <th>word_freq_order</th>\n",
       "      <td>5.260</td>\n",
       "      <td>0.168007</td>\n",
       "    </tr>\n",
       "    <tr>\n",
       "      <th>word_freq_mail</th>\n",
       "      <td>18.180</td>\n",
       "      <td>0.282982</td>\n",
       "    </tr>\n",
       "    <tr>\n",
       "      <th>word_freq_receive</th>\n",
       "      <td>2.610</td>\n",
       "      <td>0.154097</td>\n",
       "    </tr>\n",
       "    <tr>\n",
       "      <th>word_freq_will</th>\n",
       "      <td>9.670</td>\n",
       "      <td>0.505325</td>\n",
       "    </tr>\n",
       "    <tr>\n",
       "      <th>word_freq_people</th>\n",
       "      <td>5.550</td>\n",
       "      <td>0.185177</td>\n",
       "    </tr>\n",
       "    <tr>\n",
       "      <th>word_freq_report</th>\n",
       "      <td>10.000</td>\n",
       "      <td>0.077592</td>\n",
       "    </tr>\n",
       "    <tr>\n",
       "      <th>word_freq_addresses</th>\n",
       "      <td>4.410</td>\n",
       "      <td>0.073028</td>\n",
       "    </tr>\n",
       "    <tr>\n",
       "      <th>word_freq_free</th>\n",
       "      <td>20.000</td>\n",
       "      <td>0.269724</td>\n",
       "    </tr>\n",
       "    <tr>\n",
       "      <th>word_freq_business</th>\n",
       "      <td>7.140</td>\n",
       "      <td>0.209302</td>\n",
       "    </tr>\n",
       "    <tr>\n",
       "      <th>word_freq_email</th>\n",
       "      <td>9.090</td>\n",
       "      <td>0.225603</td>\n",
       "    </tr>\n",
       "    <tr>\n",
       "      <th>word_freq_you</th>\n",
       "      <td>18.750</td>\n",
       "      <td>0.701369</td>\n",
       "    </tr>\n",
       "    <tr>\n",
       "      <th>word_freq_credit</th>\n",
       "      <td>18.180</td>\n",
       "      <td>0.092154</td>\n",
       "    </tr>\n",
       "    <tr>\n",
       "      <th>word_freq_your</th>\n",
       "      <td>11.110</td>\n",
       "      <td>0.526625</td>\n",
       "    </tr>\n",
       "    <tr>\n",
       "      <th>word_freq_font</th>\n",
       "      <td>17.100</td>\n",
       "      <td>0.025429</td>\n",
       "    </tr>\n",
       "    <tr>\n",
       "      <th>word_freq_000</th>\n",
       "      <td>5.450</td>\n",
       "      <td>0.147577</td>\n",
       "    </tr>\n",
       "    <tr>\n",
       "      <th>word_freq_money</th>\n",
       "      <td>12.500</td>\n",
       "      <td>0.159748</td>\n",
       "    </tr>\n",
       "    <tr>\n",
       "      <th>word_freq_hp</th>\n",
       "      <td>20.830</td>\n",
       "      <td>0.236905</td>\n",
       "    </tr>\n",
       "    <tr>\n",
       "      <th>word_freq_hpl</th>\n",
       "      <td>16.660</td>\n",
       "      <td>0.176266</td>\n",
       "    </tr>\n",
       "    <tr>\n",
       "      <th>word_freq_george</th>\n",
       "      <td>33.330</td>\n",
       "      <td>0.169528</td>\n",
       "    </tr>\n",
       "    <tr>\n",
       "      <th>word_freq_650</th>\n",
       "      <td>9.090</td>\n",
       "      <td>0.100630</td>\n",
       "    </tr>\n",
       "    <tr>\n",
       "      <th>word_freq_lab</th>\n",
       "      <td>14.280</td>\n",
       "      <td>0.080852</td>\n",
       "    </tr>\n",
       "    <tr>\n",
       "      <th>word_freq_labs</th>\n",
       "      <td>5.880</td>\n",
       "      <td>0.101934</td>\n",
       "    </tr>\n",
       "    <tr>\n",
       "      <th>word_freq_telnet</th>\n",
       "      <td>12.500</td>\n",
       "      <td>0.063682</td>\n",
       "    </tr>\n",
       "    <tr>\n",
       "      <th>word_freq_857</th>\n",
       "      <td>4.760</td>\n",
       "      <td>0.044556</td>\n",
       "    </tr>\n",
       "    <tr>\n",
       "      <th>word_freq_data</th>\n",
       "      <td>18.180</td>\n",
       "      <td>0.088024</td>\n",
       "    </tr>\n",
       "    <tr>\n",
       "      <th>word_freq_415</th>\n",
       "      <td>4.760</td>\n",
       "      <td>0.046729</td>\n",
       "    </tr>\n",
       "    <tr>\n",
       "      <th>word_freq_85</th>\n",
       "      <td>20.000</td>\n",
       "      <td>0.105412</td>\n",
       "    </tr>\n",
       "    <tr>\n",
       "      <th>word_freq_technology</th>\n",
       "      <td>7.690</td>\n",
       "      <td>0.130189</td>\n",
       "    </tr>\n",
       "    <tr>\n",
       "      <th>word_freq_1999</th>\n",
       "      <td>6.890</td>\n",
       "      <td>0.180178</td>\n",
       "    </tr>\n",
       "    <tr>\n",
       "      <th>word_freq_parts</th>\n",
       "      <td>8.330</td>\n",
       "      <td>0.018040</td>\n",
       "    </tr>\n",
       "    <tr>\n",
       "      <th>word_freq_pm</th>\n",
       "      <td>11.110</td>\n",
       "      <td>0.083460</td>\n",
       "    </tr>\n",
       "    <tr>\n",
       "      <th>word_freq_direct</th>\n",
       "      <td>4.760</td>\n",
       "      <td>0.098457</td>\n",
       "    </tr>\n",
       "    <tr>\n",
       "      <th>word_freq_cs</th>\n",
       "      <td>7.140</td>\n",
       "      <td>0.032167</td>\n",
       "    </tr>\n",
       "    <tr>\n",
       "      <th>word_freq_meeting</th>\n",
       "      <td>14.280</td>\n",
       "      <td>0.074114</td>\n",
       "    </tr>\n",
       "    <tr>\n",
       "      <th>word_freq_original</th>\n",
       "      <td>3.570</td>\n",
       "      <td>0.081504</td>\n",
       "    </tr>\n",
       "    <tr>\n",
       "      <th>word_freq_project</th>\n",
       "      <td>20.000</td>\n",
       "      <td>0.071072</td>\n",
       "    </tr>\n",
       "    <tr>\n",
       "      <th>word_freq_re</th>\n",
       "      <td>21.420</td>\n",
       "      <td>0.284938</td>\n",
       "    </tr>\n",
       "    <tr>\n",
       "      <th>word_freq_edu</th>\n",
       "      <td>22.050</td>\n",
       "      <td>0.112367</td>\n",
       "    </tr>\n",
       "    <tr>\n",
       "      <th>word_freq_table</th>\n",
       "      <td>2.170</td>\n",
       "      <td>0.013693</td>\n",
       "    </tr>\n",
       "    <tr>\n",
       "      <th>word_freq_conference</th>\n",
       "      <td>10.000</td>\n",
       "      <td>0.044121</td>\n",
       "    </tr>\n",
       "    <tr>\n",
       "      <th>char_freq_%3B</th>\n",
       "      <td>4.385</td>\n",
       "      <td>0.171702</td>\n",
       "    </tr>\n",
       "    <tr>\n",
       "      <th>char_freq_%28</th>\n",
       "      <td>9.752</td>\n",
       "      <td>0.590089</td>\n",
       "    </tr>\n",
       "    <tr>\n",
       "      <th>char_freq_%5B</th>\n",
       "      <td>4.081</td>\n",
       "      <td>0.114975</td>\n",
       "    </tr>\n",
       "    <tr>\n",
       "      <th>char_freq_%21</th>\n",
       "      <td>32.478</td>\n",
       "      <td>0.490763</td>\n",
       "    </tr>\n",
       "    <tr>\n",
       "      <th>char_freq_%24</th>\n",
       "      <td>6.003</td>\n",
       "      <td>0.304282</td>\n",
       "    </tr>\n",
       "    <tr>\n",
       "      <th>char_freq_%23</th>\n",
       "      <td>19.829</td>\n",
       "      <td>0.163008</td>\n",
       "    </tr>\n",
       "    <tr>\n",
       "      <th>capital_run_length_average</th>\n",
       "      <td>1102.500</td>\n",
       "      <td>1.000000</td>\n",
       "    </tr>\n",
       "    <tr>\n",
       "      <th>capital_run_length_longest</th>\n",
       "      <td>9989.000</td>\n",
       "      <td>1.000000</td>\n",
       "    </tr>\n",
       "    <tr>\n",
       "      <th>capital_run_length_total</th>\n",
       "      <td>15841.000</td>\n",
       "      <td>1.000000</td>\n",
       "    </tr>\n",
       "  </tbody>\n",
       "</table>\n",
       "</div>"
      ],
      "text/plain": [
       "                                  max  nonzero_prop\n",
       "word_freq_make                  4.540      0.228863\n",
       "word_freq_address              14.280      0.195175\n",
       "word_freq_all                   5.100      0.410346\n",
       "word_freq_3d                   42.810      0.010215\n",
       "word_freq_our                  10.000      0.379917\n",
       "word_freq_over                  5.880      0.217127\n",
       "word_freq_remove                7.270      0.175397\n",
       "word_freq_internet             11.110      0.179092\n",
       "word_freq_order                 5.260      0.168007\n",
       "word_freq_mail                 18.180      0.282982\n",
       "word_freq_receive               2.610      0.154097\n",
       "word_freq_will                  9.670      0.505325\n",
       "word_freq_people                5.550      0.185177\n",
       "word_freq_report               10.000      0.077592\n",
       "word_freq_addresses             4.410      0.073028\n",
       "word_freq_free                 20.000      0.269724\n",
       "word_freq_business              7.140      0.209302\n",
       "word_freq_email                 9.090      0.225603\n",
       "word_freq_you                  18.750      0.701369\n",
       "word_freq_credit               18.180      0.092154\n",
       "word_freq_your                 11.110      0.526625\n",
       "word_freq_font                 17.100      0.025429\n",
       "word_freq_000                   5.450      0.147577\n",
       "word_freq_money                12.500      0.159748\n",
       "word_freq_hp                   20.830      0.236905\n",
       "word_freq_hpl                  16.660      0.176266\n",
       "word_freq_george               33.330      0.169528\n",
       "word_freq_650                   9.090      0.100630\n",
       "word_freq_lab                  14.280      0.080852\n",
       "word_freq_labs                  5.880      0.101934\n",
       "word_freq_telnet               12.500      0.063682\n",
       "word_freq_857                   4.760      0.044556\n",
       "word_freq_data                 18.180      0.088024\n",
       "word_freq_415                   4.760      0.046729\n",
       "word_freq_85                   20.000      0.105412\n",
       "word_freq_technology            7.690      0.130189\n",
       "word_freq_1999                  6.890      0.180178\n",
       "word_freq_parts                 8.330      0.018040\n",
       "word_freq_pm                   11.110      0.083460\n",
       "word_freq_direct                4.760      0.098457\n",
       "word_freq_cs                    7.140      0.032167\n",
       "word_freq_meeting              14.280      0.074114\n",
       "word_freq_original              3.570      0.081504\n",
       "word_freq_project              20.000      0.071072\n",
       "word_freq_re                   21.420      0.284938\n",
       "word_freq_edu                  22.050      0.112367\n",
       "word_freq_table                 2.170      0.013693\n",
       "word_freq_conference           10.000      0.044121\n",
       "char_freq_%3B                   4.385      0.171702\n",
       "char_freq_%28                   9.752      0.590089\n",
       "char_freq_%5B                   4.081      0.114975\n",
       "char_freq_%21                  32.478      0.490763\n",
       "char_freq_%24                   6.003      0.304282\n",
       "char_freq_%23                  19.829      0.163008\n",
       "capital_run_length_average   1102.500      1.000000\n",
       "capital_run_length_longest   9989.000      1.000000\n",
       "capital_run_length_total    15841.000      1.000000"
      ]
     },
     "execution_count": 6,
     "metadata": {},
     "output_type": "execute_result"
    }
   ],
   "source": [
    "# sns.pairplot(spam['frame'].iloc(1)[:5])\n",
    "def nonzero_prop(x):\n",
    "    return (x!=0).mean()\n",
    "\n",
    "spam['frame'].drop(columns=['class']).agg(['max', nonzero_prop]).T"
   ]
  },
  {
   "cell_type": "code",
   "execution_count": 7,
   "id": "3841c24d-eed1-4058-8b61-0b066f6a3e86",
   "metadata": {},
   "outputs": [],
   "source": [
    "train_df,test_df = train_test_split(spam['frame'], test_size=0.2, shuffle=True, random_state=1)\n",
    "\n",
    "def Xyspam(df):\n",
    "    return df.drop(columns=['class']), df['class']\n",
    "\n",
    "\n",
    "def print_report(model, X, y):\n",
    "    y_pred = model.predict(X)\n",
    "    cm = pd.DataFrame(confusion_matrix(y_pred=y_pred, y_true=y, labels=model.classes_), \n",
    "                      columns=model.classes_, index=model.classes_)\n",
    "    cm.index.name = 'True'\n",
    "    cm.columns.name = 'Predicted'\n",
    "    cr = classification_report(y_pred=y_pred, y_true=y)\n",
    "    print(cm)\n",
    "    print(cr)\n",
    "    return (cm, cr)\n",
    "\n",
    "def plot_decision(model, X, y, r=(-np.inf, np.inf)):\n",
    "    delta = model.decision_function(X)\n",
    "    r = (max(r[0],delta.min()), min(r[1],delta.max()))\n",
    "    n =len(model.classes_)\n",
    "    for i, c in enumerate(model.classes_):\n",
    "        idx = y==c\n",
    "        plt.subplot(n,1,i+1)\n",
    "        sns.histplot(x = delta[idx])\n",
    "        plt.xlim(*r)\n",
    "    plt.show()\n"
   ]
  },
  {
   "cell_type": "code",
   "execution_count": 10,
   "id": "430ec69d-645a-4032-ad75-6d9232f407f8",
   "metadata": {},
   "outputs": [
    {
     "data": {
      "text/plain": [
       "\u001b[0;31mInit signature:\u001b[0m\n",
       "\u001b[0mLogisticRegression\u001b[0m\u001b[0;34m(\u001b[0m\u001b[0;34m\u001b[0m\n",
       "\u001b[0;34m\u001b[0m    \u001b[0mpenalty\u001b[0m\u001b[0;34m=\u001b[0m\u001b[0;34m'l2'\u001b[0m\u001b[0;34m,\u001b[0m\u001b[0;34m\u001b[0m\n",
       "\u001b[0;34m\u001b[0m    \u001b[0;34m*\u001b[0m\u001b[0;34m,\u001b[0m\u001b[0;34m\u001b[0m\n",
       "\u001b[0;34m\u001b[0m    \u001b[0mdual\u001b[0m\u001b[0;34m=\u001b[0m\u001b[0;32mFalse\u001b[0m\u001b[0;34m,\u001b[0m\u001b[0;34m\u001b[0m\n",
       "\u001b[0;34m\u001b[0m    \u001b[0mtol\u001b[0m\u001b[0;34m=\u001b[0m\u001b[0;36m0.0001\u001b[0m\u001b[0;34m,\u001b[0m\u001b[0;34m\u001b[0m\n",
       "\u001b[0;34m\u001b[0m    \u001b[0mC\u001b[0m\u001b[0;34m=\u001b[0m\u001b[0;36m1.0\u001b[0m\u001b[0;34m,\u001b[0m\u001b[0;34m\u001b[0m\n",
       "\u001b[0;34m\u001b[0m    \u001b[0mfit_intercept\u001b[0m\u001b[0;34m=\u001b[0m\u001b[0;32mTrue\u001b[0m\u001b[0;34m,\u001b[0m\u001b[0;34m\u001b[0m\n",
       "\u001b[0;34m\u001b[0m    \u001b[0mintercept_scaling\u001b[0m\u001b[0;34m=\u001b[0m\u001b[0;36m1\u001b[0m\u001b[0;34m,\u001b[0m\u001b[0;34m\u001b[0m\n",
       "\u001b[0;34m\u001b[0m    \u001b[0mclass_weight\u001b[0m\u001b[0;34m=\u001b[0m\u001b[0;32mNone\u001b[0m\u001b[0;34m,\u001b[0m\u001b[0;34m\u001b[0m\n",
       "\u001b[0;34m\u001b[0m    \u001b[0mrandom_state\u001b[0m\u001b[0;34m=\u001b[0m\u001b[0;32mNone\u001b[0m\u001b[0;34m,\u001b[0m\u001b[0;34m\u001b[0m\n",
       "\u001b[0;34m\u001b[0m    \u001b[0msolver\u001b[0m\u001b[0;34m=\u001b[0m\u001b[0;34m'lbfgs'\u001b[0m\u001b[0;34m,\u001b[0m\u001b[0;34m\u001b[0m\n",
       "\u001b[0;34m\u001b[0m    \u001b[0mmax_iter\u001b[0m\u001b[0;34m=\u001b[0m\u001b[0;36m100\u001b[0m\u001b[0;34m,\u001b[0m\u001b[0;34m\u001b[0m\n",
       "\u001b[0;34m\u001b[0m    \u001b[0mmulti_class\u001b[0m\u001b[0;34m=\u001b[0m\u001b[0;34m'auto'\u001b[0m\u001b[0;34m,\u001b[0m\u001b[0;34m\u001b[0m\n",
       "\u001b[0;34m\u001b[0m    \u001b[0mverbose\u001b[0m\u001b[0;34m=\u001b[0m\u001b[0;36m0\u001b[0m\u001b[0;34m,\u001b[0m\u001b[0;34m\u001b[0m\n",
       "\u001b[0;34m\u001b[0m    \u001b[0mwarm_start\u001b[0m\u001b[0;34m=\u001b[0m\u001b[0;32mFalse\u001b[0m\u001b[0;34m,\u001b[0m\u001b[0;34m\u001b[0m\n",
       "\u001b[0;34m\u001b[0m    \u001b[0mn_jobs\u001b[0m\u001b[0;34m=\u001b[0m\u001b[0;32mNone\u001b[0m\u001b[0;34m,\u001b[0m\u001b[0;34m\u001b[0m\n",
       "\u001b[0;34m\u001b[0m    \u001b[0ml1_ratio\u001b[0m\u001b[0;34m=\u001b[0m\u001b[0;32mNone\u001b[0m\u001b[0;34m,\u001b[0m\u001b[0;34m\u001b[0m\n",
       "\u001b[0;34m\u001b[0m\u001b[0;34m)\u001b[0m\u001b[0;34m\u001b[0m\u001b[0;34m\u001b[0m\u001b[0m\n",
       "\u001b[0;31mDocstring:\u001b[0m     \n",
       "Logistic Regression (aka logit, MaxEnt) classifier.\n",
       "\n",
       "In the multiclass case, the training algorithm uses the one-vs-rest (OvR)\n",
       "scheme if the 'multi_class' option is set to 'ovr', and uses the\n",
       "cross-entropy loss if the 'multi_class' option is set to 'multinomial'.\n",
       "(Currently the 'multinomial' option is supported only by the 'lbfgs',\n",
       "'sag', 'saga' and 'newton-cg' solvers.)\n",
       "\n",
       "This class implements regularized logistic regression using the\n",
       "'liblinear' library, 'newton-cg', 'sag', 'saga' and 'lbfgs' solvers. **Note\n",
       "that regularization is applied by default**. It can handle both dense\n",
       "and sparse input. Use C-ordered arrays or CSR matrices containing 64-bit\n",
       "floats for optimal performance; any other input format will be converted\n",
       "(and copied).\n",
       "\n",
       "The 'newton-cg', 'sag', and 'lbfgs' solvers support only L2 regularization\n",
       "with primal formulation, or no regularization. The 'liblinear' solver\n",
       "supports both L1 and L2 regularization, with a dual formulation only for\n",
       "the L2 penalty. The Elastic-Net regularization is only supported by the\n",
       "'saga' solver.\n",
       "\n",
       "Read more in the :ref:`User Guide <logistic_regression>`.\n",
       "\n",
       "Parameters\n",
       "----------\n",
       "penalty : {'l1', 'l2', 'elasticnet', 'none'}, default='l2'\n",
       "    Specify the norm of the penalty:\n",
       "\n",
       "    - `'none'`: no penalty is added;\n",
       "    - `'l2'`: add a L2 penalty term and it is the default choice;\n",
       "    - `'l1'`: add a L1 penalty term;\n",
       "    - `'elasticnet'`: both L1 and L2 penalty terms are added.\n",
       "\n",
       "    .. warning::\n",
       "       Some penalties may not work with some solvers. See the parameter\n",
       "       `solver` below, to know the compatibility between the penalty and\n",
       "       solver.\n",
       "\n",
       "    .. versionadded:: 0.19\n",
       "       l1 penalty with SAGA solver (allowing 'multinomial' + L1)\n",
       "\n",
       "dual : bool, default=False\n",
       "    Dual or primal formulation. Dual formulation is only implemented for\n",
       "    l2 penalty with liblinear solver. Prefer dual=False when\n",
       "    n_samples > n_features.\n",
       "\n",
       "tol : float, default=1e-4\n",
       "    Tolerance for stopping criteria.\n",
       "\n",
       "C : float, default=1.0\n",
       "    Inverse of regularization strength; must be a positive float.\n",
       "    Like in support vector machines, smaller values specify stronger\n",
       "    regularization.\n",
       "\n",
       "fit_intercept : bool, default=True\n",
       "    Specifies if a constant (a.k.a. bias or intercept) should be\n",
       "    added to the decision function.\n",
       "\n",
       "intercept_scaling : float, default=1\n",
       "    Useful only when the solver 'liblinear' is used\n",
       "    and self.fit_intercept is set to True. In this case, x becomes\n",
       "    [x, self.intercept_scaling],\n",
       "    i.e. a \"synthetic\" feature with constant value equal to\n",
       "    intercept_scaling is appended to the instance vector.\n",
       "    The intercept becomes ``intercept_scaling * synthetic_feature_weight``.\n",
       "\n",
       "    Note! the synthetic feature weight is subject to l1/l2 regularization\n",
       "    as all other features.\n",
       "    To lessen the effect of regularization on synthetic feature weight\n",
       "    (and therefore on the intercept) intercept_scaling has to be increased.\n",
       "\n",
       "class_weight : dict or 'balanced', default=None\n",
       "    Weights associated with classes in the form ``{class_label: weight}``.\n",
       "    If not given, all classes are supposed to have weight one.\n",
       "\n",
       "    The \"balanced\" mode uses the values of y to automatically adjust\n",
       "    weights inversely proportional to class frequencies in the input data\n",
       "    as ``n_samples / (n_classes * np.bincount(y))``.\n",
       "\n",
       "    Note that these weights will be multiplied with sample_weight (passed\n",
       "    through the fit method) if sample_weight is specified.\n",
       "\n",
       "    .. versionadded:: 0.17\n",
       "       *class_weight='balanced'*\n",
       "\n",
       "random_state : int, RandomState instance, default=None\n",
       "    Used when ``solver`` == 'sag', 'saga' or 'liblinear' to shuffle the\n",
       "    data. See :term:`Glossary <random_state>` for details.\n",
       "\n",
       "solver : {'newton-cg', 'lbfgs', 'liblinear', 'sag', 'saga'},             default='lbfgs'\n",
       "\n",
       "    Algorithm to use in the optimization problem. Default is 'lbfgs'.\n",
       "    To choose a solver, you might want to consider the following aspects:\n",
       "\n",
       "        - For small datasets, 'liblinear' is a good choice, whereas 'sag'\n",
       "          and 'saga' are faster for large ones;\n",
       "        - For multiclass problems, only 'newton-cg', 'sag', 'saga' and\n",
       "          'lbfgs' handle multinomial loss;\n",
       "        - 'liblinear' is limited to one-versus-rest schemes.\n",
       "\n",
       "    .. warning::\n",
       "       The choice of the algorithm depends on the penalty chosen:\n",
       "       Supported penalties by solver:\n",
       "\n",
       "       - 'newton-cg'   -   ['l2', 'none']\n",
       "       - 'lbfgs'       -   ['l2', 'none']\n",
       "       - 'liblinear'   -   ['l1', 'l2']\n",
       "       - 'sag'         -   ['l2', 'none']\n",
       "       - 'saga'        -   ['elasticnet', 'l1', 'l2', 'none']\n",
       "\n",
       "    .. note::\n",
       "       'sag' and 'saga' fast convergence is only guaranteed on\n",
       "       features with approximately the same scale. You can\n",
       "       preprocess the data with a scaler from :mod:`sklearn.preprocessing`.\n",
       "\n",
       "    .. seealso::\n",
       "       Refer to the User Guide for more information regarding\n",
       "       :class:`LogisticRegression` and more specifically the\n",
       "       :ref:`Table <Logistic_regression>`\n",
       "       summarizing solver/penalty supports.\n",
       "\n",
       "    .. versionadded:: 0.17\n",
       "       Stochastic Average Gradient descent solver.\n",
       "    .. versionadded:: 0.19\n",
       "       SAGA solver.\n",
       "    .. versionchanged:: 0.22\n",
       "        The default solver changed from 'liblinear' to 'lbfgs' in 0.22.\n",
       "\n",
       "max_iter : int, default=100\n",
       "    Maximum number of iterations taken for the solvers to converge.\n",
       "\n",
       "multi_class : {'auto', 'ovr', 'multinomial'}, default='auto'\n",
       "    If the option chosen is 'ovr', then a binary problem is fit for each\n",
       "    label. For 'multinomial' the loss minimised is the multinomial loss fit\n",
       "    across the entire probability distribution, *even when the data is\n",
       "    binary*. 'multinomial' is unavailable when solver='liblinear'.\n",
       "    'auto' selects 'ovr' if the data is binary, or if solver='liblinear',\n",
       "    and otherwise selects 'multinomial'.\n",
       "\n",
       "    .. versionadded:: 0.18\n",
       "       Stochastic Average Gradient descent solver for 'multinomial' case.\n",
       "    .. versionchanged:: 0.22\n",
       "        Default changed from 'ovr' to 'auto' in 0.22.\n",
       "\n",
       "verbose : int, default=0\n",
       "    For the liblinear and lbfgs solvers set verbose to any positive\n",
       "    number for verbosity.\n",
       "\n",
       "warm_start : bool, default=False\n",
       "    When set to True, reuse the solution of the previous call to fit as\n",
       "    initialization, otherwise, just erase the previous solution.\n",
       "    Useless for liblinear solver. See :term:`the Glossary <warm_start>`.\n",
       "\n",
       "    .. versionadded:: 0.17\n",
       "       *warm_start* to support *lbfgs*, *newton-cg*, *sag*, *saga* solvers.\n",
       "\n",
       "n_jobs : int, default=None\n",
       "    Number of CPU cores used when parallelizing over classes if\n",
       "    multi_class='ovr'\". This parameter is ignored when the ``solver`` is\n",
       "    set to 'liblinear' regardless of whether 'multi_class' is specified or\n",
       "    not. ``None`` means 1 unless in a :obj:`joblib.parallel_backend`\n",
       "    context. ``-1`` means using all processors.\n",
       "    See :term:`Glossary <n_jobs>` for more details.\n",
       "\n",
       "l1_ratio : float, default=None\n",
       "    The Elastic-Net mixing parameter, with ``0 <= l1_ratio <= 1``. Only\n",
       "    used if ``penalty='elasticnet'``. Setting ``l1_ratio=0`` is equivalent\n",
       "    to using ``penalty='l2'``, while setting ``l1_ratio=1`` is equivalent\n",
       "    to using ``penalty='l1'``. For ``0 < l1_ratio <1``, the penalty is a\n",
       "    combination of L1 and L2.\n",
       "\n",
       "Attributes\n",
       "----------\n",
       "\n",
       "classes_ : ndarray of shape (n_classes, )\n",
       "    A list of class labels known to the classifier.\n",
       "\n",
       "coef_ : ndarray of shape (1, n_features) or (n_classes, n_features)\n",
       "    Coefficient of the features in the decision function.\n",
       "\n",
       "    `coef_` is of shape (1, n_features) when the given problem is binary.\n",
       "    In particular, when `multi_class='multinomial'`, `coef_` corresponds\n",
       "    to outcome 1 (True) and `-coef_` corresponds to outcome 0 (False).\n",
       "\n",
       "intercept_ : ndarray of shape (1,) or (n_classes,)\n",
       "    Intercept (a.k.a. bias) added to the decision function.\n",
       "\n",
       "    If `fit_intercept` is set to False, the intercept is set to zero.\n",
       "    `intercept_` is of shape (1,) when the given problem is binary.\n",
       "    In particular, when `multi_class='multinomial'`, `intercept_`\n",
       "    corresponds to outcome 1 (True) and `-intercept_` corresponds to\n",
       "    outcome 0 (False).\n",
       "\n",
       "n_features_in_ : int\n",
       "    Number of features seen during :term:`fit`.\n",
       "\n",
       "    .. versionadded:: 0.24\n",
       "\n",
       "feature_names_in_ : ndarray of shape (`n_features_in_`,)\n",
       "    Names of features seen during :term:`fit`. Defined only when `X`\n",
       "    has feature names that are all strings.\n",
       "\n",
       "    .. versionadded:: 1.0\n",
       "\n",
       "n_iter_ : ndarray of shape (n_classes,) or (1, )\n",
       "    Actual number of iterations for all classes. If binary or multinomial,\n",
       "    it returns only 1 element. For liblinear solver, only the maximum\n",
       "    number of iteration across all classes is given.\n",
       "\n",
       "    .. versionchanged:: 0.20\n",
       "\n",
       "        In SciPy <= 1.0.0 the number of lbfgs iterations may exceed\n",
       "        ``max_iter``. ``n_iter_`` will now report at most ``max_iter``.\n",
       "\n",
       "See Also\n",
       "--------\n",
       "SGDClassifier : Incrementally trained logistic regression (when given\n",
       "    the parameter ``loss=\"log\"``).\n",
       "LogisticRegressionCV : Logistic regression with built-in cross validation.\n",
       "\n",
       "Notes\n",
       "-----\n",
       "The underlying C implementation uses a random number generator to\n",
       "select features when fitting the model. It is thus not uncommon,\n",
       "to have slightly different results for the same input data. If\n",
       "that happens, try with a smaller tol parameter.\n",
       "\n",
       "Predict output may not match that of standalone liblinear in certain\n",
       "cases. See :ref:`differences from liblinear <liblinear_differences>`\n",
       "in the narrative documentation.\n",
       "\n",
       "References\n",
       "----------\n",
       "\n",
       "L-BFGS-B -- Software for Large-scale Bound-constrained Optimization\n",
       "    Ciyou Zhu, Richard Byrd, Jorge Nocedal and Jose Luis Morales.\n",
       "    http://users.iems.northwestern.edu/~nocedal/lbfgsb.html\n",
       "\n",
       "LIBLINEAR -- A Library for Large Linear Classification\n",
       "    https://www.csie.ntu.edu.tw/~cjlin/liblinear/\n",
       "\n",
       "SAG -- Mark Schmidt, Nicolas Le Roux, and Francis Bach\n",
       "    Minimizing Finite Sums with the Stochastic Average Gradient\n",
       "    https://hal.inria.fr/hal-00860051/document\n",
       "\n",
       "SAGA -- Defazio, A., Bach F. & Lacoste-Julien S. (2014).\n",
       "        :arxiv:`\"SAGA: A Fast Incremental Gradient Method With Support\n",
       "        for Non-Strongly Convex Composite Objectives\" <1407.0202>`\n",
       "\n",
       "Hsiang-Fu Yu, Fang-Lan Huang, Chih-Jen Lin (2011). Dual coordinate descent\n",
       "    methods for logistic regression and maximum entropy models.\n",
       "    Machine Learning 85(1-2):41-75.\n",
       "    https://www.csie.ntu.edu.tw/~cjlin/papers/maxent_dual.pdf\n",
       "\n",
       "Examples\n",
       "--------\n",
       ">>> from sklearn.datasets import load_iris\n",
       ">>> from sklearn.linear_model import LogisticRegression\n",
       ">>> X, y = load_iris(return_X_y=True)\n",
       ">>> clf = LogisticRegression(random_state=0).fit(X, y)\n",
       ">>> clf.predict(X[:2, :])\n",
       "array([0, 0])\n",
       ">>> clf.predict_proba(X[:2, :])\n",
       "array([[9.8...e-01, 1.8...e-02, 1.4...e-08],\n",
       "       [9.7...e-01, 2.8...e-02, ...e-08]])\n",
       ">>> clf.score(X, y)\n",
       "0.97...\n",
       "\u001b[0;31mFile:\u001b[0m           ~/.config/jupyterlab-desktop/jlab_server/lib/python3.8/site-packages/sklearn/linear_model/_logistic.py\n",
       "\u001b[0;31mType:\u001b[0m           type\n",
       "\u001b[0;31mSubclasses:\u001b[0m     LogisticRegressionCV\n"
      ]
     },
     "metadata": {},
     "output_type": "display_data"
    }
   ],
   "source": [
    "LogisticRegression?"
   ]
  },
  {
   "cell_type": "code",
   "execution_count": 26,
   "id": "cbf6de6e-ac35-457f-95ee-f5d57beeb952",
   "metadata": {},
   "outputs": [
    {
     "name": "stdout",
     "output_type": "stream",
     "text": [
      "Predicted    0    1\n",
      "True               \n",
      "0          541   23\n",
      "1           40  317\n",
      "              precision    recall  f1-score   support\n",
      "\n",
      "           0       0.93      0.96      0.94       564\n",
      "           1       0.93      0.89      0.91       357\n",
      "\n",
      "    accuracy                           0.93       921\n",
      "   macro avg       0.93      0.92      0.93       921\n",
      "weighted avg       0.93      0.93      0.93       921\n",
      "\n"
     ]
    }
   ],
   "source": [
    "logistic = make_pipeline(StandardScaler(),\n",
    "                         LogisticRegression(penalty='l2',\n",
    "                                            solver='newton-cg',\n",
    "                                            C=1000\n",
    "                                            #max_iter=1000,\n",
    "                                            #tol=1e-3\n",
    "                                           ))\n",
    "\n",
    "logistic.fit(*Xyspam(train_df))\n",
    "\n",
    "cm, cr = print_report(logistic, *Xyspam(test_df))"
   ]
  },
  {
   "cell_type": "code",
   "execution_count": 27,
   "id": "b7d16366-1527-4b55-bbeb-88c6569daae3",
   "metadata": {
    "tags": []
   },
   "outputs": [
    {
     "data": {
      "image/png": "[encoded data removed]",
      "text/plain": [
       "<Figure size 640x480 with 2 Axes>"
      ]
     },
     "metadata": {},
     "output_type": "display_data"
    }
   ],
   "source": [
    "plot_decision(logistic, *Xyspam(train_df), r=(-30,30))"
   ]
  },
  {
   "cell_type": "code",
   "execution_count": 28,
   "id": "9d14c1aa-7578-431d-bbc5-c6a265af65fe",
   "metadata": {},
   "outputs": [
    {
     "data": {
      "image/png": "[encoded data removed]",
      "text/plain": [
       "<Figure size 640x480 with 2 Axes>"
      ]
     },
     "metadata": {},
     "output_type": "display_data"
    }
   ],
   "source": [
    "plot_decision(logistic, *Xyspam(test_df), r=(-30,30))"
   ]
  },
  {
   "cell_type": "code",
   "execution_count": 29,
   "id": "8ec072c4-2fa4-45c2-89d3-63039fae4e80",
   "metadata": {},
   "outputs": [
    {
     "data": {
      "text/plain": [
       "<sklearn.metrics._plot.roc_curve.RocCurveDisplay at 0x7fe11b985be0>"
      ]
     },
     "execution_count": 29,
     "metadata": {},
     "output_type": "execute_result"
    },
    {
     "data": {
      "image/png": "[encoded data removed]",
      "text/plain": [
       "<Figure size 640x480 with 1 Axes>"
      ]
     },
     "metadata": {},
     "output_type": "display_data"
    }
   ],
   "source": [
    "RocCurveDisplay.from_estimator(logistic, *Xyspam(test_df), name='Logistic wo penalty')"
   ]
  },
  {
   "cell_type": "code",
   "execution_count": 30,
   "id": "f2cc9bc8-c8da-466c-8a05-5f5b94e258a3",
   "metadata": {},
   "outputs": [],
   "source": [
    "from sklearn.model_selection import StratifiedKFold\n",
    "cv = StratifiedKFold(n_splits=5, random_state=16, shuffle=True)\n"
   ]
  },
  {
   "cell_type": "code",
   "execution_count": 31,
   "id": "7a4befb5-c619-4c17-b7fb-20c647626116",
   "metadata": {
    "tags": []
   },
   "outputs": [],
   "source": [
    "logistic_l2_cv = make_pipeline(\n",
    "    StandardScaler(), \n",
    "    LogisticRegressionCV(\n",
    "        Cs=[0.1, 1, 2.5, 5, 7.5, 10, 15, 20, 50, 100, 1000], \n",
    "        # #[0.1,1,5,10,50,100], \n",
    "        penalty='l2', \n",
    "        cv=cv, \n",
    "        solver = 'liblinear',\n",
    "        refit=True\n",
    "    )\n",
    ").fit(*Xyspam(train_df)) \n",
    "#spam['frame']))"
   ]
  },
  {
   "cell_type": "code",
   "execution_count": 32,
   "id": "285e4753-ba3d-4401-8602-c231895d04a9",
   "metadata": {},
   "outputs": [
    {
     "name": "stdout",
     "output_type": "stream",
     "text": [
      "[10.]\n"
     ]
    }
   ],
   "source": [
    "print(logistic_l2_cv[1].C_)"
   ]
  },
  {
   "cell_type": "code",
   "execution_count": 33,
   "id": "96e67ab2-0f4c-4969-b322-c482aab5f211",
   "metadata": {
    "tags": []
   },
   "outputs": [
    {
     "data": {
      "image/png": "[encoded data removed]",
      "text/plain": [
       "<Figure size 640x480 with 1 Axes>"
      ]
     },
     "metadata": {},
     "output_type": "display_data"
    }
   ],
   "source": [
    "plt.plot(logistic_l2_cv[1].scores_['1'].mean(axis=0)) #.T) #.mean(axis=0))\n",
    "plt.grid()\n",
    "plt.xticks(*zip(*enumerate(logistic_l2_cv[1].Cs)))\n",
    "plt.show()"
   ]
  },
  {
   "cell_type": "code",
   "execution_count": 34,
   "id": "b4b217e7-36f1-4059-a507-0822c04ff9a2",
   "metadata": {
    "tags": []
   },
   "outputs": [
    {
     "name": "stdout",
     "output_type": "stream",
     "text": [
      "logistic regression without penalty\n",
      "Predicted    0    1\n",
      "True               \n",
      "0          541   23\n",
      "1           40  317\n",
      "logistic regression with l2 penalty (cv selected)\n",
      "Predicted    0    1\n",
      "True               \n",
      "0          541   23\n",
      "1           39  318\n",
      "              precision    recall  f1-score   support\n",
      "\n",
      "           0       0.93      0.96      0.95       564\n",
      "           1       0.93      0.89      0.91       357\n",
      "\n",
      "    accuracy                           0.93       921\n",
      "   macro avg       0.93      0.92      0.93       921\n",
      "weighted avg       0.93      0.93      0.93       921\n",
      "\n"
     ]
    }
   ],
   "source": [
    "#logistic = make_pipeline(StandardScaler(),\n",
    "#                         LogisticRegression(penalty='l2', C=10, solver='newton-cg'))\n",
    "#logistic.fit(*Xyspam(train_df))\n",
    "\n",
    "print('logistic regression without penalty')\n",
    "print(cm)\n",
    "print('logistic regression with l2 penalty (cv selected)')\n",
    "cm_l2, cr_l2 = print_report(logistic_l2_cv, *Xyspam(test_df))\n"
   ]
  },
  {
   "cell_type": "code",
   "execution_count": 35,
   "id": "8d0a0e2c-a109-41c0-a23c-fa0d23753d2a",
   "metadata": {},
   "outputs": [
    {
     "data": {
      "image/png": "[encoded data removed]",
      "text/plain": [
       "<Figure size 640x480 with 2 Axes>"
      ]
     },
     "metadata": {},
     "output_type": "display_data"
    }
   ],
   "source": [
    "plot_decision(logistic_l2_cv, *Xyspam(train_df), r=(-30,30))"
   ]
  },
  {
   "cell_type": "code",
   "execution_count": 37,
   "id": "8e9dfad4-f78d-4e4b-ad35-7a4525efa102",
   "metadata": {},
   "outputs": [
    {
     "data": {
      "text/plain": [
       "<sklearn.metrics._plot.roc_curve.RocCurveDisplay at 0x7fe11b8935e0>"
      ]
     },
     "execution_count": 37,
     "metadata": {},
     "output_type": "execute_result"
    },
    {
     "data": {
      "image/png": "[encoded data removed]",
      "text/plain": [
       "<Figure size 640x480 with 1 Axes>"
      ]
     },
     "metadata": {},
     "output_type": "display_data"
    }
   ],
   "source": [
    "RocCurveDisplay.from_estimator(logistic_l2_cv, *Xyspam(test_df), name='Logistic l2')"
   ]
  },
  {
   "cell_type": "code",
   "execution_count": 38,
   "id": "585d5585-d99a-4acf-9642-352d3114c48c",
   "metadata": {},
   "outputs": [
    {
     "name": "stdout",
     "output_type": "stream",
     "text": [
      "[5.]\n"
     ]
    }
   ],
   "source": [
    "logistic_l1_cv = make_pipeline(\n",
    "    StandardScaler(), \n",
    "    LogisticRegressionCV(\n",
    "        Cs=[0.1, 1, 2.5, 5, 7.5, 10, 15, 20, 50, 100, 1000], # #[0.1,1,5,10,50,100], \n",
    "        penalty='l1', \n",
    "        cv=cv, \n",
    "        solver = 'liblinear',\n",
    "        refit=True\n",
    "    )\n",
    ").fit(*Xyspam(train_df)) #spam['frame']))\n",
    "\n",
    "l1_best_C=logistic_l1_cv[1].C_\n",
    "print(l1_best_C)"
   ]
  },
  {
   "cell_type": "code",
   "execution_count": 40,
   "id": "7ddd0f77-f8f7-4d82-a40b-df997346300f",
   "metadata": {},
   "outputs": [
    {
     "data": {
      "image/png": "[encoded data removed]",
      "text/plain": [
       "<Figure size 640x480 with 1 Axes>"
      ]
     },
     "metadata": {},
     "output_type": "display_data"
    },
    {
     "name": "stdout",
     "output_type": "stream",
     "text": [
      "number of zero coefficients\n",
      "C           0.1     1.0     2.5     5.0     7.5     10.0    15.0    20.0    \\\n",
      "Fold index                                                                   \n",
      "0                7       3       1       0       0       0       0       0   \n",
      "1                7       3       3       1       1       1       0       0   \n",
      "2                8       3       1       0       0       0       0       0   \n",
      "3               11       1       0       0       0       0       0       0   \n",
      "4                6       2       0       0       0       0       0       0   \n",
      "\n",
      "C           50.0    100.0   1000.0  \n",
      "Fold index                          \n",
      "0                0       0       0  \n",
      "1                0       0       0  \n",
      "2                0       0       0  \n",
      "3                0       0       0  \n",
      "4                0       0       0  \n",
      "number of zero coefficients of the refitted model with the best C:  0\n"
     ]
    }
   ],
   "source": [
    "log_l1_cv = logistic_l1_cv[1]\n",
    "plt.plot(log_l1_cv.scores_['1'].mean(axis=0)) #.T) #.mean(axis=0))\n",
    "plt.grid()\n",
    "plt.xticks(*zip(*enumerate(log_l1_cv.Cs)))\n",
    "plt.show()\n",
    "print('number of zero coefficients')\n",
    "nonzero_coef= pd.DataFrame((log_l1_cv.coefs_paths_['1']==0).sum(axis=-1), \n",
    "                            columns=log_l1_cv.Cs)\n",
    "nonzero_coef.index.name = 'Fold index'\n",
    "nonzero_coef.columns.name = 'C'\n",
    "print(nonzero_coef.to_string(line_width=80))\n",
    "\n",
    "coef_zero = logistic_l1_cv.feature_names_in_[logistic_l1_cv[1].coef_[0]==0]\n",
    "print('number of zero coefficients of the refitted model with the best C: ', len(coef_zero))"
   ]
  },
  {
   "cell_type": "code",
   "execution_count": 41,
   "id": "bcc7d2b8-c539-4d80-abcf-d26a83e1bf79",
   "metadata": {},
   "outputs": [
    {
     "name": "stdout",
     "output_type": "stream",
     "text": [
      "logistic regression without regularization\n",
      "Predicted    0    1\n",
      "True               \n",
      "0          541   23\n",
      "1           40  317\n",
      "--------------------------------------------------\n",
      "logistic regression with l2 regularization\n",
      "Predicted    0    1\n",
      "True               \n",
      "0          541   23\n",
      "1           39  318\n",
      "--------------------------------------------------\n",
      "logistic regression with l1 regularization\n",
      "Predicted    0    1\n",
      "True               \n",
      "0          542   22\n",
      "1           39  318\n",
      "              precision    recall  f1-score   support\n",
      "\n",
      "           0       0.93      0.96      0.95       564\n",
      "           1       0.94      0.89      0.91       357\n",
      "\n",
      "    accuracy                           0.93       921\n",
      "   macro avg       0.93      0.93      0.93       921\n",
      "weighted avg       0.93      0.93      0.93       921\n",
      "\n"
     ]
    }
   ],
   "source": [
    "#logistic = make_pipeline(StandardScaler(),\n",
    "#                         LogisticRegression(penalty='l1', C=5, solver='liblinear'))\n",
    "#logistic.fit(*Xyspam(train_df))\n",
    "print('logistic regression without regularization')\n",
    "print(cm)\n",
    "print('-'*50)\n",
    "print('logistic regression with l2 regularization')\n",
    "print(cm_l2)\n",
    "print('-'*50)\n",
    "print('logistic regression with l1 regularization')\n",
    "cm_l1, cr_l1 = print_report(logistic_l1_cv, *Xyspam(test_df))\n"
   ]
  },
  {
   "cell_type": "code",
   "execution_count": 42,
   "id": "91859456-a3b6-4d89-a43e-e6d1b0abe9ce",
   "metadata": {},
   "outputs": [
    {
     "data": {
      "image/png": "[encoded data removed]",
      "text/plain": [
       "<Figure size 640x480 with 2 Axes>"
      ]
     },
     "metadata": {},
     "output_type": "display_data"
    }
   ],
   "source": [
    "plot_decision(logistic_l1_cv, *Xyspam(train_df), r=(-30,30))"
   ]
  },
  {
   "cell_type": "code",
   "execution_count": 43,
   "id": "dfed6273-d3e0-4b99-ac35-868349256d2f",
   "metadata": {},
   "outputs": [
    {
     "name": "stdout",
     "output_type": "stream",
     "text": [
      "Predicted    0    1\n",
      "True               \n",
      "0          530   34\n",
      "1           56  301\n",
      "              precision    recall  f1-score   support\n",
      "\n",
      "           0       0.90      0.94      0.92       564\n",
      "           1       0.90      0.84      0.87       357\n",
      "\n",
      "    accuracy                           0.90       921\n",
      "   macro avg       0.90      0.89      0.90       921\n",
      "weighted avg       0.90      0.90      0.90       921\n",
      "\n"
     ]
    }
   ],
   "source": [
    "knn = make_pipeline(\n",
    "    StandardScaler(), \n",
    "    KNN(n_neighbors=11)\n",
    ").fit(*Xyspam(train_df))\n",
    "\n",
    "cm_11, cr_11 = print_report(knn, *Xyspam(test_df))\n"
   ]
  },
  {
   "cell_type": "code",
   "execution_count": 44,
   "id": "e2d2c3f3-16e9-4c26-90ef-bdedb71f1dc5",
   "metadata": {},
   "outputs": [
    {
     "name": "stdout",
     "output_type": "stream",
     "text": [
      "Predicted    0    1\n",
      "True               \n",
      "0          543   21\n",
      "1           77  280\n",
      "              precision    recall  f1-score   support\n",
      "\n",
      "           0       0.88      0.96      0.92       564\n",
      "           1       0.93      0.78      0.85       357\n",
      "\n",
      "    accuracy                           0.89       921\n",
      "   macro avg       0.90      0.87      0.88       921\n",
      "weighted avg       0.90      0.89      0.89       921\n",
      "\n"
     ]
    }
   ],
   "source": [
    "knn = make_pipeline(\n",
    "    StandardScaler(), \n",
    "    KNN(n_neighbors=51)\n",
    ").fit(*Xyspam(train_df))\n",
    "\n",
    "cm_51, cr_51 = print_report(knn, *Xyspam(test_df))\n"
   ]
  },
  {
   "cell_type": "code",
   "execution_count": 45,
   "id": "d8ced012-f11d-4139-b3c9-fe17aaa2c6f9",
   "metadata": {},
   "outputs": [
    {
     "name": "stdout",
     "output_type": "stream",
     "text": [
      "Predicted    0    1\n",
      "True               \n",
      "0          548   16\n",
      "1           79  278\n",
      "              precision    recall  f1-score   support\n",
      "\n",
      "           0       0.87      0.97      0.92       564\n",
      "           1       0.95      0.78      0.85       357\n",
      "\n",
      "    accuracy                           0.90       921\n",
      "   macro avg       0.91      0.88      0.89       921\n",
      "weighted avg       0.90      0.90      0.89       921\n",
      "\n"
     ]
    }
   ],
   "source": [
    "lda = make_pipeline(LDA()).fit(*Xyspam(train_df))\n",
    "\n",
    "cm_lda,cr_lda = print_report(lda, *Xyspam(test_df))"
   ]
  },
  {
   "cell_type": "code",
   "execution_count": 46,
   "id": "04dff92b-ada4-43ea-b3ea-5c7fbb1a00af",
   "metadata": {},
   "outputs": [
    {
     "name": "stdout",
     "output_type": "stream",
     "text": [
      "Predicted    0    1\n",
      "True               \n",
      "0          397  167\n",
      "1           19  338\n",
      "              precision    recall  f1-score   support\n",
      "\n",
      "           0       0.95      0.70      0.81       564\n",
      "           1       0.67      0.95      0.78       357\n",
      "\n",
      "    accuracy                           0.80       921\n",
      "   macro avg       0.81      0.83      0.80       921\n",
      "weighted avg       0.84      0.80      0.80       921\n",
      "\n"
     ]
    },
    {
     "name": "stderr",
     "output_type": "stream",
     "text": [
      "/home/prokaj/.config/jupyterlab-desktop/jlab_server/lib/python3.8/site-packages/sklearn/discriminant_analysis.py:887: UserWarning: Variables are collinear\n",
      "  warnings.warn(\"Variables are collinear\")\n"
     ]
    }
   ],
   "source": [
    "qda = make_pipeline(QDA()).fit(*Xyspam(train_df))\n",
    "cm_qda,cr_qda = print_report(qda, *Xyspam(test_df))"
   ]
  },
  {
   "cell_type": "code",
   "execution_count": 47,
   "id": "21d32709-50ef-4904-98ff-33e57bc47ebe",
   "metadata": {},
   "outputs": [
    {
     "name": "stdout",
     "output_type": "stream",
     "text": [
      "Predicted    0    1\n",
      "True               \n",
      "0          416  148\n",
      "1           21  336\n",
      "              precision    recall  f1-score   support\n",
      "\n",
      "           0       0.95      0.74      0.83       564\n",
      "           1       0.69      0.94      0.80       357\n",
      "\n",
      "    accuracy                           0.82       921\n",
      "   macro avg       0.82      0.84      0.82       921\n",
      "weighted avg       0.85      0.82      0.82       921\n",
      "\n"
     ]
    }
   ],
   "source": [
    "gnb = GaussianNB().fit(*Xyspam(train_df))\n",
    "\n",
    "cm_nb, cr_nb = print_report(gnb, *Xyspam(test_df))"
   ]
  },
  {
   "cell_type": "code",
   "execution_count": 48,
   "id": "26b83739-c983-4f7b-a0aa-685b1d7950a5",
   "metadata": {},
   "outputs": [],
   "source": [
    "def plot_conditional(X,y,f=None):\n",
    "    classes = np.unique(y)\n",
    "    for c in classes:\n",
    "        x = X[y==c]\n",
    "        if f is not None:\n",
    "            x=f(x)\n",
    "        plt.hist(x,alpha=0.5,density=True, label=c)\n",
    "    plt.legend()\n",
    "    plt.show()"
   ]
  },
  {
   "cell_type": "code",
   "execution_count": 49,
   "id": "bbf9e42b-7a6a-4e55-9f0a-9802f2c74685",
   "metadata": {},
   "outputs": [
    {
     "data": {
      "image/png": "[encoded data removed]",
      "text/plain": [
       "<Figure size 640x480 with 1 Axes>"
      ]
     },
     "metadata": {},
     "output_type": "display_data"
    }
   ],
   "source": [
    "plot_conditional(train_df.word_freq_credit, train_df['class'], lambda x: x[x!=0])"
   ]
  },
  {
   "cell_type": "code",
   "execution_count": 50,
   "id": "2c3feb80-bdb9-4ac9-8e90-fc5d8cf24d1c",
   "metadata": {},
   "outputs": [],
   "source": [
    "from sklearn.preprocessing import FunctionTransformer\n",
    "from sklearn.base import _get_feature_names\n",
    "\n",
    "\n",
    "def mk_fun_dict(d):\n",
    "    if isinstance(d, dict):\n",
    "        return d\n",
    "    return {f.__name__:f for f in d if hasattr(f,'__call__')}\n",
    "\n",
    "class AddFeatures:\n",
    "    def __init__(self, \n",
    "                 fun_dict, \n",
    "                 features=None):\n",
    "        self.funnames, self.funs = zip(*mk_fun_dict(fun_dict).items())\n",
    "        self.features = features\n",
    "    \n",
    "    def get_feture_names_out(self):\n",
    "        return self.feature_names_out_\n",
    "    \n",
    "    def fit(self, X, y=None, **kwargs):\n",
    "        self.feature_names_in_ = _get_feature_names(X)\n",
    "        if self.features is None:\n",
    "            self.features = self.feature_names_in_\n",
    "        self.feature_idx = np.nonzero(self.feature_names_in_[:,None]==self.features[None])[0]\n",
    "        # np.array([self.feature_names_in_.index(f) for f in self.features])\n",
    "        self.feature_names_out_ = list(self.feature_names_in_)\n",
    "        for n in self.funnames:\n",
    "            self.feature_names_out_.extend(f'{self.feature_names_in_[i]}_{n}' for i in self.feature_idx)\n",
    "        return self\n",
    "    \n",
    "    def transform(self, X, **kwargs):\n",
    "        X = np.asarray(X)\n",
    "        X1 = X[:, self.feature_idx].reshape(X.shape[0],len(self.feature_idx))\n",
    "        return np.concatenate([X]+[f(X1) for f in self.funs], axis=1)\n",
    "    \n",
    "    def fit_transform(self, X, y=None, **kwargs):\n",
    "        return self.fit(X, y, **kwargs).transform(X,**kwargs)\n"
   ]
  },
  {
   "cell_type": "code",
   "execution_count": 139,
   "id": "5b6be3b4-1a9d-4e2b-bc2a-ca1aac15e16d",
   "metadata": {},
   "outputs": [
    {
     "data": {
      "text/plain": [
       "array([[ 0.        ,  0.        ,  0.        , ...,  0.        ,\n",
       "         0.        , -0.96758403],\n",
       "       [ 0.08      ,  0.17      ,  0.17      , ...,  0.        ,\n",
       "        -3.77226106,  0.        ],\n",
       "       [ 0.        ,  0.        ,  1.85      , ..., -0.36816932,\n",
       "         0.        ,  0.        ],\n",
       "       ...,\n",
       "       [ 0.        ,  0.        ,  0.76      , ..., -0.83701755,\n",
       "        -0.83701755,  0.        ],\n",
       "       [ 0.        ,  0.        ,  0.87      , ...,  0.        ,\n",
       "         0.        ,  0.        ],\n",
       "       [ 0.        ,  0.        ,  0.        , ...,  0.        ,\n",
       "         0.        ,  0.        ]])"
      ]
     },
     "execution_count": 139,
     "metadata": {},
     "output_type": "execute_result"
    }
   ],
   "source": [
    "F = AddFeatures(\n",
    "    fun_dict={\n",
    "        'is_zero': lambda x: 1*(x==0), \n",
    "        'log_non_zero': lambda x: np.log(np.abs(x)+1*(x==0))\n",
    "    },\n",
    "    features=train_df.columns[:-4]\n",
    ")\n",
    "F.fit_transform(*Xyspam(train_df))"
   ]
  },
  {
   "cell_type": "code",
   "execution_count": 137,
   "id": "4fcf2391-9373-4b6a-86b4-4ff104652227",
   "metadata": {},
   "outputs": [
    {
     "data": {
      "text/plain": [
       "array([ 0,  1,  2,  3,  4,  5,  6,  7,  8,  9, 10, 11, 12, 13, 14, 15, 16,\n",
       "       17, 18, 19, 20, 21, 22, 23, 24, 25, 26, 27, 28, 29, 30, 31, 32, 33,\n",
       "       34, 35, 36, 37, 38, 39, 40, 41, 42, 43, 44, 45, 46, 47, 48, 49, 50,\n",
       "       51, 52, 53])"
      ]
     },
     "execution_count": 137,
     "metadata": {},
     "output_type": "execute_result"
    }
   ],
   "source": [
    "# mk_fun_dict([np.log, lambda x: np.log(x)])['log'](2)"
   ]
  },
  {
   "cell_type": "code",
   "execution_count": 80,
   "id": "89371a92-0d02-41c9-a1be-dc90eff1690f",
   "metadata": {},
   "outputs": [],
   "source": [
    "zero_lognonzero = FunctionTransformer(lambda x: np.concatenate((x, \n",
    "                                                                1*(x==0), \n",
    "                                                                np.log(np.abs(x)+1*(x==0))), \n",
    "                                                               axis=1))"
   ]
  },
  {
   "cell_type": "code",
   "execution_count": 144,
   "id": "db513bb0-09b1-4593-b027-dfc56c25d7e6",
   "metadata": {},
   "outputs": [
    {
     "data": {
      "text/plain": [
       "array([[ 0.        ,  2.02977408,  0.        ],\n",
       "       [-2.72628091,  0.        ,  0.09515851],\n",
       "       [ 0.        ,  2.02977408,  0.        ],\n",
       "       [ 0.        ,  2.02977408,  0.        ],\n",
       "       [-2.67034163,  0.        ,  0.        ],\n",
       "       [-2.19310826,  0.        ,  0.34753543],\n",
       "       [ 0.        ,  2.02977408,  0.        ],\n",
       "       [-1.01720739,  0.        ,  0.        ],\n",
       "       [-1.56371681,  0.        ,  0.05378524],\n",
       "       [-1.72825847,  0.        ,  0.92676113]])"
      ]
     },
     "execution_count": 144,
     "metadata": {},
     "output_type": "execute_result"
    }
   ],
   "source": [
    "preprocess = make_pipeline(F, StandardScaler(with_mean=False))\n",
    "preprocess.fit_transform(*Xyspam(train_df))[:10,-5::-54]"
   ]
  },
  {
   "cell_type": "code",
   "execution_count": 145,
   "id": "89e65681-f0d0-40e2-9021-1f8937a754f0",
   "metadata": {},
   "outputs": [],
   "source": [
    "logistic_fe_l1_cv = make_pipeline(preprocess, \n",
    "                               LogisticRegressionCV(Cs=[0.1, 0.5, 1, 2.5, 5], # #[0.1,1,5,10,50,100], \n",
    "                                                    penalty='l1', \n",
    "                                                    cv=cv, \n",
    "                                                    solver = 'liblinear',\n",
    "                                                    refit=True)).fit(*Xyspam(train_df)) #spam['frame']))\n",
    "\n"
   ]
  },
  {
   "cell_type": "code",
   "execution_count": 146,
   "id": "962d7512-c5a4-4bd9-b878-d9a1cef9d6db",
   "metadata": {},
   "outputs": [
    {
     "name": "stdout",
     "output_type": "stream",
     "text": [
      "[0.5]\n"
     ]
    }
   ],
   "source": [
    "l1_fe_best_C=logistic_fe_l1_cv[1].C_\n",
    "print(l1_fe_best_C)"
   ]
  },
  {
   "cell_type": "code",
   "execution_count": 147,
   "id": "064c022c-2f5d-4fec-a9f0-0154d53ab163",
   "metadata": {},
   "outputs": [
    {
     "data": {
      "image/png": "[encoded data removed]",
      "text/plain": [
       "<Figure size 432x288 with 2 Axes>"
      ]
     },
     "metadata": {
      "needs_background": "light"
     },
     "output_type": "display_data"
    }
   ],
   "source": [
    "plot_decision(logistic_fe_l1_cv, *Xyspam(test_df), r=(-30,30))"
   ]
  },
  {
   "cell_type": "code",
   "execution_count": 148,
   "id": "2893315a-1728-4c79-ad7e-241b19d7b85c",
   "metadata": {},
   "outputs": [
    {
     "name": "stdout",
     "output_type": "stream",
     "text": [
      "number of zero coefficients\n",
      "C           0.1  0.5  1.0  2.5  5.0\n",
      "Fold index                         \n",
      "0            91   53   37   30   14\n",
      "1            92   54   37   21   18\n",
      "2            89   62   42   31   23\n",
      "3            94   57   30   26   16\n",
      "4            93   61   42   20   18\n",
      "number of zero coefficients of the refitted model with the best C:  52\n"
     ]
    }
   ],
   "source": [
    "log_fe_l1_cv = logistic_fe_l1_cv[1]\n",
    "print('number of zero coefficients')\n",
    "nonzero_coef= pd.DataFrame((log_fe_l1_cv.coefs_paths_['1']==0).sum(axis=-1), \n",
    "                            columns=log_fe_l1_cv.Cs)\n",
    "nonzero_coef.index.name = 'Fold index'\n",
    "nonzero_coef.columns.name = 'C'\n",
    "print(nonzero_coef.to_string(line_width=80))\n",
    "\n",
    "coef_zero = np.where(log_fe_l1_cv.coef_[0]==0)[0]\n",
    "print('number of zero coefficients of the refitted model with the best C: ', len(coef_zero))"
   ]
  },
  {
   "cell_type": "code",
   "execution_count": 155,
   "id": "9ec4e911-d9d5-4710-9d9b-693e2689e3d5",
   "metadata": {},
   "outputs": [
    {
     "data": {
      "text/plain": [
       "array(['word_freq_3d', 'word_freq_over', 'word_freq_receive',\n",
       "       'word_freq_addresses', 'word_freq_your', 'word_freq_font',\n",
       "       'word_freq_hpl', 'word_freq_lab', 'word_freq_labs',\n",
       "       'word_freq_telnet', 'word_freq_857', 'word_freq_415',\n",
       "       'word_freq_technology', 'word_freq_1999', 'word_freq_cs',\n",
       "       'capital_run_length_average', 'word_freq_will_is_zero',\n",
       "       'word_freq_you_is_zero', 'word_freq_telnet_is_zero',\n",
       "       'word_freq_data_is_zero', 'word_freq_415_is_zero',\n",
       "       'word_freq_parts_is_zero', 'word_freq_pm_is_zero',\n",
       "       'word_freq_direct_is_zero', 'word_freq_table_is_zero',\n",
       "       'char_freq_%5B_is_zero', 'word_freq_make_log_non_zero',\n",
       "       'word_freq_address_log_non_zero', 'word_freq_remove_log_non_zero',\n",
       "       'word_freq_order_log_non_zero', 'word_freq_mail_log_non_zero',\n",
       "       'word_freq_receive_log_non_zero', 'word_freq_will_log_non_zero',\n",
       "       'word_freq_people_log_non_zero',\n",
       "       'word_freq_addresses_log_non_zero',\n",
       "       'word_freq_business_log_non_zero', 'word_freq_email_log_non_zero',\n",
       "       'word_freq_you_log_non_zero', 'word_freq_credit_log_non_zero',\n",
       "       'word_freq_george_log_non_zero', 'word_freq_labs_log_non_zero',\n",
       "       'word_freq_857_log_non_zero', 'word_freq_415_log_non_zero',\n",
       "       'word_freq_85_log_non_zero', 'word_freq_technology_log_non_zero',\n",
       "       'word_freq_cs_log_non_zero', 'word_freq_meeting_log_non_zero',\n",
       "       'word_freq_original_log_non_zero',\n",
       "       'word_freq_project_log_non_zero', 'word_freq_re_log_non_zero',\n",
       "       'word_freq_conference_log_non_zero', 'char_freq_%5B_log_non_zero'],\n",
       "      dtype='<U33')"
      ]
     },
     "execution_count": 155,
     "metadata": {},
     "output_type": "execute_result"
    }
   ],
   "source": [
    "np.array(F.feature_names_out_)[coef_zero]"
   ]
  },
  {
   "cell_type": "code",
   "execution_count": 149,
   "id": "80e28d3e-7c6f-4f7d-ab62-26b180c30de0",
   "metadata": {},
   "outputs": [
    {
     "name": "stdout",
     "output_type": "stream",
     "text": [
      "Predicted    0    1\n",
      "True               \n",
      "0          540   24\n",
      "1           34  323\n",
      "              precision    recall  f1-score   support\n",
      "\n",
      "           0       0.94      0.96      0.95       564\n",
      "           1       0.93      0.90      0.92       357\n",
      "\n",
      "    accuracy                           0.94       921\n",
      "   macro avg       0.94      0.93      0.93       921\n",
      "weighted avg       0.94      0.94      0.94       921\n",
      "\n"
     ]
    }
   ],
   "source": [
    "print_report(logistic_fe_l1_cv,*Xyspam(test_df))\n",
    "None"
   ]
  },
  {
   "cell_type": "code",
   "execution_count": 153,
   "id": "bfdc4350-1e24-437d-ba7d-dc8f3faa1b17",
   "metadata": {},
   "outputs": [
    {
     "name": "stdout",
     "output_type": "stream",
     "text": [
      "Predicted    0    1\n",
      "True               \n",
      "0          542   22\n",
      "1           39  318\n"
     ]
    }
   ],
   "source": [
    "print(cm_l1)"
   ]
  },
  {
   "cell_type": "code",
   "execution_count": 159,
   "id": "1a691e3e-4157-4ce4-8594-5ca481d0e6a7",
   "metadata": {},
   "outputs": [],
   "source": [
    "logistic_fe_l2_cv = make_pipeline(preprocess, \n",
    "                                  LogisticRegressionCV(Cs=[0.01,0.1, 0.25, 0.5,0.75, 1, 2.5, 5], # #[0.1,1,5,10,50,100], \n",
    "                                                    penalty='l2', \n",
    "                                                    cv=cv, \n",
    "                                                    solver = 'liblinear',\n",
    "                                                    refit=True)).fit(*Xyspam(train_df)) #spam['frame']))\n",
    "\n"
   ]
  },
  {
   "cell_type": "code",
   "execution_count": 160,
   "id": "7e3900b7-508e-4907-896b-1dac3cac69e4",
   "metadata": {},
   "outputs": [
    {
     "name": "stdout",
     "output_type": "stream",
     "text": [
      "[0.5]\n"
     ]
    }
   ],
   "source": [
    "l2_fe_best_C=logistic_fe_l2_cv[1].C_\n",
    "print(l2_fe_best_C)"
   ]
  },
  {
   "cell_type": "code",
   "execution_count": 161,
   "id": "a9d5ea2d-113f-4982-9c42-efd47b8bffbc",
   "metadata": {},
   "outputs": [
    {
     "name": "stdout",
     "output_type": "stream",
     "text": [
      "Predicted    0    1\n",
      "True               \n",
      "0          538   26\n",
      "1           34  323\n",
      "              precision    recall  f1-score   support\n",
      "\n",
      "           0       0.94      0.95      0.95       564\n",
      "           1       0.93      0.90      0.92       357\n",
      "\n",
      "    accuracy                           0.93       921\n",
      "   macro avg       0.93      0.93      0.93       921\n",
      "weighted avg       0.93      0.93      0.93       921\n",
      "\n"
     ]
    }
   ],
   "source": [
    "print_report(logistic_fe_l2_cv,*Xyspam(test_df))\n",
    "None"
   ]
  },
  {
   "cell_type": "code",
   "execution_count": 166,
   "id": "719aa7e5-0735-48a5-82ce-427fc51ac321",
   "metadata": {},
   "outputs": [],
   "source": [
    "logistic_fe_elastic_cv = make_pipeline(preprocess, \n",
    "                                  LogisticRegressionCV(Cs=[0.01,0.1, 0.25, 0.5,0.75, 1, 2.5, 5], # #[0.1,1,5,10,50,100], \n",
    "                                                    penalty='elasticnet', \n",
    "                                                    cv=cv, \n",
    "                                                    solver = 'saga',\n",
    "                                                    l1_ratios=[0.25,0.5,0.75],\n",
    "                                                    max_iter=5000,\n",
    "                                                    refit=True)).fit(*Xyspam(train_df)) #spam['frame']))\n"
   ]
  },
  {
   "cell_type": "code",
   "execution_count": 165,
   "id": "aa9a18e7-1b9c-4634-a957-6ed6c061919f",
   "metadata": {},
   "outputs": [
    {
     "name": "stdout",
     "output_type": "stream",
     "text": [
      "Predicted    0    1\n",
      "True               \n",
      "0          537   27\n",
      "1           33  324\n",
      "              precision    recall  f1-score   support\n",
      "\n",
      "           0       0.94      0.95      0.95       564\n",
      "           1       0.92      0.91      0.92       357\n",
      "\n",
      "    accuracy                           0.93       921\n",
      "   macro avg       0.93      0.93      0.93       921\n",
      "weighted avg       0.93      0.93      0.93       921\n",
      "\n"
     ]
    }
   ],
   "source": [
    "print_report(logistic_fe_elastic_cv,*Xyspam(test_df))\n",
    "None"
   ]
  },
  {
   "cell_type": "code",
   "execution_count": null,
   "id": "0cb7d7e9-50da-4601-b490-b80c99f85f88",
   "metadata": {},
   "outputs": [],
   "source": []
  }
 ],
 "metadata": {
  "kernelspec": {
   "display_name": "Python 3 (ipykernel)",
   "language": "python",
   "name": "python3"
  },
  "language_info": {
   "codemirror_mode": {
    "name": "ipython",
    "version": 3
   },
   "file_extension": ".py",
   "mimetype": "text/x-python",
   "name": "python",
   "nbconvert_exporter": "python",
   "pygments_lexer": "ipython3",
   "version": "3.8.13"
  },
  "widgets": {
   "application/vnd.jupyter.widget-state+json": {
    "state": {},
    "version_major": 2,
    "version_minor": 0
   }
  }
 },
 "nbformat": 4,
 "nbformat_minor": 5
}
