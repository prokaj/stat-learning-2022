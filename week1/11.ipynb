{
 "cells": [
  {
   "cell_type": "markdown",
   "id": "fdb30a7d",
   "metadata": {},
   "source": [
    "Show how the vector of least squares coefficients can be obtained from a\n",
    "single pass of the Gram--Schmidt procedure. Represent your solution in\n",
    "terms of the $QR$ decomposition of $\\mathbf{X}$."
   ]
  }
 ],
 "metadata": {
  "jupytext": {
   "cell_metadata_filter": "-all",
   "main_language": "python",
   "notebook_metadata_filter": "-all"
  }
 },
 "nbformat": 4,
 "nbformat_minor": 5
}