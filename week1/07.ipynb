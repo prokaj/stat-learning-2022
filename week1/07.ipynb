{
 "cells": [
  {
   "cell_type": "markdown",
   "id": "655ad99f",
   "metadata": {},
   "source": [
    "In this problem we will investigate the $t$-statistic for the null\n",
    "hypothesis $H_0 : \\beta = 0$ in simple linear regression without an\n",
    "intercept. To begin, we generate a predictor $x$ and a response $y$ as\n",
    "follows.\n",
    "\n",
    "    #---------------\n",
    "    import numpy as np\n",
    "    np.random.seed(1)\n",
    "    x = np.random.normal(size=100)\n",
    "    y = 2*x + np.random.normal(size=len(x))\n",
    "    #---------------\n",
    "\n",
    "a.  Perform a simple linear regression of $y$ onto $x$, without an\n",
    "    intercept. Report the coefficient estimate $\\hat \\beta$, the\n",
    "    standard error of this coefficient estimate, and the $t$-statistic\n",
    "    and $p$-value associated with the null hypothesis $H_0 : \\beta =\n",
    "        0$. Comment on these results. (In the formula interface,\n",
    "    regression without an intercept term is expressed as `y~x+0`.)\n"
   ]
  },
  {
   "cell_type": "code",
   "execution_count": null,
   "id": "a1cdf71a",
   "metadata": {},
   "outputs": [],
   "source": [
    "##\n"
   ]
  },
  {
   "cell_type": "markdown",
   "id": "61211440",
   "metadata": {},
   "source": [
    "b.  Now perform a simple linear regression of $x$ onto $y$ without an\n",
    "    intercept, and report the coefficient estimate, its standard error,\n",
    "    and the corresponding $t$-statistic and $p$-values associated with\n",
    "    the null hypothesis $H_0 : \\beta = 0$. Comment on these results.\n"
   ]
  },
  {
   "cell_type": "code",
   "execution_count": null,
   "id": "1b4fc3ea",
   "metadata": {},
   "outputs": [],
   "source": [
    "##\n"
   ]
  },
  {
   "cell_type": "markdown",
   "id": "7a38dff4",
   "metadata": {},
   "source": [
    "c.  What is the relationship between the results obtained in (a) and\n",
    "    (b)?\n"
   ]
  },
  {
   "cell_type": "code",
   "execution_count": null,
   "id": "d17a8c9c",
   "metadata": {},
   "outputs": [],
   "source": [
    "##\n"
   ]
  },
  {
   "cell_type": "markdown",
   "id": "bd3bb2c4",
   "metadata": {
    "lines_to_next_cell": 0
   },
   "source": [
    "d. For the regression of $Y$ onto $X$ without an intercept, the\n",
    "   $t$-statistic for $H_0 : \\beta = 0$ takes the form\n",
    "   $\\hat\\beta/\\text{SE}(\\hat\\beta)$, where $\\hat\\beta$ is given by\n",
    "   $$\\hat\\beta = \\frac{\\sum_i x_iy_i}{\\sum_i x_i^2}$$ and where\n",
    "   $$\\text{SE}(\\hat\\beta) =\n",
    "          \\sqrt{\\frac{\\frac1{n-1}{\\sum_i (y_i-x_i\\hat\\beta)^2}}{\\sum_i x_i^2}}$$\n",
    "\n",
    "   Show algebraically, and confirm numerically, that the $t$-statistic\n",
    "   can be written as\n",
    "   $$\\frac{\\sqrt{n-1}\\sum_i x_iy_i}{\\sqrt{\\left({\\sum_i\n",
    "                x_i^2}\\right){\\left({\\sum_i y_i^2}\\right)}-\\left({\\sum_i x_iy_i}\\right)^2}}$$\n",
    "\n",
    "    "
   ]
  },
  {
   "cell_type": "code",
   "execution_count": null,
   "id": "bac9b1ad",
   "metadata": {},
   "outputs": [],
   "source": [
    "##\n"
   ]
  },
  {
   "cell_type": "markdown",
   "id": "a0305b7f",
   "metadata": {},
   "source": [
    "e.  Using the results from (d), argue that the $t$-statistic for the\n",
    "    regression of $y$ onto $x$ is the same as the $t$-statistic for the\n",
    "    regression of $x$ onto $y$.\n"
   ]
  },
  {
   "cell_type": "code",
   "execution_count": null,
   "id": "f1531070",
   "metadata": {},
   "outputs": [],
   "source": [
    "##\n"
   ]
  },
  {
   "cell_type": "markdown",
   "id": "b6d3b85a",
   "metadata": {},
   "source": [
    "f.  In `python`, show that when regression is performed with an\n",
    "    intercept, the $t$-statistic for $H_0 : \\beta_1 = 0$ is the same for\n",
    "    the regression of $y$ onto $x$ as it is for the regression of $x$\n",
    "    onto $y$.\n"
   ]
  },
  {
   "cell_type": "code",
   "execution_count": null,
   "id": "4ef39d2d",
   "metadata": {},
   "outputs": [],
   "source": [
    "##\n"
   ]
  }
 ],
 "metadata": {
  "jupytext": {
   "cell_metadata_filter": "-all",
   "main_language": "python",
   "notebook_metadata_filter": "-all"
  },
  "language_info": {
   "name": "python"
  }
 },
 "nbformat": 4,
 "nbformat_minor": 5
}
