{
 "cells": [
  {
   "cell_type": "markdown",
   "id": "685bfbcb",
   "metadata": {
    "id": "685bfbcb"
   },
   "source": [
    "This question should be answered using the `Carseats` data set. To load\n",
    "this data set you can use the next snippet:\n",
    "\n",
    "    #-----------------\n",
    "    import statsmodels.datasets as smd\n",
    "    carseats = smd.get_rdataset('Carseats', 'ISLR')\n",
    "    #-----------------\n",
    "\n",
    "a.  Fit a multiple regression model to predict `Sales` using `Price`,\n",
    "    `Urban`, and `US`.\n"
   ]
  },
  {
   "cell_type": "code",
   "execution_count": 2,
   "id": "ed98f619",
   "metadata": {
    "executionInfo": {
     "elapsed": 314,
     "status": "ok",
     "timestamp": 1636115704419,
     "user": {
      "displayName": "Vilmos Prokaj",
      "photoUrl": "https://lh3.googleusercontent.com/a/default-user=s64",
      "userId": "09424789180712523809"
     },
     "user_tz": -60
    },
    "id": "ed98f619"
   },
   "outputs": [],
   "source": [
    "##\n",
    "import statsmodels.datasets as smd\n",
    "import numpy as np\n",
    "import statsmodels.api as sm\n",
    "import seaborn as sns\n",
    "import matplotlib.pyplot as plt\n",
    "import pandas as pd\n",
    "\n",
    "carseats = smd.get_rdataset('Carseats', 'ISLR')"
   ]
  },
  {
   "cell_type": "code",
   "execution_count": 3,
   "id": "ETalES6F5A_V",
   "metadata": {
    "colab": {
     "base_uri": "https://localhost:8080/"
    },
    "executionInfo": {
     "elapsed": 252,
     "status": "ok",
     "timestamp": 1636115789219,
     "user": {
      "displayName": "Vilmos Prokaj",
      "photoUrl": "https://lh3.googleusercontent.com/a/default-user=s64",
      "userId": "09424789180712523809"
     },
     "user_tz": -60
    },
    "id": "ETalES6F5A_V",
    "outputId": "2a3fa9d7-2007-46e8-fc22-1ef894da5fe5"
   },
   "outputs": [
    {
     "name": "stdout",
     "output_type": "stream",
     "text": [
      "                            OLS Regression Results                            \n",
      "==============================================================================\n",
      "Dep. Variable:                  Sales   R-squared:                       0.239\n",
      "Model:                            OLS   Adj. R-squared:                  0.234\n",
      "Method:                 Least Squares   F-statistic:                     41.52\n",
      "Date:                Thu, 03 Nov 2022   Prob (F-statistic):           2.39e-23\n",
      "Time:                        18:34:00   Log-Likelihood:                -927.66\n",
      "No. Observations:                 400   AIC:                             1863.\n",
      "Df Residuals:                     396   BIC:                             1879.\n",
      "Df Model:                           3                                         \n",
      "Covariance Type:            nonrobust                                         \n",
      "================================================================================\n",
      "                   coef    std err          t      P>|t|      [0.025      0.975]\n",
      "--------------------------------------------------------------------------------\n",
      "Intercept       13.0435      0.651     20.036      0.000      11.764      14.323\n",
      "Urban[T.Yes]    -0.0219      0.272     -0.081      0.936      -0.556       0.512\n",
      "US[T.Yes]        1.2006      0.259      4.635      0.000       0.691       1.710\n",
      "Price           -0.0545      0.005    -10.389      0.000      -0.065      -0.044\n",
      "==============================================================================\n",
      "Omnibus:                        0.676   Durbin-Watson:                   1.912\n",
      "Prob(Omnibus):                  0.713   Jarque-Bera (JB):                0.758\n",
      "Skew:                           0.093   Prob(JB):                        0.684\n",
      "Kurtosis:                       2.897   Cond. No.                         628.\n",
      "==============================================================================\n",
      "\n",
      "Notes:\n",
      "[1] Standard Errors assume that the covariance matrix of the errors is correctly specified.\n"
     ]
    }
   ],
   "source": [
    "df = carseats.data['Sales Urban US Price'.split()].copy()\n",
    "df['US'] = pd.Categorical(df.US) # or  1*(df.US=='Yes')\n",
    "df['Urban'] = pd.Categorical(df.Urban) # or 1*(df.Urban=='Yes')\n",
    "formula = 'Sales ~ Price + Urban + US'\n",
    "result = sm.formula.ols(formula, data=df).fit()\n",
    "print(result.summary().as_text())"
   ]
  },
  {
   "cell_type": "code",
   "execution_count": 5,
   "id": "ba3c3ef4",
   "metadata": {},
   "outputs": [
    {
     "name": "stdout",
     "output_type": "stream",
     "text": [
      "\u001b[0;31mType:\u001b[0m            Dataset\n",
      "\u001b[0;31mString form:\u001b[0m     <class 'statsmodels.datasets.utils.Dataset'>\n",
      "\u001b[0;31mLength:\u001b[0m          5\n",
      "\u001b[0;31mFile:\u001b[0m            ~/.config/jupyterlab-desktop/jlab_server/lib/python3.8/site-packages/statsmodels/datasets/utils.py\n",
      "\u001b[0;31mDocstring:\u001b[0m      \n",
      ".. container::\n",
      "\n",
      "======== ===============\n",
      "Carseats R Documentation\n",
      "======== ===============\n",
      "\n",
      ".. rubric:: Sales of Child Car Seats\n",
      "   :name: sales-of-child-car-seats\n",
      "\n",
      ".. rubric:: Description\n",
      "   :name: description\n",
      "\n",
      "A simulated data set containing sales of child car seats at 400\n",
      "different stores.\n",
      "\n",
      ".. rubric:: Usage\n",
      "   :name: usage\n",
      "\n",
      "::\n",
      "\n",
      "   Carseats\n",
      "\n",
      ".. rubric:: Format\n",
      "   :name: format\n",
      "\n",
      "A data frame with 400 observations on the following 11 variables.\n",
      "\n",
      "``Sales``\n",
      "   Unit sales (in thousands) at each location\n",
      "\n",
      "``CompPrice``\n",
      "   Price charged by competitor at each location\n",
      "\n",
      "``Income``\n",
      "   Community income level (in thousands of dollars)\n",
      "\n",
      "``Advertising``\n",
      "   Local advertising budget for company at each location (in\n",
      "   thousands of dollars)\n",
      "\n",
      "``Population``\n",
      "   Population size in region (in thousands)\n",
      "\n",
      "``Price``\n",
      "   Price company charges for car seats at each site\n",
      "\n",
      "``ShelveLoc``\n",
      "   A factor with levels ``Bad``, ``Good`` and ``Medium`` indicating\n",
      "   the quality of the shelving location for the car seats at each\n",
      "   site\n",
      "\n",
      "``Age``\n",
      "   Average age of the local population\n",
      "\n",
      "``Education``\n",
      "   Education level at each location\n",
      "\n",
      "``Urban``\n",
      "   A factor with levels ``No`` and ``Yes`` to indicate whether the\n",
      "   store is in an urban or rural location\n",
      "\n",
      "``US``\n",
      "   A factor with levels ``No`` and ``Yes`` to indicate whether the\n",
      "   store is in the US or not\n",
      "\n",
      ".. rubric:: Source\n",
      "   :name: source\n",
      "\n",
      "Simulated data\n",
      "\n",
      ".. rubric:: References\n",
      "   :name: references\n",
      "\n",
      "James, G., Witten, D., Hastie, T., and Tibshirani, R. (2013) *An\n",
      "Introduction to Statistical Learning with applications in R*,\n",
      "https://www.statlearning.com, Springer-Verlag, New York\n",
      "\n",
      ".. rubric:: Examples\n",
      "   :name: examples\n",
      "\n",
      "::\n",
      "\n",
      "   summary(Carseats)\n",
      "   lm.fit=lm(Sales~Advertising+Price,data=Carseats)\n",
      "\u001b[0;31mClass docstring:\u001b[0m\n",
      "dict() -> new empty dictionary\n",
      "dict(mapping) -> new dictionary initialized from a mapping object's\n",
      "    (key, value) pairs\n",
      "dict(iterable) -> new dictionary initialized as if via:\n",
      "    d = {}\n",
      "    for k, v in iterable:\n",
      "        d[k] = v\n",
      "dict(**kwargs) -> new dictionary initialized with the name=value pairs\n",
      "    in the keyword argument list.  For example:  dict(one=1, two=2)\n"
     ]
    }
   ],
   "source": [
    "carseats?"
   ]
  },
  {
   "cell_type": "code",
   "execution_count": 4,
   "id": "RiEswYWK4iZU",
   "metadata": {
    "colab": {
     "base_uri": "https://localhost:8080/"
    },
    "executionInfo": {
     "elapsed": 257,
     "status": "ok",
     "timestamp": 1636112484814,
     "user": {
      "displayName": "",
      "photoUrl": "",
      "userId": ""
     },
     "user_tz": -60
    },
    "id": "RiEswYWK4iZU",
    "outputId": "304cf0ec-8aa5-4ebc-92fb-9181e03dc8bb"
   },
   "outputs": [
    {
     "name": "stdout",
     "output_type": "stream",
     "text": [
      "                            OLS Regression Results                            \n",
      "==============================================================================\n",
      "Dep. Variable:                  Sales   R-squared:                       0.239\n",
      "Model:                            OLS   Adj. R-squared:                  0.234\n",
      "Method:                 Least Squares   F-statistic:                     41.52\n",
      "Date:                Thu, 03 Nov 2022   Prob (F-statistic):           2.39e-23\n",
      "Time:                        18:34:01   Log-Likelihood:                -927.66\n",
      "No. Observations:                 400   AIC:                             1863.\n",
      "Df Residuals:                     396   BIC:                             1879.\n",
      "Df Model:                           3                                         \n",
      "Covariance Type:            nonrobust                                         \n",
      "==============================================================================\n",
      "                 coef    std err          t      P>|t|      [0.025      0.975]\n",
      "------------------------------------------------------------------------------\n",
      "Intercept     13.0435      0.651     20.036      0.000      11.764      14.323\n",
      "Price         -0.0545      0.005    -10.389      0.000      -0.065      -0.044\n",
      "Urban         -0.0219      0.272     -0.081      0.936      -0.556       0.512\n",
      "US             1.2006      0.259      4.635      0.000       0.691       1.710\n",
      "==============================================================================\n",
      "Omnibus:                        0.676   Durbin-Watson:                   1.912\n",
      "Prob(Omnibus):                  0.713   Jarque-Bera (JB):                0.758\n",
      "Skew:                           0.093   Prob(JB):                        0.684\n",
      "Kurtosis:                       2.897   Cond. No.                         628.\n",
      "==============================================================================\n",
      "\n",
      "Notes:\n",
      "[1] Standard Errors assume that the covariance matrix of the errors is correctly specified.\n"
     ]
    },
    {
     "name": "stdout",
     "output_type": "stream",
     "text": [
      "\u001b[0;31mType:\u001b[0m            Dataset\n",
      "\u001b[0;31mString form:\u001b[0m     <class 'statsmodels.datasets.utils.Dataset'>\n",
      "\u001b[0;31mLength:\u001b[0m          5\n",
      "\u001b[0;31mFile:\u001b[0m            ~/.config/jupyterlab-desktop/jlab_server/lib/python3.8/site-packages/statsmodels/datasets/utils.py\n",
      "\u001b[0;31mDocstring:\u001b[0m      \n",
      ".. container::\n",
      "\n",
      "======== ===============\n",
      "Carseats R Documentation\n",
      "======== ===============\n",
      "\n",
      ".. rubric:: Sales of Child Car Seats\n",
      "   :name: sales-of-child-car-seats\n",
      "\n",
      ".. rubric:: Description\n",
      "   :name: description\n",
      "\n",
      "A simulated data set containing sales of child car seats at 400\n",
      "different stores.\n",
      "\n",
      ".. rubric:: Usage\n",
      "   :name: usage\n",
      "\n",
      "::\n",
      "\n",
      "   Carseats\n",
      "\n",
      ".. rubric:: Format\n",
      "   :name: format\n",
      "\n",
      "A data frame with 400 observations on the following 11 variables.\n",
      "\n",
      "``Sales``\n",
      "   Unit sales (in thousands) at each location\n",
      "\n",
      "``CompPrice``\n",
      "   Price charged by competitor at each location\n",
      "\n",
      "``Income``\n",
      "   Community income level (in thousands of dollars)\n",
      "\n",
      "``Advertising``\n",
      "   Local advertising budget for company at each location (in\n",
      "   thousands of dollars)\n",
      "\n",
      "``Population``\n",
      "   Population size in region (in thousands)\n",
      "\n",
      "``Price``\n",
      "   Price company charges for car seats at each site\n",
      "\n",
      "``ShelveLoc``\n",
      "   A factor with levels ``Bad``, ``Good`` and ``Medium`` indicating\n",
      "   the quality of the shelving location for the car seats at each\n",
      "   site\n",
      "\n",
      "``Age``\n",
      "   Average age of the local population\n",
      "\n",
      "``Education``\n",
      "   Education level at each location\n",
      "\n",
      "``Urban``\n",
      "   A factor with levels ``No`` and ``Yes`` to indicate whether the\n",
      "   store is in an urban or rural location\n",
      "\n",
      "``US``\n",
      "   A factor with levels ``No`` and ``Yes`` to indicate whether the\n",
      "   store is in the US or not\n",
      "\n",
      ".. rubric:: Source\n",
      "   :name: source\n",
      "\n",
      "Simulated data\n",
      "\n",
      ".. rubric:: References\n",
      "   :name: references\n",
      "\n",
      "James, G., Witten, D., Hastie, T., and Tibshirani, R. (2013) *An\n",
      "Introduction to Statistical Learning with applications in R*,\n",
      "https://www.statlearning.com, Springer-Verlag, New York\n",
      "\n",
      ".. rubric:: Examples\n",
      "   :name: examples\n",
      "\n",
      "::\n",
      "\n",
      "   summary(Carseats)\n",
      "   lm.fit=lm(Sales~Advertising+Price,data=Carseats)\n",
      "\u001b[0;31mClass docstring:\u001b[0m\n",
      "dict() -> new empty dictionary\n",
      "dict(mapping) -> new dictionary initialized from a mapping object's\n",
      "    (key, value) pairs\n",
      "dict(iterable) -> new dictionary initialized as if via:\n",
      "    d = {}\n",
      "    for k, v in iterable:\n",
      "        d[k] = v\n",
      "dict(**kwargs) -> new dictionary initialized with the name=value pairs\n",
      "    in the keyword argument list.  For example:  dict(one=1, two=2)\n"
     ]
    }
   ],
   "source": [
    "carseats?\n",
    "\n",
    "df = carseats.data['Sales Urban US Price'.split()].copy()\n",
    "df['US'] = 1*(df.US=='Yes')\n",
    "df['Urban'] = 1*(df.Urban=='Yes')\n",
    "formula = 'Sales ~ Price + Urban + US'\n",
    "result = sm.formula.ols(formula, data=df).fit()\n",
    "print(result.summary().as_text())"
   ]
  },
  {
   "cell_type": "markdown",
   "id": "9c2f7d1b",
   "metadata": {
    "id": "9c2f7d1b"
   },
   "source": [
    "b.  Provide an interpretation of each coefficient in the model. Be\n",
    "    careful, some of the variables in the model are qualitative!\n"
   ]
  },
  {
   "cell_type": "code",
   "execution_count": null,
   "id": "c19eb231",
   "metadata": {
    "id": "c19eb231"
   },
   "outputs": [],
   "source": [
    "##\n"
   ]
  },
  {
   "cell_type": "markdown",
   "id": "c84cf10e",
   "metadata": {
    "id": "c84cf10e"
   },
   "source": [
    "c.  Write out the model in equation form, being careful to handle the\n",
    "    qualitative variables properly\n"
   ]
  },
  {
   "cell_type": "code",
   "execution_count": null,
   "id": "d61095ad",
   "metadata": {
    "id": "d61095ad"
   },
   "outputs": [],
   "source": [
    "##\n"
   ]
  },
  {
   "cell_type": "markdown",
   "id": "076f92fd",
   "metadata": {
    "id": "076f92fd"
   },
   "source": [
    "d.  For which of the predictors can you reject the null hypothesis $H_0: \\beta_j = 0$?\n"
   ]
  },
  {
   "cell_type": "markdown",
   "id": "45f45128-cfc7-4214-877e-cf263aa7b898",
   "metadata": {
    "id": "31b677fa"
   },
   "source": [
    "##\n",
    "Urban"
   ]
  },
  {
   "cell_type": "markdown",
   "id": "a857ca63",
   "metadata": {
    "id": "a857ca63"
   },
   "source": [
    "e.  On the basis of your response to the previous question, fit a\n",
    "    smaller model that only uses the predictors for which there is\n",
    "    evidence of association with the outcome.\n"
   ]
  },
  {
   "cell_type": "code",
   "execution_count": null,
   "id": "b47449b2",
   "metadata": {
    "colab": {
     "base_uri": "https://localhost:8080/"
    },
    "executionInfo": {
     "elapsed": 15,
     "status": "ok",
     "timestamp": 1636112676008,
     "user": {
      "displayName": "",
      "photoUrl": "",
      "userId": ""
     },
     "user_tz": -60
    },
    "id": "b47449b2",
    "outputId": "771ae395-c26e-48de-e7d6-7f1ea41bb42e"
   },
   "outputs": [
    {
     "name": "stdout",
     "output_type": "stream",
     "text": [
      "                            OLS Regression Results                            \n",
      "==============================================================================\n",
      "Dep. Variable:                  Sales   R-squared:                       0.239\n",
      "Model:                            OLS   Adj. R-squared:                  0.235\n",
      "Method:                 Least Squares   F-statistic:                     62.43\n",
      "Date:                Fri, 05 Nov 2021   Prob (F-statistic):           2.66e-24\n",
      "Time:                        11:44:35   Log-Likelihood:                -927.66\n",
      "No. Observations:                 400   AIC:                             1861.\n",
      "Df Residuals:                     397   BIC:                             1873.\n",
      "Df Model:                           2                                         \n",
      "Covariance Type:            nonrobust                                         \n",
      "==============================================================================\n",
      "                 coef    std err          t      P>|t|      [0.025      0.975]\n",
      "------------------------------------------------------------------------------\n",
      "Intercept     13.0308      0.631     20.652      0.000      11.790      14.271\n",
      "Price         -0.0545      0.005    -10.416      0.000      -0.065      -0.044\n",
      "US             1.1996      0.258      4.641      0.000       0.692       1.708\n",
      "==============================================================================\n",
      "Omnibus:                        0.666   Durbin-Watson:                   1.912\n",
      "Prob(Omnibus):                  0.717   Jarque-Bera (JB):                0.749\n",
      "Skew:                           0.092   Prob(JB):                        0.688\n",
      "Kurtosis:                       2.895   Cond. No.                         607.\n",
      "==============================================================================\n",
      "\n",
      "Warnings:\n",
      "[1] Standard Errors assume that the covariance matrix of the errors is correctly specified.\n"
     ]
    }
   ],
   "source": [
    "##\n",
    "formula1 = 'Sales ~ Price + US'\n",
    "result1 = sm.formula.ols(formula1, data=df).fit()\n",
    "print(result1.summary().as_text())"
   ]
  },
  {
   "cell_type": "markdown",
   "id": "e0708c07",
   "metadata": {
    "id": "e0708c07"
   },
   "source": [
    "f.  How well do the models in (a) and (e) fit the data?\n"
   ]
  },
  {
   "cell_type": "markdown",
   "id": "db177c7a-1b01-45a3-a70f-fd0a6dd6f983",
   "metadata": {
    "id": "b712a9cb"
   },
   "source": [
    "##\n",
    "$R^2$ is the same."
   ]
  },
  {
   "cell_type": "markdown",
   "id": "af1125e4",
   "metadata": {
    "id": "af1125e4"
   },
   "source": [
    "g.  Using the model from (e), obtain 95 % confidence intervals for the\n",
    "    coefficient(s).\n"
   ]
  },
  {
   "cell_type": "code",
   "execution_count": null,
   "id": "e2c808c0",
   "metadata": {
    "id": "e2c808c0"
   },
   "outputs": [],
   "source": [
    "##\n"
   ]
  },
  {
   "cell_type": "markdown",
   "id": "0a7d7142",
   "metadata": {
    "id": "0a7d7142"
   },
   "source": [
    "h.  Is there evidence of outliers or high leverage observations in the\n",
    "    model from (e)?\n"
   ]
  },
  {
   "cell_type": "code",
   "execution_count": null,
   "id": "88b1e825",
   "metadata": {
    "colab": {
     "base_uri": "https://localhost:8080/",
     "height": 530
    },
    "executionInfo": {
     "elapsed": 1126,
     "status": "ok",
     "timestamp": 1636113100771,
     "user": {
      "displayName": "",
      "photoUrl": "",
      "userId": ""
     },
     "user_tz": -60
    },
    "id": "88b1e825",
    "outputId": "c8213ced-fe18-44aa-8b69-d740a42dfdcd"
   },
   "outputs": [
    {
     "data": {
      "image/png": "[encoded data removed]",
      "text/plain": [
       "<Figure size 432x288 with 1 Axes>"
      ]
     },
     "metadata": {
      "needs_background": "light"
     },
     "output_type": "display_data"
    },
    {
     "data": {
      "text/plain": [
       "(6.097920558687301, 0.015)"
      ]
     },
     "execution_count": 22,
     "metadata": {},
     "output_type": "execute_result"
    },
    {
     "data": {
      "image/png": "[encoded data removed]",
      "text/plain": [
       "<Figure size 432x288 with 1 Axes>"
      ]
     },
     "metadata": {
      "needs_background": "light"
     },
     "output_type": "display_data"
    }
   ],
   "source": [
    "##\n",
    "hdiag = result1.get_influence().hat_matrix_diag\n",
    "student_resid = result1.resid/(result1.scale*(1-hdiag))*0.5\n",
    "sns.scatterplot(x=result1.fittedvalues, y=student_resid)\n",
    "plt.show()\n",
    "sns.scatterplot(x=hdiag, y=student_resid)\n",
    "result1.scale, 2*(result1.df_model+1)/result1.nobs"
   ]
  },
  {
   "cell_type": "markdown",
   "id": "c46254bf-e458-446c-ae6e-65223ce20e7d",
   "metadata": {},
   "source": [
    "No outliers, a few high leverage observation with small studentized residuals."
   ]
  }
 ],
 "metadata": {
  "colab": {
   "name": "Copy of week-1.6.ipynb",
   "provenance": [
    {
     "file_id": "https://github.com/prokaj/ipynb/blob/main/week-1.6.ipynb",
     "timestamp": 1636113163166
    }
   ]
  },
  "jupytext": {
   "cell_metadata_filter": "-all",
   "main_language": "python",
   "notebook_metadata_filter": "-all"
  },
  "kernelspec": {
   "display_name": "base",
   "language": "python",
   "name": "python3"
  },
  "language_info": {
   "codemirror_mode": {
    "name": "ipython",
    "version": 3
   },
   "file_extension": ".py",
   "mimetype": "text/x-python",
   "name": "python",
   "nbconvert_exporter": "python",
   "pygments_lexer": "ipython3",
   "version": "3.8.13"
  },
  "vscode": {
   "interpreter": {
    "hash": "d8b53ac59aeb7dd99955ed1c7af180cec0b2adbd03b0a8162d4077beb5f10154"
   }
  },
  "widgets": {
   "application/vnd.jupyter.widget-state+json": {
    "state": {},
    "version_major": 2,
    "version_minor": 0
   }
  }
 },
 "nbformat": 4,
 "nbformat_minor": 5
}
