{
 "cells": [
  {
   "cell_type": "markdown",
   "id": "0ba6768e",
   "metadata": {},
   "source": [
    "This question should be answered using the `Carseats` data set. To load\n",
    "this data set you can use the next snippet:\n",
    "\n",
    "    #-----------------\n",
    "    import statsmodels.datasets as smd\n",
    "    carseats = smd.get_rdataset('Carseats', 'ISLR')\n",
    "    #-----------------\n",
    "\n",
    "a.  Fit a multiple regression model to predict `Sales` using `Price`,\n",
    "    `Urban`, and `US`.\n"
   ]
  },
  {
   "cell_type": "code",
   "execution_count": null,
   "id": "bc2b468c",
   "metadata": {},
   "outputs": [],
   "source": [
    "##\n"
   ]
  },
  {
   "cell_type": "markdown",
   "id": "238aa3f5",
   "metadata": {},
   "source": [
    "b.  Provide an interpretation of each coefficient in the model. Be\n",
    "    careful, some of the variables in the model are qualitative!\n"
   ]
  },
  {
   "cell_type": "code",
   "execution_count": null,
   "id": "89839179",
   "metadata": {},
   "outputs": [],
   "source": [
    "##\n"
   ]
  },
  {
   "cell_type": "markdown",
   "id": "9c971f4e",
   "metadata": {},
   "source": [
    "c.  Write out the model in equation form, being careful to handle the\n",
    "    qualitative variables properly\n"
   ]
  },
  {
   "cell_type": "code",
   "execution_count": null,
   "id": "1fbb1fe8",
   "metadata": {},
   "outputs": [],
   "source": [
    "##\n"
   ]
  },
  {
   "cell_type": "markdown",
   "id": "4af705de",
   "metadata": {},
   "source": [
    "d.  For which of the predictors can you reject the null hypothesis\n",
    "    $H_0: \\beta_j = 0$?\n"
   ]
  },
  {
   "cell_type": "code",
   "execution_count": null,
   "id": "99f34c89",
   "metadata": {},
   "outputs": [],
   "source": [
    "##\n"
   ]
  },
  {
   "cell_type": "markdown",
   "id": "70d98e78",
   "metadata": {},
   "source": [
    "e.  On the basis of your response to the previous question, fit a\n",
    "    smaller model that only uses the predictors for which there is\n",
    "    evidence of association with the outcome.\n"
   ]
  },
  {
   "cell_type": "code",
   "execution_count": null,
   "id": "07739d91",
   "metadata": {},
   "outputs": [],
   "source": [
    "##\n"
   ]
  },
  {
   "cell_type": "markdown",
   "id": "49a3ed03",
   "metadata": {},
   "source": [
    "f.  How well do the models in (a) and (e) fit the data?\n"
   ]
  },
  {
   "cell_type": "code",
   "execution_count": null,
   "id": "0acdfa2d",
   "metadata": {},
   "outputs": [],
   "source": [
    "##\n"
   ]
  },
  {
   "cell_type": "markdown",
   "id": "4131e9f0",
   "metadata": {},
   "source": [
    "g.  Using the model from (e), obtain 95 % confidence intervals for the\n",
    "    coefficient(s).\n"
   ]
  },
  {
   "cell_type": "code",
   "execution_count": null,
   "id": "c20dc5d5",
   "metadata": {},
   "outputs": [],
   "source": [
    "##\n"
   ]
  },
  {
   "cell_type": "markdown",
   "id": "d13f36dc",
   "metadata": {},
   "source": [
    "h.  Is there evidence of outliers or high leverage observations in the\n",
    "    model from (e)?\n"
   ]
  },
  {
   "cell_type": "code",
   "execution_count": null,
   "id": "54001321",
   "metadata": {},
   "outputs": [],
   "source": [
    "##\n"
   ]
  }
 ],
 "metadata": {
  "jupytext": {
   "cell_metadata_filter": "-all",
   "main_language": "python",
   "notebook_metadata_filter": "-all"
  }
 },
 "nbformat": 4,
 "nbformat_minor": 5
}