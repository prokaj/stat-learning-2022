{
 "cells": [
  {
   "cell_type": "markdown",
   "id": "4f23426f",
   "metadata": {
    "lines_to_next_cell": 0
   },
   "source": [
    "Suppose we have a data set with five predictors, $$\\begin{aligned}\n",
    "    X_1 &= \\text{GPA},\\\\\n",
    "    X_2 &= \\text{IQ},\\\\\n",
    "    X_3 &= \\text{Level},\\quad \\text{1 for College and 0 for High\n",
    "          School},\\\\\n",
    "    X_4 &= \\text{Interaction between GPA and IQ}, \\\\\n",
    "    X_5 &= \\text{Interaction between GPA and Level}. \n",
    "  \\end{aligned}$$ The response is starting salary after graduation (in\n",
    "thousands of dollars). Suppose we use least squares to fit the model,\n",
    "and get $\\hat\\beta_0 = 50$, $\\hat \\beta_1 = 20$, $\\hat\\beta_2 = 0.07$,\n",
    "$\\hat\\beta_3 = 35$, $\\hat\\beta_4 = 0.01$, $\\hat\\beta_5 = -10$.\n",
    "\n",
    "a. Which answer is correct, and why?\n",
    "\n",
    "   - For a fixed value of IQ and GPA, high school graduates earn more, on average, than college graduates.\n",
    "\n",
    "   - For a fixed value of IQ and GPA, college graduates earn more, on\n",
    "     average, than high school graduates.     \n",
    "   \n",
    "   - For a fixed value of IQ and GPA, high school graduates earn\n",
    "     more, on average, than college graduates provided that the GPA\n",
    "     is high enough.\n",
    "   \n",
    "   - For a fixed value of IQ and GPA, college graduates earn more, on\n",
    "     average, than high school graduates provided that the GPA is high enough.\n",
    "\n",
    "    "
   ]
  },
  {
   "cell_type": "code",
   "execution_count": null,
   "id": "c6f55cc1",
   "metadata": {},
   "outputs": [],
   "source": [
    "##\n"
   ]
  },
  {
   "cell_type": "markdown",
   "id": "8d2ff280",
   "metadata": {},
   "source": [
    "b.  Predict the salary of a college graduate with IQ of 110 and a GPA of\n",
    "    4.0.\n"
   ]
  },
  {
   "cell_type": "code",
   "execution_count": null,
   "id": "a3c329eb",
   "metadata": {},
   "outputs": [],
   "source": [
    "##\n"
   ]
  },
  {
   "cell_type": "markdown",
   "id": "25d8e150",
   "metadata": {},
   "source": [
    "c.  True or false: Since the coefficient for the GPA/IQ interaction term\n",
    "    is very small, there is very little evidence of an interaction\n",
    "    effect. Justify your answer.\n"
   ]
  },
  {
   "cell_type": "code",
   "execution_count": null,
   "id": "2be549cd",
   "metadata": {},
   "outputs": [],
   "source": [
    "##\n"
   ]
  }
 ],
 "metadata": {
  "jupytext": {
   "cell_metadata_filter": "-all",
   "main_language": "python",
   "notebook_metadata_filter": "-all"
  },
  "language_info": {
   "name": "python"
  }
 },
 "nbformat": 4,
 "nbformat_minor": 5
}
