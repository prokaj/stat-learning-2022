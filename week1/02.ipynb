{
 "cells": [
  {
   "cell_type": "markdown",
   "id": "214c4b40",
   "metadata": {
    "lines_to_next_cell": 0
   },
   "source": [
    "This exercise relates to the College data set, which can be found in the\n",
    "file [`College.csv`](https://www.statlearning.com/s/College.csv) on the\n",
    "ISL book website. It contains a number of variables for 777 different\n",
    "universities and colleges in the US. The variables are\n",
    "\n",
    "-   `Private` : Public/private indicator\n",
    "\n",
    "-   `Apps` : Number of applications received\n",
    "\n",
    "-   `Accept` : Number of applicants accepted\n",
    "\n",
    "-   `Enroll` : Number of students enrolled\n",
    "\n",
    "-   `Top10perc` : New students from top 10 % of high school class\n",
    "\n",
    "-   `Top25perc` : New students from top 25 % of high school class\n",
    "\n",
    "-   `F.Undergrad` : Number of full-time undergraduates\n",
    "\n",
    "-   `P.Undergrad` : Number of part-time undergraduates\n",
    "\n",
    "-   `Outstate` : Out-of-state tuition\n",
    "\n",
    "-   `Room.Board` : Room and board costs\n",
    "\n",
    "-   `Books` : Estimated book costs\n",
    "\n",
    "-   `Personal` : Estimated personal spending\n",
    "\n",
    "-   `PhD` : Percent of faculty with Ph.D.'s\n",
    "\n",
    "-   `Terminal` : Percent of faculty with terminal degree\n",
    "\n",
    "-   `S.F.Ratio` : Student/faculty ratio\n",
    "\n",
    "-   `perc.alumni` : Percent of alumni who donate\n",
    "\n",
    "-   `Expend` : Instructional expenditure per student\n",
    "\n",
    "-   `Grad.Rate` : Graduation rate\n",
    "\n",
    "a.  Use the `pd.read_csv` function to load the data. Call the loaded\n",
    "    data `college`, for example\n",
    "\n",
    "        import urllib\n",
    "        url = \"https://www.statlearning.com/s/College.csv\"\n",
    "        with urllib.request.urlopen(url) as f:\n",
    "          college = pd.read_csv(f, index_col=0)\n",
    "\n",
    "    "
   ]
  },
  {
   "cell_type": "code",
   "execution_count": null,
   "id": "0b1869a4",
   "metadata": {},
   "outputs": [],
   "source": [
    "##\n"
   ]
  },
  {
   "cell_type": "markdown",
   "id": "f0723ae2",
   "metadata": {},
   "source": [
    "b.  Look at the data using the `head` method. You should notice that the\n",
    "    row index is just the name of each university. This is the effect of\n",
    "    `index_col=0`.\n"
   ]
  },
  {
   "cell_type": "code",
   "execution_count": null,
   "id": "76f65efe",
   "metadata": {},
   "outputs": [],
   "source": [
    "##\n"
   ]
  },
  {
   "cell_type": "markdown",
   "id": "39114bad",
   "metadata": {},
   "source": [
    "c.  Use the `describe` function to produce a numerical summary of the\n",
    "    variables in the data set.\n"
   ]
  },
  {
   "cell_type": "code",
   "execution_count": null,
   "id": "9d3aa4a4",
   "metadata": {},
   "outputs": [],
   "source": [
    "##\n"
   ]
  },
  {
   "cell_type": "markdown",
   "id": "347160c8",
   "metadata": {
    "lines_to_next_cell": 0
   },
   "source": [
    "d.  Use the `pair_plot` function from the `seaborn` package to produce a\n",
    "    scatterplot matrix of the first ten columns or variables of the\n",
    "    data. Recall that you can reference the first ten columns of a\n",
    "    `pandas.DataFrame` by applying the `.iloc(1)[:10]` method on it.\n",
    "\n",
    "    Note that `Private` is missing from the plot. Why?\n",
    "\n",
    "    "
   ]
  },
  {
   "cell_type": "code",
   "execution_count": null,
   "id": "2f9def0c",
   "metadata": {},
   "outputs": [],
   "source": [
    "##\n"
   ]
  },
  {
   "cell_type": "markdown",
   "id": "4c950263",
   "metadata": {},
   "source": [
    "e.  Use the `seaborn.boxplot` function to produce side-by-side boxplots\n",
    "    of `Outstate` versus `Private`.\n"
   ]
  },
  {
   "cell_type": "code",
   "execution_count": null,
   "id": "90cd69c1",
   "metadata": {},
   "outputs": [],
   "source": [
    "##\n"
   ]
  },
  {
   "cell_type": "markdown",
   "id": "385da2b8",
   "metadata": {
    "lines_to_next_cell": 0
   },
   "source": [
    "f.  Create a new qualitative variable, called `Elite`, by binning the\n",
    "    `Top10perc` variable. We are going to divide universities into two\n",
    "    groups based on whether or not the proportion of students coming\n",
    "    from the top 10 % of their high school classes exceeds 50 %.\n",
    "\n",
    "        college[\"Elite\"] = college.Top10perc>50\n",
    "\n",
    "    Use the `.value_counts` method to see how many elite universities\n",
    "    there are. Now use the `boxplot()` function from the `seaborn`\n",
    "    package to produce side-by-side boxplots of `Outstate` versus\n",
    "    `Elite`.\n",
    "\n",
    "    "
   ]
  },
  {
   "cell_type": "code",
   "execution_count": null,
   "id": "e87a3da1",
   "metadata": {},
   "outputs": [],
   "source": [
    "##\n"
   ]
  },
  {
   "cell_type": "markdown",
   "id": "bb6e515c",
   "metadata": {},
   "source": [
    "g.  Use the `.hist` method to produce some histograms with differing\n",
    "    numbers of bins for a few of the quantitative variables.\n"
   ]
  },
  {
   "cell_type": "code",
   "execution_count": null,
   "id": "3ab236af",
   "metadata": {},
   "outputs": [],
   "source": [
    "##\n"
   ]
  },
  {
   "cell_type": "markdown",
   "id": "d405596b",
   "metadata": {},
   "source": [
    "h.  Continue exploring the data, and provide a brief summary of what you\n",
    "    discover.\n"
   ]
  },
  {
   "cell_type": "code",
   "execution_count": null,
   "id": "bbebb358",
   "metadata": {},
   "outputs": [],
   "source": [
    "##\n"
   ]
  }
 ],
 "metadata": {
  "jupytext": {
   "cell_metadata_filter": "-all",
   "main_language": "python",
   "notebook_metadata_filter": "-all"
  }
 },
 "nbformat": 4,
 "nbformat_minor": 5
}