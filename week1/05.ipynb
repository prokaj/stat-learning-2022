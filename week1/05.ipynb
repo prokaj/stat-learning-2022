{
 "cells": [
  {
   "cell_type": "markdown",
   "id": "af9749b1",
   "metadata": {},
   "source": [
    "This question involves the use of multiple linear regression on the\n",
    "[`Auto`](https://www.statlearning.com/s/Auto.csv) data set.\n",
    "\n",
    "```{=latex}\n",
    "\\begin{enumerate}\\item style:a\n",
    "\\item  Produce a scatterplot matrix which includes all of the variables\n",
    "    in the data set.\n",
    "  \\item  Compute the matrix of correlations between the\n",
    "    variables using the function \\verb|corr()|.\n",
    "    %You will need to exclude the\n",
    "    %name variable, \\verb|cor()| which is qualitative.\n",
    "  \\item  %Use the \\verb|lm()| function to\n",
    "    Perform a multiple linear\n",
    "    regression with \\verb|mpg| as the response and all other variables\n",
    "    except \\verb|name| as the predictors. Use the \\verb|summary()| function\n",
    "    to print the results.\n",
    "    Comment on the output. For instance:\n",
    "    \\begin{itemize}\n",
    "    \\item  Is there a relationship between the predictors and the response?\n",
    "    \n",
    "\\end{enumerate}\n",
    "```"
   ]
  }
 ],
 "metadata": {
  "jupytext": {
   "cell_metadata_filter": "-all",
   "main_language": "python",
   "notebook_metadata_filter": "-all"
  }
 },
 "nbformat": 4,
 "nbformat_minor": 5
}