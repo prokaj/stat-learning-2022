{
  "cells": [
    {
      "cell_type": "markdown",
      "metadata": {
        "id": "PD-Qy6DEG-7t"
      },
      "source": [
        "[![Open In Colab](https://colab.research.google.com/assets/colab-badge.svg)](https://colab.research.google.com/github/prokaj/stat-learning-2022/blob/main/week1/Lab_Ch3-Linear_Regression_in_Python.ipynb)\n",
        "    \n",
        "\n",
        "This lab on Linear Regression is a python adaptation of p. 110-120 of \"Introduction to Statistical Learning with Applications in R\" by Gareth James, Daniela Witten, Trevor Hastie and Robert Tibshirani. \n",
        "It is based on the work of R. Jordan Crouser at Smith College for SDS293: Machine Learning (Spring 2016)."
      ]
    },
    {
      "cell_type": "markdown",
      "metadata": {
        "id": "ZoQb3eSvG-7u"
      },
      "source": [
        "# Warmup exercises\n"
      ]
    },
    {
      "cell_type": "markdown",
      "metadata": {
        "id": "Z6Lt81CRG-7v"
      },
      "source": [
        "## Problem 1.\n",
        "\n",
        "Suppose we have a data set with five predictors, $$\\begin{aligned}\n",
        "    X_1 &= \\text{GPA},\\\\\n",
        "    X_2 &= \\text{IQ},\\\\\n",
        "    X_3 &= \\text{Level},\\quad \\text{1 for College and 0 for High\n",
        "          School},\\\\\n",
        "    X_4 &= \\text{Interaction between GPA and IQ}, \\\\\n",
        "    X_5 &= \\text{Interaction between GPA and Level}. \n",
        "  \\end{aligned}$$ The response is starting salary after graduation (in\n",
        "thousands of dollars). Suppose we use least squares to fit the model,\n",
        "and get $\\hat\\beta_0 = 50$, $\\hat \\beta_1 = 20$, $\\hat\\beta_2 = 0.07$,\n",
        "$\\hat\\beta_3 = 35$, $\\hat\\beta_4 = 0.01$, $\\hat\\beta_5 = -10$.\n",
        "\n",
        "a. Which answer is correct, and why?\n",
        "\n",
        "   -   For a fixed value of IQ and GPA, high school graduates earn\n",
        "        more, on average, than college graduates.\n",
        "\n",
        "   -   For a fixed value of IQ and GPA, college graduates earn more, on\n",
        "        average, than high school graduates.\n",
        "\n",
        "   -   For a fixed value of IQ and GPA, high school graduates earn\n",
        "        more, on average, than college graduates provided that the GPA\n",
        "        is high enough.\n",
        "\n",
        "   -   For a fixed value of IQ and GPA, college graduates earn more, on\n",
        "        average, than high school graduates provided that the GPA is\n",
        "        high enough.\n",
        "\n",
        "    "
      ]
    },
    {
      "cell_type": "code",
      "execution_count": null,
      "metadata": {
        "id": "yvxf4mzxG-7w"
      },
      "outputs": [],
      "source": []
    },
    {
      "cell_type": "markdown",
      "metadata": {
        "id": "U-1qqLLOG-7x"
      },
      "source": [
        "b.  Predict the salary of a college graduate with IQ of 110 and a GPA of\n",
        "    4.0.\n"
      ]
    },
    {
      "cell_type": "code",
      "execution_count": null,
      "metadata": {
        "id": "De6GnNa7G-7x"
      },
      "outputs": [],
      "source": [
        "beta = np.array([50, 20 , 0.07, 35, 0.01, -10])\n"
      ]
    },
    {
      "cell_type": "markdown",
      "metadata": {
        "id": "kASCMFrJG-7y"
      },
      "source": [
        "c.  True or false: Since the coefficient for the GPA/IQ interaction term\n",
        "    is very small, there is very little evidence of an interaction\n",
        "    effect. Justify your answer."
      ]
    },
    {
      "cell_type": "markdown",
      "metadata": {
        "id": "2A0vQA3yG-7y"
      },
      "source": []
    },
    {
      "cell_type": "markdown",
      "metadata": {
        "id": "aegOOJMkG-7y"
      },
      "source": [
        "## Problem 2.\n",
        "\n",
        "This exercise relates to the College data set, which can be found in the\n",
        "file [`College.csv`](https://www.statlearning.com/s/College.csv) on the\n",
        "ISL book website. It contains a number of variables for 777 different\n",
        "universities and colleges in the US. The variables are\n",
        "\n",
        "-   `Private` : Public/private indicator\n",
        "\n",
        "-   `Apps` : Number of applications received\n",
        "\n",
        "-   `Accept` : Number of applicants accepted\n",
        "\n",
        "-   `Enroll` : Number of students enrolled\n",
        "\n",
        "-   `Top10perc` : New students from top 10 % of high school class\n",
        "\n",
        "-   `Top25perc` : New students from top 25 % of high school class\n",
        "\n",
        "-   `F.Undergrad` : Number of full-time undergraduates\n",
        "\n",
        "-   `P.Undergrad` : Number of part-time undergraduates\n",
        "\n",
        "-   `Outstate` : Out-of-state tuition\n",
        "\n",
        "-   `Room.Board` : Room and board costs\n",
        "\n",
        "-   `Books` : Estimated book costs\n",
        "\n",
        "-   `Personal` : Estimated personal spending\n",
        "\n",
        "-   `PhD` : Percent of faculty with Ph.D.'s\n",
        "\n",
        "-   `Terminal` : Percent of faculty with terminal degree\n",
        "\n",
        "-   `S.F.Ratio` : Student/faculty ratio\n",
        "\n",
        "-   `perc.alumni` : Percent of alumni who donate\n",
        "\n",
        "-   `Expend` : Instructional expenditure per student\n",
        "\n",
        "-   `Grad.Rate` : Graduation rate\n",
        "\n",
        "a.  Use the `pd.read_csv` function to load the data. Call the loaded\n",
        "    data `college`, for example\n",
        "\n",
        "    \n"
      ]
    },
    {
      "cell_type": "code",
      "execution_count": null,
      "metadata": {
        "id": "G79UC9EAG-70"
      },
      "outputs": [],
      "source": [
        "import pandas as pd\n",
        "\n",
        "url = \"https://www.statlearning.com/s/College.csv\"\n",
        "\n",
        "college = pd.read_csv(url, index_col=0)"
      ]
    },
    {
      "cell_type": "code",
      "execution_count": null,
      "metadata": {
        "id": "Bat6P2xvG-70"
      },
      "outputs": [],
      "source": [
        "import statsmodels.datasets as smd\n",
        "\n",
        "col = smd.get_rdataset('College', 'ISLR')\n"
      ]
    },
    {
      "cell_type": "code",
      "execution_count": null,
      "metadata": {
        "id": "0d9oZgJtG-71"
      },
      "outputs": [],
      "source": [
        "col?\n"
      ]
    },
    {
      "cell_type": "code",
      "execution_count": null,
      "metadata": {
        "id": "js9RdUHNG-71"
      },
      "outputs": [],
      "source": [
        "col.data, col.package, col.title"
      ]
    },
    {
      "cell_type": "markdown",
      "metadata": {
        "id": "-4JzT_pgG-72"
      },
      "source": [
        "b.  Look at the data using the `head` method. You should notice that the\n",
        "    row index is just the name of each university. This is the effect of\n",
        "    `index_col=0`."
      ]
    },
    {
      "cell_type": "code",
      "execution_count": null,
      "metadata": {
        "id": "_SwU9EmTG-72"
      },
      "outputs": [],
      "source": [
        " college.head()"
      ]
    },
    {
      "cell_type": "markdown",
      "metadata": {
        "id": "4effddbc"
      },
      "source": [
        "c.  Use the `describe` function to produce a numerical summary of the\n",
        "    variables in the data set.\n"
      ]
    },
    {
      "cell_type": "code",
      "execution_count": null,
      "metadata": {
        "id": "ccadf51a"
      },
      "outputs": [],
      "source": [
        "    college.describe()"
      ]
    },
    {
      "cell_type": "markdown",
      "metadata": {
        "id": "9abb3eef",
        "lines_to_next_cell": 0
      },
      "source": [
        "d. Use the `pair_plot` function from the `seaborn` package to produce a\n",
        "   scatterplot matrix of the first ten columns or variables of the\n",
        "   data. Recall that you can reference the first ten columns of a\n",
        "   `pandas.DataFrame` by applying the `.iloc(1)[:10]` method on it.\n",
        "\n",
        "   Note that `Private` is missing from the plot. Why?\n",
        "\n",
        "    "
      ]
    },
    {
      "cell_type": "code",
      "execution_count": null,
      "metadata": {
        "id": "qLqTMgdRDA28"
      },
      "outputs": [],
      "source": [
        "import seaborn as sns\n",
        "import matplotlib.pyplot as plt\n",
        "%matplotlib inline"
      ]
    },
    {
      "cell_type": "code",
      "execution_count": null,
      "metadata": {
        "id": "a3746f33"
      },
      "outputs": [],
      "source": [
        "\n",
        "smalldf = college.iloc(1)[:10]\n",
        "smalldf['Private'] = 1*(smalldf.Private=='Yes')\n",
        "sns.pairplot(smalldf)"
      ]
    },
    {
      "cell_type": "markdown",
      "metadata": {
        "id": "093b386f"
      },
      "source": [
        "e.  Use the `seaborn.boxplot` function to produce side-by-side boxplots\n",
        "    of `Outstate` versus `Private`.\n"
      ]
    },
    {
      "cell_type": "code",
      "execution_count": null,
      "metadata": {
        "id": "c546ffbe"
      },
      "outputs": [],
      "source": [
        "sns.boxplot(x='Private', y='Outstate', data=college) "
      ]
    },
    {
      "cell_type": "markdown",
      "metadata": {
        "id": "218d3b25",
        "lines_to_next_cell": 0
      },
      "source": [
        "f. Create a new qualitative variable, called `Elite`, by binning the\n",
        "   `Top10perc` variable. We are going to divide universities into two\n",
        "   groups based on whether or not the proportion of students coming\n",
        "   from the top 10 % of their high school classes exceeds 50 %.\n",
        "\n",
        "        college[\"Elite\"] = college.Top10perc>50\n",
        "\n",
        "   Use the `.value_counts` method to see how many elite universities\n",
        "   there are. Now use the `boxplot()` function from the `seaborn`\n",
        "   package to produce side-by-side boxplots of `Outstate` versus\n",
        "   `Elite`.\n",
        "\n",
        "    "
      ]
    },
    {
      "cell_type": "code",
      "execution_count": null,
      "metadata": {
        "id": "ef1de255"
      },
      "outputs": [],
      "source": [
        " college[\"Elite\"] = college.Top10perc>50\n",
        " print(college.Elite.value_counts())\n",
        " sns.boxplot(x='Elite', y='Outstate', data=college)\n",
        " plt.show()\n"
      ]
    },
    {
      "cell_type": "markdown",
      "metadata": {
        "id": "3c3833c3"
      },
      "source": [
        "g.  Use the `.hist` method to produce some histograms with differing\n",
        "    numbers of bins for a few of the quantitative variables.\n"
      ]
    },
    {
      "cell_type": "code",
      "execution_count": null,
      "metadata": {
        "id": "43a5b9c6"
      },
      "outputs": [],
      "source": [
        "college.hist('Accept', bins=51)\n",
        "college.hist('Room.Board', bins=21)\n",
        "college[college.Private!='Yes'].hist('Outstate')"
      ]
    },
    {
      "cell_type": "markdown",
      "metadata": {
        "id": "2a2feeff"
      },
      "source": [
        "h.  Continue exploring the data, and provide a brief summary of what you\n",
        "    discover.\n"
      ]
    },
    {
      "cell_type": "code",
      "execution_count": null,
      "metadata": {
        "id": "JWFeDd3UG-76"
      },
      "outputs": [],
      "source": []
    },
    {
      "cell_type": "markdown",
      "metadata": {
        "id": "MTAefakXG-76"
      },
      "source": []
    },
    {
      "cell_type": "markdown",
      "metadata": {
        "id": "d90f1a52"
      },
      "source": [
        "## Problem 3.\n",
        "\n",
        "This exercise involves the\n",
        "[`Auto`](https://www.statlearning.com/s/Auto.csv) data set. Make sure\n",
        "that the missing values have been removed from the data, e.g.\n",
        "\n",
        "    #----------------\n",
        "    import statsmodels.datasets as sm_datasets\n",
        "    auto = sm_datasets.get_rdataset('Auto', 'ISLR')\n",
        "    auto.data\n",
        "    #----------------\n",
        "\n",
        "or from the web page\n",
        "\n",
        "    #----------------\n",
        "    from urllib.request import urlopen\n",
        "    import pandas as pd\n",
        "    url = 'https://www.statlearning.com/s/Auto.csv'\n",
        "    auto = pd.read_csv(url, na_values='?').dropna()\n",
        "    auto\n",
        "\n",
        "a.  Which of the predictors are quantitative, and which are qualitative?\n"
      ]
    },
    {
      "cell_type": "code",
      "execution_count": null,
      "metadata": {
        "id": "e85abb76"
      },
      "outputs": [],
      "source": [
        "import statsmodels.datasets as sm_datasets\n",
        "auto = sm_datasets.get_rdataset('Auto', 'ISLR')\n",
        "# auto.data = auto.data.set_index('name').copy()\n",
        "auto.data.head()"
      ]
    },
    {
      "cell_type": "code",
      "execution_count": null,
      "metadata": {
        "id": "U0SHK-REGJU5"
      },
      "outputs": [],
      "source": [
        "auto?\n",
        "auto.data.describe()"
      ]
    },
    {
      "cell_type": "code",
      "execution_count": null,
      "metadata": {
        "id": "DB9byzMlHBKj"
      },
      "outputs": [],
      "source": [
        "import numpy as np"
      ]
    },
    {
      "cell_type": "code",
      "execution_count": null,
      "metadata": {
        "id": "eDpLHVuOGgaH"
      },
      "outputs": [],
      "source": [
        "disp = auto.data.displacement*(2.5**3)\n",
        "disp.min(), disp.max(), disp.mean(), disp.std(), np.percentile(disp, [25, 50, 75])"
      ]
    },
    {
      "cell_type": "markdown",
      "metadata": {
        "id": "0825064b"
      },
      "source": [
        "b.  What is the range (minimum, maximum) of each quantitative predictor?\n",
        "    You can answer this using the `min`, `max` functions or write a\n",
        "    little function, called `range`, which returns this tuple.\n"
      ]
    },
    {
      "cell_type": "code",
      "execution_count": null,
      "metadata": {
        "id": "8120bdcf"
      },
      "outputs": [],
      "source": [
        "def minmax(x, axis=None):\n",
        "    return np.min(x, axis=axis), np.max(x, axis=axis)"
      ]
    },
    {
      "cell_type": "code",
      "execution_count": null,
      "metadata": {
        "id": "sU-qNqZsH-oY"
      },
      "outputs": [],
      "source": [
        "minmax(auto.data, axis=0)"
      ]
    },
    {
      "cell_type": "markdown",
      "metadata": {
        "id": "57fcce12"
      },
      "source": [
        "c.  What is the mean and standard deviation of each quantitative\n",
        "    predictor?\n"
      ]
    },
    {
      "cell_type": "code",
      "execution_count": null,
      "metadata": {
        "id": "db1e0e39"
      },
      "outputs": [],
      "source": [
        "print(auto.data.columns)\n",
        "quant = ['mpg', 'displacement', 'horsepower', 'weight', 'acceleration', 'year']\n",
        "{k: (auto.data[k].mean(), auto.data[k].std()) for k in quant}"
      ]
    },
    {
      "cell_type": "markdown",
      "metadata": {
        "id": "574e018e"
      },
      "source": [
        "d.  Now remove the 10th through 85th observations. What is the range,\n",
        "    mean, and standard deviation of each predictor in the subset of the\n",
        "    data that remains?\n"
      ]
    },
    {
      "cell_type": "code",
      "execution_count": null,
      "metadata": {
        "id": "YWanKU7sLslc"
      },
      "outputs": [],
      "source": [
        "import matplotlib.pyplot as plt\n"
      ]
    },
    {
      "cell_type": "code",
      "execution_count": null,
      "metadata": {
        "id": "21fe2dba"
      },
      "outputs": [],
      "source": [
        "idx = np.arange(len(auto.data))\n",
        "idx = (idx<10)+(idx>85)\n",
        "auto1 = auto.data[idx]\n",
        "plt.plot(auto1[quant].mean(axis=0),'o')\n",
        "plt.plot(auto.data[quant].mean(axis=0),'o',alpha=0.5)\n",
        "plt.title('mean')\n",
        "plt.show()\n",
        "\n",
        "plt.plot(auto1[quant].min(axis=0),'o')\n",
        "plt.plot(auto.data[quant].min(axis=0),'o',alpha=0.5)\n",
        "plt.title('min')\n",
        "plt.show()\n"
      ]
    },
    {
      "cell_type": "markdown",
      "metadata": {
        "id": "5286287a"
      },
      "source": [
        "e.  Using the full data set, investigate the predictors graphically,\n",
        "    using scatterplots or other tools of your choice. Create some plots\n",
        "    highlighting the relationships among the predictors. Comment on your\n",
        "    findings.\n"
      ]
    },
    {
      "cell_type": "code",
      "execution_count": null,
      "metadata": {
        "id": "fJTvzn8VMwDq"
      },
      "outputs": [],
      "source": [
        "import seaborn as sns"
      ]
    },
    {
      "cell_type": "code",
      "execution_count": null,
      "metadata": {
        "id": "2c97521e"
      },
      "outputs": [],
      "source": [
        "sns.pairplot(auto.data[quant])"
      ]
    },
    {
      "cell_type": "code",
      "execution_count": null,
      "metadata": {
        "id": "zHIUXPJ_QQaD"
      },
      "outputs": [],
      "source": [
        "import pandas as pd"
      ]
    },
    {
      "cell_type": "code",
      "execution_count": null,
      "metadata": {
        "id": "jVwPU83-OuuK"
      },
      "outputs": [],
      "source": [
        "cyl_yr = auto.data.groupby(['cylinders', 'year']).size()\n",
        "col_yr_cnt = cyl_yr.values\n",
        "col_yr = np.array(list(cyl_yr.index))\n",
        "col_yr = pd.DataFrame(col_yr, columns=['cylinders', 'year'])\n",
        "col_yr['count'] = col_yr_cnt\n",
        "sns.scatterplot(x='year', y='cylinders', size='count', \n",
        "                hue='count', sizes=(10, 250), legend=False, data=col_yr)"
      ]
    },
    {
      "cell_type": "markdown",
      "metadata": {
        "id": "e660bf78"
      },
      "source": [
        "f.  Suppose that we wish to predict gas mileage (`mpg`) on the basis of\n",
        "    the other variables. Do your plots suggest that any of the other\n",
        "    variables might be useful in predicting `mpg`? Justify your answer.\n"
      ]
    },
    {
      "cell_type": "code",
      "execution_count": null,
      "metadata": {
        "id": "36080148"
      },
      "outputs": [],
      "source": [
        "plt.figure(figsize=(10, 10))\n",
        "sns.heatmap(auto.data.drop(columns=['cylinders', 'origin']).corr(), annot=True, vmin=-1, vmax=1)"
      ]
    },
    {
      "cell_type": "code",
      "execution_count": null,
      "metadata": {
        "id": "Gydj733hVPR6"
      },
      "outputs": [],
      "source": [
        "print(auto.data.cylinders.value_counts())\n",
        "print(auto.data.origin.value_counts())\n",
        "\n"
      ]
    },
    {
      "cell_type": "code",
      "execution_count": null,
      "metadata": {
        "id": "wnP2fGt3U1vb"
      },
      "outputs": [],
      "source": [
        "for level in auto.data.cylinders.unique():\n",
        "    if level!=4:\n",
        "        auto.data[f'cyl_{level}'] = 1*(auto.data.cylinders==level)\n",
        "\n",
        "for level in auto.data.origin.unique():\n",
        "    if level!=1:\n",
        "        auto.data[f'orig_{level}'] = 1*(auto.data.origin==level)\n"
      ]
    },
    {
      "cell_type": "code",
      "execution_count": null,
      "metadata": {
        "id": "-piRPvnkWuGi"
      },
      "outputs": [],
      "source": [
        "plt.figure(figsize=(10, 10))\n",
        "sns.heatmap(auto.data.drop(columns=['cylinders', 'origin']).corr(), \n",
        "            annot=True, vmin=-1, vmax=1,\n",
        "            cmap = sns.diverging_palette(220, 20, n=50))"
      ]
    },
    {
      "cell_type": "markdown",
      "metadata": {
        "id": "OUf064vqG-8D"
      },
      "source": [
        "\n",
        "# Section 3.6 from ISL\n",
        "## Importing Libraries"
      ]
    },
    {
      "cell_type": "code",
      "execution_count": 3,
      "metadata": {
        "jupyter": {
          "outputs_hidden": false
        },
        "id": "oI8CKJ9JG-8D"
      },
      "outputs": [],
      "source": [
        "import numpy as np\n",
        "import pandas as pd\n",
        "import seaborn as sns\n",
        "import matplotlib.pyplot as plt\n",
        "# Tells matplotlib to display images inline instead of a new window\n",
        "%matplotlib inline\n",
        "import statsmodels.api as sm"
      ]
    },
    {
      "cell_type": "markdown",
      "metadata": {
        "id": "H_41TmYPG-8E"
      },
      "source": [
        "We'll start by importing the data from [Boston.csv](http://www.science.smith.edu/~jcrouser/SDS293/data/Boston.csv) into a pandas dataframe:"
      ]
    },
    {
      "cell_type": "code",
      "execution_count": 4,
      "metadata": {
        "jupyter": {
          "outputs_hidden": false
        },
        "id": "hA-gSVMJG-8E",
        "outputId": "b4580a97-d663-45b0-ea99-391be43bb18f",
        "colab": {
          "base_uri": "https://localhost:8080/"
        }
      },
      "outputs": [
        {
          "output_type": "stream",
          "name": "stdout",
          "text": [
            "      crim    zn  indus  chas    nox     rm   age     dis  rad    tax  \\\n",
            "0  0.00632  18.0   2.31   0.0  0.538  6.575  65.2  4.0900  1.0  296.0   \n",
            "1  0.02731   0.0   7.07   0.0  0.469  6.421  78.9  4.9671  2.0  242.0   \n",
            "2  0.02729   0.0   7.07   0.0  0.469  7.185  61.1  4.9671  2.0  242.0   \n",
            "3  0.03237   0.0   2.18   0.0  0.458  6.998  45.8  6.0622  3.0  222.0   \n",
            "4  0.06905   0.0   2.18   0.0  0.458  7.147  54.2  6.0622  3.0  222.0   \n",
            "\n",
            "   ptratio       b  lstat  medv  \n",
            "0     15.3  396.90   4.98  24.0  \n",
            "1     17.8  396.90   9.14  21.6  \n",
            "2     17.8  392.83   4.03  34.7  \n",
            "3     18.7  394.63   2.94  33.4  \n",
            "4     18.7  396.90   5.33  36.2  \n",
            "             crim          zn       indus        chas         nox          rm  \\\n",
            "count  506.000000  506.000000  506.000000  506.000000  506.000000  506.000000   \n",
            "mean     3.613524   11.363636   11.136779    0.069170    0.554695    6.284634   \n",
            "std      8.601545   23.322453    6.860353    0.253994    0.115878    0.702617   \n",
            "min      0.006320    0.000000    0.460000    0.000000    0.385000    3.561000   \n",
            "25%      0.082045    0.000000    5.190000    0.000000    0.449000    5.885500   \n",
            "50%      0.256510    0.000000    9.690000    0.000000    0.538000    6.208500   \n",
            "75%      3.677083   12.500000   18.100000    0.000000    0.624000    6.623500   \n",
            "max     88.976200  100.000000   27.740000    1.000000    0.871000    8.780000   \n",
            "\n",
            "              age         dis         rad         tax     ptratio           b  \\\n",
            "count  506.000000  506.000000  506.000000  506.000000  506.000000  506.000000   \n",
            "mean    68.574901    3.795043    9.549407  408.237154   18.455534  356.674032   \n",
            "std     28.148861    2.105710    8.707259  168.537116    2.164946   91.294864   \n",
            "min      2.900000    1.129600    1.000000  187.000000   12.600000    0.320000   \n",
            "25%     45.025000    2.100175    4.000000  279.000000   17.400000  375.377500   \n",
            "50%     77.500000    3.207450    5.000000  330.000000   19.050000  391.440000   \n",
            "75%     94.075000    5.188425   24.000000  666.000000   20.200000  396.225000   \n",
            "max    100.000000   12.126500   24.000000  711.000000   22.000000  396.900000   \n",
            "\n",
            "            lstat        medv  \n",
            "count  506.000000  506.000000  \n",
            "mean    12.653063   22.532806  \n",
            "std      7.141062    9.197104  \n",
            "min      1.730000    5.000000  \n",
            "25%      6.950000   17.025000  \n",
            "50%     11.360000   21.200000  \n",
            "75%     16.955000   25.000000  \n",
            "max     37.970000   50.000000  \n"
          ]
        },
        {
          "output_type": "stream",
          "name": "stderr",
          "text": [
            "/usr/local/lib/python3.7/dist-packages/sklearn/utils/deprecation.py:87: FutureWarning: Function load_boston is deprecated; `load_boston` is deprecated in 1.0 and will be removed in 1.2.\n",
            "\n",
            "    The Boston housing prices dataset has an ethical problem. You can refer to\n",
            "    the documentation of this function for further details.\n",
            "\n",
            "    The scikit-learn maintainers therefore strongly discourage the use of this\n",
            "    dataset unless the purpose of the code is to study and educate about\n",
            "    ethical issues in data science and machine learning.\n",
            "\n",
            "    In this special case, you can fetch the dataset from the original\n",
            "    source::\n",
            "\n",
            "        import pandas as pd\n",
            "        import numpy as np\n",
            "\n",
            "\n",
            "        data_url = \"http://lib.stat.cmu.edu/datasets/boston\"\n",
            "        raw_df = pd.read_csv(data_url, sep=\"\\s+\", skiprows=22, header=None)\n",
            "        data = np.hstack([raw_df.values[::2, :], raw_df.values[1::2, :2]])\n",
            "        target = raw_df.values[1::2, 2]\n",
            "\n",
            "    Alternative datasets include the California housing dataset (i.e.\n",
            "    :func:`~sklearn.datasets.fetch_california_housing`) and the Ames housing\n",
            "    dataset. You can load the datasets as follows::\n",
            "\n",
            "        from sklearn.datasets import fetch_california_housing\n",
            "        housing = fetch_california_housing()\n",
            "\n",
            "    for the California housing dataset and::\n",
            "\n",
            "        from sklearn.datasets import fetch_openml\n",
            "        housing = fetch_openml(name=\"house_prices\", as_frame=True)\n",
            "\n",
            "    for the Ames housing dataset.\n",
            "    \n",
            "  warnings.warn(msg, category=FutureWarning)\n"
          ]
        }
      ],
      "source": [
        "from_smith_edu = False # or True \n",
        "\n",
        "if not from_smith_edu:\n",
        "    from sklearn.datasets import load_boston\n",
        "    ds = load_boston()\n",
        "    colnames = [line.split()[1].lower() for line in ds['DESCR'].split('\\n') if \"    -\" in line]\n",
        "    vars = np.concatenate([ds.data, ds.target[:,None]], axis=-1)\n",
        "    df = pd.DataFrame(vars, columns=colnames)\n",
        "    df.__doc__=ds['DESCR']\n",
        "else:\n",
        "    ## alternatively we could use this:\n",
        "    url = 'https://www.science.smith.edu/~jcrouser/SDS293/data/Boston.csv'\n",
        "    df = pd.read_csv(url, index_col=0)\n",
        "\n",
        "print(df.head())\n",
        "print(df.describe())"
      ]
    },
    {
      "cell_type": "code",
      "execution_count": 5,
      "metadata": {
        "id": "ctxt0TXqG-8E",
        "outputId": "4fcae246-ca09-4213-df62-520b558fc896",
        "colab": {
          "base_uri": "https://localhost:8080/"
        }
      },
      "outputs": [
        {
          "output_type": "stream",
          "name": "stdout",
          "text": [
            ".. _boston_dataset:\n",
            "\n",
            "Boston house prices dataset\n",
            "---------------------------\n",
            "\n",
            "**Data Set Characteristics:**  \n",
            "\n",
            "    :Number of Instances: 506 \n",
            "\n",
            "    :Number of Attributes: 13 numeric/categorical predictive. Median Value (attribute 14) is usually the target.\n",
            "\n",
            "    :Attribute Information (in order):\n",
            "        - CRIM     per capita crime rate by town\n",
            "        - ZN       proportion of residential land zoned for lots over 25,000 sq.ft.\n",
            "        - INDUS    proportion of non-retail business acres per town\n",
            "        - CHAS     Charles River dummy variable (= 1 if tract bounds river; 0 otherwise)\n",
            "        - NOX      nitric oxides concentration (parts per 10 million)\n",
            "        - RM       average number of rooms per dwelling\n",
            "        - AGE      proportion of owner-occupied units built prior to 1940\n",
            "        - DIS      weighted distances to five Boston employment centres\n",
            "        - RAD      index of accessibility to radial highways\n",
            "        - TAX      full-value property-tax rate per $10,000\n",
            "        - PTRATIO  pupil-teacher ratio by town\n",
            "        - B        1000(Bk - 0.63)^2 where Bk is the proportion of black people by town\n",
            "        - LSTAT    % lower status of the population\n",
            "        - MEDV     Median value of owner-occupied homes in $1000's\n",
            "\n",
            "    :Missing Attribute Values: None\n",
            "\n",
            "    :Creator: Harrison, D. and Rubinfeld, D.L.\n",
            "\n",
            "This is a copy of UCI ML housing dataset.\n",
            "https://archive.ics.uci.edu/ml/machine-learning-databases/housing/\n",
            "\n",
            "\n",
            "This dataset was taken from the StatLib library which is maintained at Carnegie Mellon University.\n",
            "\n",
            "The Boston house-price data of Harrison, D. and Rubinfeld, D.L. 'Hedonic\n",
            "prices and the demand for clean air', J. Environ. Economics & Management,\n",
            "vol.5, 81-102, 1978.   Used in Belsley, Kuh & Welsch, 'Regression diagnostics\n",
            "...', Wiley, 1980.   N.B. Various transformations are used in the table on\n",
            "pages 244-261 of the latter.\n",
            "\n",
            "The Boston house-price data has been used in many machine learning papers that address regression\n",
            "problems.   \n",
            "     \n",
            ".. topic:: References\n",
            "\n",
            "   - Belsley, Kuh & Welsch, 'Regression diagnostics: Identifying Influential Data and Sources of Collinearity', Wiley, 1980. 244-261.\n",
            "   - Quinlan,R. (1993). Combining Instance-Based and Model-Based Learning. In Proceedings on the Tenth International Conference of Machine Learning, 236-243, University of Massachusetts, Amherst. Morgan Kaufmann.\n",
            "\n"
          ]
        }
      ],
      "source": [
        "print(df.__doc__)"
      ]
    },
    {
      "cell_type": "markdown",
      "metadata": {
        "id": "tPf3zpw8G-8F"
      },
      "source": [
        "## 3.6.2 Simple Linear Regression"
      ]
    },
    {
      "cell_type": "markdown",
      "metadata": {
        "id": "EPsdYyQPG-8F"
      },
      "source": [
        "Now let's fit a simple linear model (`OLS` - for \"ordinary least squares\" method) with `medv` as the response and `lstat` as the predictor:"
      ]
    },
    {
      "cell_type": "code",
      "execution_count": 6,
      "metadata": {
        "jupyter": {
          "outputs_hidden": false
        },
        "id": "t4oL8383G-8F"
      },
      "outputs": [],
      "source": [
        "lm = sm.OLS.from_formula('medv ~ lstat', df)\n",
        "result = lm.fit()"
      ]
    },
    {
      "cell_type": "markdown",
      "metadata": {
        "id": "xlBsf8bpG-8F"
      },
      "source": [
        "To get detailed information about the model, we can print the results of a call to the `.summary()` method:"
      ]
    },
    {
      "cell_type": "code",
      "execution_count": 7,
      "metadata": {
        "jupyter": {
          "outputs_hidden": false
        },
        "id": "TBwui1PRG-8F",
        "outputId": "9bce9cb3-e79e-46b8-a733-88496157443b",
        "colab": {
          "base_uri": "https://localhost:8080/"
        }
      },
      "outputs": [
        {
          "output_type": "stream",
          "name": "stdout",
          "text": [
            "                            OLS Regression Results                            \n",
            "==============================================================================\n",
            "Dep. Variable:                   medv   R-squared:                       0.544\n",
            "Model:                            OLS   Adj. R-squared:                  0.543\n",
            "Method:                 Least Squares   F-statistic:                     601.6\n",
            "Date:                Fri, 11 Nov 2022   Prob (F-statistic):           5.08e-88\n",
            "Time:                        14:35:05   Log-Likelihood:                -1641.5\n",
            "No. Observations:                 506   AIC:                             3287.\n",
            "Df Residuals:                     504   BIC:                             3295.\n",
            "Df Model:                           1                                         \n",
            "Covariance Type:            nonrobust                                         \n",
            "==============================================================================\n",
            "                 coef    std err          t      P>|t|      [0.025      0.975]\n",
            "------------------------------------------------------------------------------\n",
            "Intercept     34.5538      0.563     61.415      0.000      33.448      35.659\n",
            "lstat         -0.9500      0.039    -24.528      0.000      -1.026      -0.874\n",
            "==============================================================================\n",
            "Omnibus:                      137.043   Durbin-Watson:                   0.892\n",
            "Prob(Omnibus):                  0.000   Jarque-Bera (JB):              291.373\n",
            "Skew:                           1.453   Prob(JB):                     5.36e-64\n",
            "Kurtosis:                       5.319   Cond. No.                         29.7\n",
            "==============================================================================\n",
            "\n",
            "Notes:\n",
            "[1] Standard Errors assume that the covariance matrix of the errors is correctly specified.\n"
          ]
        }
      ],
      "source": [
        "print(result.summary().as_text())"
      ]
    },
    {
      "cell_type": "markdown",
      "metadata": {
        "id": "sRWwIDlPG-8G"
      },
      "source": [
        "Want individual attributes? You can access them independently like this:"
      ]
    },
    {
      "cell_type": "code",
      "execution_count": 8,
      "metadata": {
        "jupyter": {
          "outputs_hidden": false
        },
        "id": "Y4DMiz_kG-8G",
        "outputId": "7bccdbc7-801d-46cf-e159-87d1e4113430",
        "colab": {
          "base_uri": "https://localhost:8080/"
        }
      },
      "outputs": [
        {
          "output_type": "execute_result",
          "data": {
            "text/plain": [
              "(0.5441462975864799, 601.6178711098955, 34.55384087938308, -0.9500493537579922)"
            ]
          },
          "metadata": {},
          "execution_count": 8
        }
      ],
      "source": [
        "result.rsquared, result.fvalue, result.params.Intercept, result.params.lstat"
      ]
    },
    {
      "cell_type": "markdown",
      "metadata": {
        "id": "ZLNfKxelG-8G"
      },
      "source": [
        "For a complete list of attributes and methods of a `RegressionResults` object, see: http://statsmodels.sourceforge.net/devel/generated/statsmodels.regression.linear_model.RegressionResults.html?highlight=regressionresults\n",
        "\n",
        "For quick help use:"
      ]
    },
    {
      "cell_type": "code",
      "execution_count": 9,
      "metadata": {
        "id": "Vkl9yedsG-8G"
      },
      "outputs": [],
      "source": [
        "result?"
      ]
    },
    {
      "cell_type": "markdown",
      "metadata": {
        "id": "BXN_uI7bG-8G"
      },
      "source": [
        "Now let's try making some predictions using this model. First, we'll set up a dataframe containing the `lstat` values for which we want to predict a response:"
      ]
    },
    {
      "cell_type": "code",
      "execution_count": 11,
      "metadata": {
        "jupyter": {
          "outputs_hidden": false
        },
        "id": "_0_Jl8F5G-8G",
        "outputId": "950f3a4b-6393-4abd-8aaa-b515a2ad0b26",
        "colab": {
          "base_uri": "https://localhost:8080/",
          "height": 143
        }
      },
      "outputs": [
        {
          "output_type": "execute_result",
          "data": {
            "text/plain": [
              "   Intercept  lstat\n",
              "0          1      5\n",
              "1          1     10\n",
              "2          1     15"
            ],
            "text/html": [
              "\n",
              "  <div id=\"df-9fadba6a-77d5-408d-a024-6ae53d9c65f7\">\n",
              "    <div class=\"colab-df-container\">\n",
              "      <div>\n",
              "<style scoped>\n",
              "    .dataframe tbody tr th:only-of-type {\n",
              "        vertical-align: middle;\n",
              "    }\n",
              "\n",
              "    .dataframe tbody tr th {\n",
              "        vertical-align: top;\n",
              "    }\n",
              "\n",
              "    .dataframe thead th {\n",
              "        text-align: right;\n",
              "    }\n",
              "</style>\n",
              "<table border=\"1\" class=\"dataframe\">\n",
              "  <thead>\n",
              "    <tr style=\"text-align: right;\">\n",
              "      <th></th>\n",
              "      <th>Intercept</th>\n",
              "      <th>lstat</th>\n",
              "    </tr>\n",
              "  </thead>\n",
              "  <tbody>\n",
              "    <tr>\n",
              "      <th>0</th>\n",
              "      <td>1</td>\n",
              "      <td>5</td>\n",
              "    </tr>\n",
              "    <tr>\n",
              "      <th>1</th>\n",
              "      <td>1</td>\n",
              "      <td>10</td>\n",
              "    </tr>\n",
              "    <tr>\n",
              "      <th>2</th>\n",
              "      <td>1</td>\n",
              "      <td>15</td>\n",
              "    </tr>\n",
              "  </tbody>\n",
              "</table>\n",
              "</div>\n",
              "      <button class=\"colab-df-convert\" onclick=\"convertToInteractive('df-9fadba6a-77d5-408d-a024-6ae53d9c65f7')\"\n",
              "              title=\"Convert this dataframe to an interactive table.\"\n",
              "              style=\"display:none;\">\n",
              "        \n",
              "  <svg xmlns=\"http://www.w3.org/2000/svg\" height=\"24px\"viewBox=\"0 0 24 24\"\n",
              "       width=\"24px\">\n",
              "    <path d=\"M0 0h24v24H0V0z\" fill=\"none\"/>\n",
              "    <path d=\"M18.56 5.44l.94 2.06.94-2.06 2.06-.94-2.06-.94-.94-2.06-.94 2.06-2.06.94zm-11 1L8.5 8.5l.94-2.06 2.06-.94-2.06-.94L8.5 2.5l-.94 2.06-2.06.94zm10 10l.94 2.06.94-2.06 2.06-.94-2.06-.94-.94-2.06-.94 2.06-2.06.94z\"/><path d=\"M17.41 7.96l-1.37-1.37c-.4-.4-.92-.59-1.43-.59-.52 0-1.04.2-1.43.59L10.3 9.45l-7.72 7.72c-.78.78-.78 2.05 0 2.83L4 21.41c.39.39.9.59 1.41.59.51 0 1.02-.2 1.41-.59l7.78-7.78 2.81-2.81c.8-.78.8-2.07 0-2.86zM5.41 20L4 18.59l7.72-7.72 1.47 1.35L5.41 20z\"/>\n",
              "  </svg>\n",
              "      </button>\n",
              "      \n",
              "  <style>\n",
              "    .colab-df-container {\n",
              "      display:flex;\n",
              "      flex-wrap:wrap;\n",
              "      gap: 12px;\n",
              "    }\n",
              "\n",
              "    .colab-df-convert {\n",
              "      background-color: #E8F0FE;\n",
              "      border: none;\n",
              "      border-radius: 50%;\n",
              "      cursor: pointer;\n",
              "      display: none;\n",
              "      fill: #1967D2;\n",
              "      height: 32px;\n",
              "      padding: 0 0 0 0;\n",
              "      width: 32px;\n",
              "    }\n",
              "\n",
              "    .colab-df-convert:hover {\n",
              "      background-color: #E2EBFA;\n",
              "      box-shadow: 0px 1px 2px rgba(60, 64, 67, 0.3), 0px 1px 3px 1px rgba(60, 64, 67, 0.15);\n",
              "      fill: #174EA6;\n",
              "    }\n",
              "\n",
              "    [theme=dark] .colab-df-convert {\n",
              "      background-color: #3B4455;\n",
              "      fill: #D2E3FC;\n",
              "    }\n",
              "\n",
              "    [theme=dark] .colab-df-convert:hover {\n",
              "      background-color: #434B5C;\n",
              "      box-shadow: 0px 1px 3px 1px rgba(0, 0, 0, 0.15);\n",
              "      filter: drop-shadow(0px 1px 2px rgba(0, 0, 0, 0.3));\n",
              "      fill: #FFFFFF;\n",
              "    }\n",
              "  </style>\n",
              "\n",
              "      <script>\n",
              "        const buttonEl =\n",
              "          document.querySelector('#df-9fadba6a-77d5-408d-a024-6ae53d9c65f7 button.colab-df-convert');\n",
              "        buttonEl.style.display =\n",
              "          google.colab.kernel.accessAllowed ? 'block' : 'none';\n",
              "\n",
              "        async function convertToInteractive(key) {\n",
              "          const element = document.querySelector('#df-9fadba6a-77d5-408d-a024-6ae53d9c65f7');\n",
              "          const dataTable =\n",
              "            await google.colab.kernel.invokeFunction('convertToInteractive',\n",
              "                                                     [key], {});\n",
              "          if (!dataTable) return;\n",
              "\n",
              "          const docLinkHtml = 'Like what you see? Visit the ' +\n",
              "            '<a target=\"_blank\" href=https://colab.research.google.com/notebooks/data_table.ipynb>data table notebook</a>'\n",
              "            + ' to learn more about interactive tables.';\n",
              "          element.innerHTML = '';\n",
              "          dataTable['output_type'] = 'display_data';\n",
              "          await google.colab.output.renderOutput(dataTable, element);\n",
              "          const docLink = document.createElement('div');\n",
              "          docLink.innerHTML = docLinkHtml;\n",
              "          element.appendChild(docLink);\n",
              "        }\n",
              "      </script>\n",
              "    </div>\n",
              "  </div>\n",
              "  "
            ]
          },
          "metadata": {},
          "execution_count": 11
        }
      ],
      "source": [
        "new = pd.DataFrame([[1, 5], [1, 10], [1, 15]], columns=['Intercept', 'lstat'])\n",
        "new"
      ]
    },
    {
      "cell_type": "markdown",
      "metadata": {
        "id": "S06oHujPG-8G"
      },
      "source": [
        "Now we just call the `.predict()` method:"
      ]
    },
    {
      "cell_type": "code",
      "execution_count": 12,
      "metadata": {
        "tags": [],
        "id": "CVuaLzMQG-8H",
        "outputId": "459b7d95-73af-4333-effe-e69a36d89d03",
        "colab": {
          "base_uri": "https://localhost:8080/"
        }
      },
      "outputs": [
        {
          "output_type": "execute_result",
          "data": {
            "text/plain": [
              "0    29.803594\n",
              "1    25.053347\n",
              "2    20.303101\n",
              "dtype: float64"
            ]
          },
          "metadata": {},
          "execution_count": 12
        }
      ],
      "source": [
        "result.predict(new)"
      ]
    },
    {
      "cell_type": "markdown",
      "metadata": {
        "id": "II-VsV_wG-8H"
      },
      "source": [
        "Technically those are the right prediction values, but maybe it would be good to have the confidence intervals along with them. \n",
        "\n",
        "Recall that, when the linear model describes the response correctly\n",
        "$$\n",
        "    \\hat\\beta = (X^TX)^{-1}X^Ty = (X^TX)^{-1}X^T (X \\beta+\\varepsilon)=\\beta + (X^TX)^{-1}X^T \\varepsilon\\sim N(\\beta, \\sigma^2(X^TX)^{-1}) \n",
        "$$\n",
        "\n",
        "When we apply the model at a new observation $x$, then\n",
        "$$\n",
        "    \\hat{y} = x\\hat\\beta = x\\beta + x(\\hat\\beta-\\beta)\n",
        "$$\n",
        "Here $x\\beta$ is true mean of the unobserved response $y$ that belongs to $x$.\n",
        "Therefore\n",
        "$$\n",
        "    y = x\\beta+\\varepsilon' = \\hat y + x(\\beta-\\hat\\beta) + \\varepsilon' \n",
        "$$\n",
        "Here $\\beta-\\hat\\beta$ and $\\varepsilon$ are independent noise so overall the variance of $y-\\hat y$ is \n",
        "$x\\Sigma(\\hat\\beta)x^T+\\sigma^2 = \\sigma^2(x(X^TX)^{-1}x^T+1)$ \n",
        "$\\sigma^2$ is unknown it is estimated from the data.\n",
        "\n",
        "$$\n",
        "\\frac{y-\\hat y}{\\hat\\sigma \\sqrt{1+x(X^TX)^{-1}x^T+1}}=\\frac{y-\\hat y}{\\hat\\sigma_0}\\sim t_{n-(p+1)}\n",
        "$$\n",
        "\n",
        "From this\n",
        "$$\n",
        "    \\mathbb{P}(y \\in (\\hat y-(t_\\alpha/2)\\hat\\sigma_0, \\hat y+(t_\\alpha/2)\\hat\\sigma_0))=\\alpha,\\quad \\text{where $t_{\\alpha/2}$ is the critical value.} \n",
        "$$"
      ]
    },
    {
      "cell_type": "code",
      "execution_count": 13,
      "metadata": {
        "tags": [],
        "id": "YYo7fpKHG-8H",
        "outputId": "aa346e02-053b-48bf-ca7d-8b607619aa1a",
        "colab": {
          "base_uri": "https://localhost:8080/"
        }
      },
      "outputs": [
        {
          "output_type": "execute_result",
          "data": {
            "text/plain": [
              "0    0.164225\n",
              "1    0.086915\n",
              "2    0.084619\n",
              "dtype: float64"
            ]
          },
          "metadata": {},
          "execution_count": 13
        }
      ],
      "source": [
        "Sigma=result.cov_params()\n",
        "(new.dot(Sigma)*new).sum(axis=1)"
      ]
    },
    {
      "cell_type": "code",
      "execution_count": 14,
      "metadata": {
        "id": "SVUkUH_yG-8H",
        "outputId": "59bbf328-3ec9-48e9-b095-28cb2cda9c59",
        "colab": {
          "base_uri": "https://localhost:8080/",
          "height": 112
        }
      },
      "outputs": [
        {
          "output_type": "execute_result",
          "data": {
            "text/plain": [
              "           Intercept     lstat\n",
              "Intercept   0.316550 -0.018983\n",
              "lstat      -0.018983  0.001500"
            ],
            "text/html": [
              "\n",
              "  <div id=\"df-327b3d2f-3c53-4654-a6d4-4708f0f23087\">\n",
              "    <div class=\"colab-df-container\">\n",
              "      <div>\n",
              "<style scoped>\n",
              "    .dataframe tbody tr th:only-of-type {\n",
              "        vertical-align: middle;\n",
              "    }\n",
              "\n",
              "    .dataframe tbody tr th {\n",
              "        vertical-align: top;\n",
              "    }\n",
              "\n",
              "    .dataframe thead th {\n",
              "        text-align: right;\n",
              "    }\n",
              "</style>\n",
              "<table border=\"1\" class=\"dataframe\">\n",
              "  <thead>\n",
              "    <tr style=\"text-align: right;\">\n",
              "      <th></th>\n",
              "      <th>Intercept</th>\n",
              "      <th>lstat</th>\n",
              "    </tr>\n",
              "  </thead>\n",
              "  <tbody>\n",
              "    <tr>\n",
              "      <th>Intercept</th>\n",
              "      <td>0.316550</td>\n",
              "      <td>-0.018983</td>\n",
              "    </tr>\n",
              "    <tr>\n",
              "      <th>lstat</th>\n",
              "      <td>-0.018983</td>\n",
              "      <td>0.001500</td>\n",
              "    </tr>\n",
              "  </tbody>\n",
              "</table>\n",
              "</div>\n",
              "      <button class=\"colab-df-convert\" onclick=\"convertToInteractive('df-327b3d2f-3c53-4654-a6d4-4708f0f23087')\"\n",
              "              title=\"Convert this dataframe to an interactive table.\"\n",
              "              style=\"display:none;\">\n",
              "        \n",
              "  <svg xmlns=\"http://www.w3.org/2000/svg\" height=\"24px\"viewBox=\"0 0 24 24\"\n",
              "       width=\"24px\">\n",
              "    <path d=\"M0 0h24v24H0V0z\" fill=\"none\"/>\n",
              "    <path d=\"M18.56 5.44l.94 2.06.94-2.06 2.06-.94-2.06-.94-.94-2.06-.94 2.06-2.06.94zm-11 1L8.5 8.5l.94-2.06 2.06-.94-2.06-.94L8.5 2.5l-.94 2.06-2.06.94zm10 10l.94 2.06.94-2.06 2.06-.94-2.06-.94-.94-2.06-.94 2.06-2.06.94z\"/><path d=\"M17.41 7.96l-1.37-1.37c-.4-.4-.92-.59-1.43-.59-.52 0-1.04.2-1.43.59L10.3 9.45l-7.72 7.72c-.78.78-.78 2.05 0 2.83L4 21.41c.39.39.9.59 1.41.59.51 0 1.02-.2 1.41-.59l7.78-7.78 2.81-2.81c.8-.78.8-2.07 0-2.86zM5.41 20L4 18.59l7.72-7.72 1.47 1.35L5.41 20z\"/>\n",
              "  </svg>\n",
              "      </button>\n",
              "      \n",
              "  <style>\n",
              "    .colab-df-container {\n",
              "      display:flex;\n",
              "      flex-wrap:wrap;\n",
              "      gap: 12px;\n",
              "    }\n",
              "\n",
              "    .colab-df-convert {\n",
              "      background-color: #E8F0FE;\n",
              "      border: none;\n",
              "      border-radius: 50%;\n",
              "      cursor: pointer;\n",
              "      display: none;\n",
              "      fill: #1967D2;\n",
              "      height: 32px;\n",
              "      padding: 0 0 0 0;\n",
              "      width: 32px;\n",
              "    }\n",
              "\n",
              "    .colab-df-convert:hover {\n",
              "      background-color: #E2EBFA;\n",
              "      box-shadow: 0px 1px 2px rgba(60, 64, 67, 0.3), 0px 1px 3px 1px rgba(60, 64, 67, 0.15);\n",
              "      fill: #174EA6;\n",
              "    }\n",
              "\n",
              "    [theme=dark] .colab-df-convert {\n",
              "      background-color: #3B4455;\n",
              "      fill: #D2E3FC;\n",
              "    }\n",
              "\n",
              "    [theme=dark] .colab-df-convert:hover {\n",
              "      background-color: #434B5C;\n",
              "      box-shadow: 0px 1px 3px 1px rgba(0, 0, 0, 0.15);\n",
              "      filter: drop-shadow(0px 1px 2px rgba(0, 0, 0, 0.3));\n",
              "      fill: #FFFFFF;\n",
              "    }\n",
              "  </style>\n",
              "\n",
              "      <script>\n",
              "        const buttonEl =\n",
              "          document.querySelector('#df-327b3d2f-3c53-4654-a6d4-4708f0f23087 button.colab-df-convert');\n",
              "        buttonEl.style.display =\n",
              "          google.colab.kernel.accessAllowed ? 'block' : 'none';\n",
              "\n",
              "        async function convertToInteractive(key) {\n",
              "          const element = document.querySelector('#df-327b3d2f-3c53-4654-a6d4-4708f0f23087');\n",
              "          const dataTable =\n",
              "            await google.colab.kernel.invokeFunction('convertToInteractive',\n",
              "                                                     [key], {});\n",
              "          if (!dataTable) return;\n",
              "\n",
              "          const docLinkHtml = 'Like what you see? Visit the ' +\n",
              "            '<a target=\"_blank\" href=https://colab.research.google.com/notebooks/data_table.ipynb>data table notebook</a>'\n",
              "            + ' to learn more about interactive tables.';\n",
              "          element.innerHTML = '';\n",
              "          dataTable['output_type'] = 'display_data';\n",
              "          await google.colab.output.renderOutput(dataTable, element);\n",
              "          const docLink = document.createElement('div');\n",
              "          docLink.innerHTML = docLinkHtml;\n",
              "          element.appendChild(docLink);\n",
              "        }\n",
              "      </script>\n",
              "    </div>\n",
              "  </div>\n",
              "  "
            ]
          },
          "metadata": {},
          "execution_count": 14
        }
      ],
      "source": [
        "result.cov_params()"
      ]
    },
    {
      "cell_type": "markdown",
      "metadata": {
        "id": "HT6h06I3G-8H"
      },
      "source": [
        "The covariance of the `intercept` term and the `lstat` coefficient is negative. Student-t distribution is in the `scipy.stats` module.\n",
        "Let's write a little helper function to get that and package it all up:"
      ]
    },
    {
      "cell_type": "code",
      "execution_count": 15,
      "metadata": {
        "id": "20GWBIkNG-8I"
      },
      "outputs": [],
      "source": [
        "from  scipy.stats import t as student_t\n",
        "def predict(res, new, alpha=0.05):\n",
        "    fit = pd.DataFrame(res.predict(new), columns=['fit'])\n",
        "    # the variance of the predicted value is <new Sigma, new> (new is a row vector).\n",
        "    sigma = (new.dot(res.cov_params())*new).sum(axis=1)**0.5\n",
        "    # isf is the inverse survival function, \n",
        "    # that is the inverse of 1-F, where F is the distribution function\n",
        "    t = student_t(df=res.df_resid, scale=sigma).isf(alpha/2)\n",
        "    fit['lower'] = fit.fit-t\n",
        "    fit['upper'] = fit.fit+t\n",
        "    return fit\n",
        "    "
      ]
    },
    {
      "cell_type": "markdown",
      "metadata": {
        "id": "B6-g0SU1G-8I"
      },
      "source": [
        "This is a confidence in the expected value of the response (the value of the regression function). Since new observations at these levels of `lstat` also contains the noise term, the confidence intervals for the new observed response values are much higher. "
      ]
    },
    {
      "cell_type": "code",
      "execution_count": 16,
      "metadata": {
        "id": "j6K6j0BjG-8I"
      },
      "outputs": [],
      "source": [
        "def predict(res, new, interval='confidence', alpha=0.05):\n",
        "    fit = pd.DataFrame(res.predict(new), columns=['fit'])\n",
        "    sigma2 = (new.dot(res.cov_params())*new).sum(axis=1)\n",
        "    if interval=='prediction':\n",
        "        sigma2 += res.scale\n",
        "    sigma = sigma2**.5\n",
        "    t = student_t(df=res.df_resid, scale=sigma).isf(alpha/2)\n",
        "    fit['lower'] = fit.fit-t\n",
        "    fit['upper'] = fit.fit+t\n",
        "    return fit"
      ]
    },
    {
      "cell_type": "code",
      "execution_count": 17,
      "metadata": {
        "id": "d_UevkllG-8J",
        "outputId": "1b093252-868c-49f5-dade-232e109dd734",
        "colab": {
          "base_uri": "https://localhost:8080/"
        }
      },
      "outputs": [
        {
          "output_type": "stream",
          "name": "stdout",
          "text": [
            "         fit      lower      upper\n",
            "0  29.803594  29.007412  30.599776\n",
            "1  25.053347  24.474132  25.632563\n",
            "2  20.303101  19.731588  20.874613\n",
            "         fit      lower      upper\n",
            "0  29.803594  17.565675  42.041513\n",
            "1  25.053347  12.827626  37.279068\n",
            "2  20.303101   8.077742  32.528459\n"
          ]
        }
      ],
      "source": [
        "print(predict(result, new)) \n",
        "print(predict(result, new, interval='prediction')) "
      ]
    },
    {
      "cell_type": "markdown",
      "metadata": {
        "id": "jlBgVvcVG-8J"
      },
      "source": [
        "Seaborn is a Python visualization library based on matplotlib that provides a high-level interface for drawing attractive statistical graphics."
      ]
    },
    {
      "cell_type": "code",
      "execution_count": 18,
      "metadata": {
        "tags": [],
        "id": "dILTODgUG-8J"
      },
      "outputs": [],
      "source": [
        "import seaborn as sns"
      ]
    },
    {
      "cell_type": "markdown",
      "metadata": {
        "id": "UWZmP26nG-8J"
      },
      "source": [
        "We will now plot `medv` and `lstat` along with the least squares regression line using the `regplot()` function. We can define the color of the fit line using `line_kws` (\"line keywords\"):"
      ]
    },
    {
      "cell_type": "code",
      "execution_count": 19,
      "metadata": {
        "jupyter": {
          "outputs_hidden": false
        },
        "id": "JHm_3hssG-8J",
        "outputId": "f774f413-5ae7-48b8-d825-79d06ecb3ad3",
        "colab": {
          "base_uri": "https://localhost:8080/",
          "height": 279
        }
      },
      "outputs": [
        {
          "output_type": "display_data",
          "data": {
            "text/plain": [
              "<Figure size 432x288 with 1 Axes>"
            ],
            "image/png": "[encoded data removed]"
          },
          "metadata": {
            "needs_background": "light"
          }
        }
      ],
      "source": [
        "sns.regplot(x='lstat', y='medv', data=df, line_kws = {\"color\": \"r\"}, ci=None)\n",
        "plt.grid()\n",
        "plt.show()"
      ]
    },
    {
      "cell_type": "markdown",
      "metadata": {
        "id": "LU7s8KGRG-8K"
      },
      "source": [
        "We can also plot the residuals against the fitted values:"
      ]
    },
    {
      "cell_type": "code",
      "execution_count": 20,
      "metadata": {
        "id": "NUzidErqG-8K",
        "outputId": "7c6527de-f49d-4f12-a8a1-a6b00990aa33",
        "colab": {
          "base_uri": "https://localhost:8080/",
          "height": 424
        }
      },
      "outputs": [
        {
          "output_type": "execute_result",
          "data": {
            "text/plain": [
              "     Fitted values  Residuals\n",
              "0        29.822595  -5.822595\n",
              "1        25.870390  -4.270390\n",
              "2        30.725142   3.974858\n",
              "3        31.760696   1.639304\n",
              "4        29.490078   6.709922\n",
              "..             ...        ...\n",
              "501      25.366864  -2.966864\n",
              "502      25.927393  -5.327393\n",
              "503      29.195563  -5.295563\n",
              "504      28.397521  -6.397521\n",
              "505      27.067452 -15.167452\n",
              "\n",
              "[506 rows x 2 columns]"
            ],
            "text/html": [
              "\n",
              "  <div id=\"df-9413d409-a281-4b0d-8557-60fe72020963\">\n",
              "    <div class=\"colab-df-container\">\n",
              "      <div>\n",
              "<style scoped>\n",
              "    .dataframe tbody tr th:only-of-type {\n",
              "        vertical-align: middle;\n",
              "    }\n",
              "\n",
              "    .dataframe tbody tr th {\n",
              "        vertical-align: top;\n",
              "    }\n",
              "\n",
              "    .dataframe thead th {\n",
              "        text-align: right;\n",
              "    }\n",
              "</style>\n",
              "<table border=\"1\" class=\"dataframe\">\n",
              "  <thead>\n",
              "    <tr style=\"text-align: right;\">\n",
              "      <th></th>\n",
              "      <th>Fitted values</th>\n",
              "      <th>Residuals</th>\n",
              "    </tr>\n",
              "  </thead>\n",
              "  <tbody>\n",
              "    <tr>\n",
              "      <th>0</th>\n",
              "      <td>29.822595</td>\n",
              "      <td>-5.822595</td>\n",
              "    </tr>\n",
              "    <tr>\n",
              "      <th>1</th>\n",
              "      <td>25.870390</td>\n",
              "      <td>-4.270390</td>\n",
              "    </tr>\n",
              "    <tr>\n",
              "      <th>2</th>\n",
              "      <td>30.725142</td>\n",
              "      <td>3.974858</td>\n",
              "    </tr>\n",
              "    <tr>\n",
              "      <th>3</th>\n",
              "      <td>31.760696</td>\n",
              "      <td>1.639304</td>\n",
              "    </tr>\n",
              "    <tr>\n",
              "      <th>4</th>\n",
              "      <td>29.490078</td>\n",
              "      <td>6.709922</td>\n",
              "    </tr>\n",
              "    <tr>\n",
              "      <th>...</th>\n",
              "      <td>...</td>\n",
              "      <td>...</td>\n",
              "    </tr>\n",
              "    <tr>\n",
              "      <th>501</th>\n",
              "      <td>25.366864</td>\n",
              "      <td>-2.966864</td>\n",
              "    </tr>\n",
              "    <tr>\n",
              "      <th>502</th>\n",
              "      <td>25.927393</td>\n",
              "      <td>-5.327393</td>\n",
              "    </tr>\n",
              "    <tr>\n",
              "      <th>503</th>\n",
              "      <td>29.195563</td>\n",
              "      <td>-5.295563</td>\n",
              "    </tr>\n",
              "    <tr>\n",
              "      <th>504</th>\n",
              "      <td>28.397521</td>\n",
              "      <td>-6.397521</td>\n",
              "    </tr>\n",
              "    <tr>\n",
              "      <th>505</th>\n",
              "      <td>27.067452</td>\n",
              "      <td>-15.167452</td>\n",
              "    </tr>\n",
              "  </tbody>\n",
              "</table>\n",
              "<p>506 rows × 2 columns</p>\n",
              "</div>\n",
              "      <button class=\"colab-df-convert\" onclick=\"convertToInteractive('df-9413d409-a281-4b0d-8557-60fe72020963')\"\n",
              "              title=\"Convert this dataframe to an interactive table.\"\n",
              "              style=\"display:none;\">\n",
              "        \n",
              "  <svg xmlns=\"http://www.w3.org/2000/svg\" height=\"24px\"viewBox=\"0 0 24 24\"\n",
              "       width=\"24px\">\n",
              "    <path d=\"M0 0h24v24H0V0z\" fill=\"none\"/>\n",
              "    <path d=\"M18.56 5.44l.94 2.06.94-2.06 2.06-.94-2.06-.94-.94-2.06-.94 2.06-2.06.94zm-11 1L8.5 8.5l.94-2.06 2.06-.94-2.06-.94L8.5 2.5l-.94 2.06-2.06.94zm10 10l.94 2.06.94-2.06 2.06-.94-2.06-.94-.94-2.06-.94 2.06-2.06.94z\"/><path d=\"M17.41 7.96l-1.37-1.37c-.4-.4-.92-.59-1.43-.59-.52 0-1.04.2-1.43.59L10.3 9.45l-7.72 7.72c-.78.78-.78 2.05 0 2.83L4 21.41c.39.39.9.59 1.41.59.51 0 1.02-.2 1.41-.59l7.78-7.78 2.81-2.81c.8-.78.8-2.07 0-2.86zM5.41 20L4 18.59l7.72-7.72 1.47 1.35L5.41 20z\"/>\n",
              "  </svg>\n",
              "      </button>\n",
              "      \n",
              "  <style>\n",
              "    .colab-df-container {\n",
              "      display:flex;\n",
              "      flex-wrap:wrap;\n",
              "      gap: 12px;\n",
              "    }\n",
              "\n",
              "    .colab-df-convert {\n",
              "      background-color: #E8F0FE;\n",
              "      border: none;\n",
              "      border-radius: 50%;\n",
              "      cursor: pointer;\n",
              "      display: none;\n",
              "      fill: #1967D2;\n",
              "      height: 32px;\n",
              "      padding: 0 0 0 0;\n",
              "      width: 32px;\n",
              "    }\n",
              "\n",
              "    .colab-df-convert:hover {\n",
              "      background-color: #E2EBFA;\n",
              "      box-shadow: 0px 1px 2px rgba(60, 64, 67, 0.3), 0px 1px 3px 1px rgba(60, 64, 67, 0.15);\n",
              "      fill: #174EA6;\n",
              "    }\n",
              "\n",
              "    [theme=dark] .colab-df-convert {\n",
              "      background-color: #3B4455;\n",
              "      fill: #D2E3FC;\n",
              "    }\n",
              "\n",
              "    [theme=dark] .colab-df-convert:hover {\n",
              "      background-color: #434B5C;\n",
              "      box-shadow: 0px 1px 3px 1px rgba(0, 0, 0, 0.15);\n",
              "      filter: drop-shadow(0px 1px 2px rgba(0, 0, 0, 0.3));\n",
              "      fill: #FFFFFF;\n",
              "    }\n",
              "  </style>\n",
              "\n",
              "      <script>\n",
              "        const buttonEl =\n",
              "          document.querySelector('#df-9413d409-a281-4b0d-8557-60fe72020963 button.colab-df-convert');\n",
              "        buttonEl.style.display =\n",
              "          google.colab.kernel.accessAllowed ? 'block' : 'none';\n",
              "\n",
              "        async function convertToInteractive(key) {\n",
              "          const element = document.querySelector('#df-9413d409-a281-4b0d-8557-60fe72020963');\n",
              "          const dataTable =\n",
              "            await google.colab.kernel.invokeFunction('convertToInteractive',\n",
              "                                                     [key], {});\n",
              "          if (!dataTable) return;\n",
              "\n",
              "          const docLinkHtml = 'Like what you see? Visit the ' +\n",
              "            '<a target=\"_blank\" href=https://colab.research.google.com/notebooks/data_table.ipynb>data table notebook</a>'\n",
              "            + ' to learn more about interactive tables.';\n",
              "          element.innerHTML = '';\n",
              "          dataTable['output_type'] = 'display_data';\n",
              "          await google.colab.output.renderOutput(dataTable, element);\n",
              "          const docLink = document.createElement('div');\n",
              "          docLink.innerHTML = docLinkHtml;\n",
              "          element.appendChild(docLink);\n",
              "        }\n",
              "      </script>\n",
              "    </div>\n",
              "  </div>\n",
              "  "
            ]
          },
          "metadata": {},
          "execution_count": 20
        }
      ],
      "source": [
        "result_df = pd.DataFrame({'Fitted values': result.fittedvalues, 'Residuals': result.resid})\n",
        "result_df"
      ]
    },
    {
      "cell_type": "code",
      "execution_count": null,
      "metadata": {
        "jupyter": {
          "outputs_hidden": false
        },
        "id": "5j00UdUXG-8K"
      },
      "outputs": [],
      "source": [
        "sns.regplot(x='Fitted values', y='Residuals', data=result_df, fit_reg=False)\n",
        "plt.grid()\n",
        "plt.show()"
      ]
    },
    {
      "cell_type": "markdown",
      "metadata": {
        "id": "zPBoFJdkG-8K"
      },
      "source": [
        "Perhaps we want studentized residuals instead? (This is almost the same as the residuals normalized to have unit norm, the latter is available as `.resid_pearson`)"
      ]
    },
    {
      "cell_type": "code",
      "execution_count": null,
      "metadata": {
        "id": "XpIfFKorG-8K"
      },
      "outputs": [],
      "source": [
        "sns.scatterplot(x=np.arange(result.nobs), \n",
        "                y=result.get_influence().resid_studentized-result.resid_pearson)\n",
        "plt.grid()\n",
        "plt.show()"
      ]
    },
    {
      "cell_type": "code",
      "execution_count": null,
      "metadata": {
        "jupyter": {
          "outputs_hidden": false
        },
        "id": "7H-d0oQ3G-8L"
      },
      "outputs": [],
      "source": [
        "result_df['S. Residuals'] = result.get_influence().resid_studentized\n",
        "sns.regplot(x='Fitted values', y='S. Residuals', data=result_df,  fit_reg=False)\n",
        "plt.grid()\n",
        "plt.show()"
      ]
    },
    {
      "cell_type": "markdown",
      "metadata": {
        "id": "CswLfLbCG-8L"
      },
      "source": [
        "We can also look for points with high leverage:"
      ]
    },
    {
      "cell_type": "code",
      "execution_count": null,
      "metadata": {
        "jupyter": {
          "outputs_hidden": false
        },
        "id": "tnSfCawsG-8L"
      },
      "outputs": [],
      "source": [
        "from statsmodels.stats.outliers_influence import OLSInfluence\n",
        "result_df['Leverage'] = OLSInfluence(result).hat_matrix_diag\n",
        "sns.regplot(x='Leverage', y='S. Residuals', data=result_df,  fit_reg=False)\n",
        "plt.grid()\n",
        "plt.show()"
      ]
    },
    {
      "cell_type": "markdown",
      "metadata": {
        "id": "iuCBjv-QG-8L"
      },
      "source": [
        "## Section 3.6.3 Multiple Linear Regression"
      ]
    },
    {
      "cell_type": "markdown",
      "metadata": {
        "id": "iPOUV5e1G-8L"
      },
      "source": [
        "In order to fit a multiple linear regression model using least squares, we again use the `from_formula()` function. The syntax `from_formula(y∼x1+x2+x3)` is used to fit a model with three predictors, `x1`, `x2`, and `x3`. The `summary()` function now outputs the regression coefficients for all the predictors."
      ]
    },
    {
      "cell_type": "code",
      "execution_count": 21,
      "metadata": {
        "jupyter": {
          "outputs_hidden": false
        },
        "id": "PQEAL9ihG-8L",
        "outputId": "f0c1d1cf-bc26-410c-9fbf-f257e2896072",
        "colab": {
          "base_uri": "https://localhost:8080/"
        }
      },
      "outputs": [
        {
          "output_type": "stream",
          "name": "stdout",
          "text": [
            "                            OLS Regression Results                            \n",
            "==============================================================================\n",
            "Dep. Variable:                   medv   R-squared:                       0.551\n",
            "Model:                            OLS   Adj. R-squared:                  0.549\n",
            "Method:                 Least Squares   F-statistic:                     309.0\n",
            "Date:                Fri, 11 Nov 2022   Prob (F-statistic):           2.98e-88\n",
            "Time:                        14:40:00   Log-Likelihood:                -1637.5\n",
            "No. Observations:                 506   AIC:                             3281.\n",
            "Df Residuals:                     503   BIC:                             3294.\n",
            "Df Model:                           2                                         \n",
            "Covariance Type:            nonrobust                                         \n",
            "==============================================================================\n",
            "                 coef    std err          t      P>|t|      [0.025      0.975]\n",
            "------------------------------------------------------------------------------\n",
            "Intercept     33.2228      0.731     45.458      0.000      31.787      34.659\n",
            "lstat         -1.0321      0.048    -21.416      0.000      -1.127      -0.937\n",
            "age            0.0345      0.012      2.826      0.005       0.011       0.059\n",
            "==============================================================================\n",
            "Omnibus:                      124.288   Durbin-Watson:                   0.945\n",
            "Prob(Omnibus):                  0.000   Jarque-Bera (JB):              244.026\n",
            "Skew:                           1.362   Prob(JB):                     1.02e-53\n",
            "Kurtosis:                       5.038   Cond. No.                         201.\n",
            "==============================================================================\n",
            "\n",
            "Notes:\n",
            "[1] Standard Errors assume that the covariance matrix of the errors is correctly specified.\n"
          ]
        }
      ],
      "source": [
        "model = sm.OLS.from_formula('medv ~ lstat + age', df)\n",
        "result = model.fit()\n",
        "print(result.summary())"
      ]
    },
    {
      "cell_type": "markdown",
      "metadata": {
        "id": "kPPEXfk2G-8L"
      },
      "source": [
        "The Boston data set contains 13 variables, and so it would be cumbersome to have to type all of these in order to perform a regression using all of the predictors. Instead, we can use the following short-hand:"
      ]
    },
    {
      "cell_type": "code",
      "execution_count": 22,
      "metadata": {
        "jupyter": {
          "outputs_hidden": false
        },
        "id": "sgD6hI8KG-8L",
        "outputId": "cd837e7c-4bd5-4ad7-b669-c51e45b2ba02",
        "colab": {
          "base_uri": "https://localhost:8080/"
        }
      },
      "outputs": [
        {
          "output_type": "stream",
          "name": "stdout",
          "text": [
            "                            OLS Regression Results                            \n",
            "==============================================================================\n",
            "Dep. Variable:                   medv   R-squared:                       0.741\n",
            "Model:                            OLS   Adj. R-squared:                  0.734\n",
            "Method:                 Least Squares   F-statistic:                     108.1\n",
            "Date:                Fri, 11 Nov 2022   Prob (F-statistic):          6.72e-135\n",
            "Time:                        14:40:52   Log-Likelihood:                -1498.8\n",
            "No. Observations:                 506   AIC:                             3026.\n",
            "Df Residuals:                     492   BIC:                             3085.\n",
            "Df Model:                          13                                         \n",
            "Covariance Type:            nonrobust                                         \n",
            "==============================================================================\n",
            "                 coef    std err          t      P>|t|      [0.025      0.975]\n",
            "------------------------------------------------------------------------------\n",
            "Intercept     36.4595      5.103      7.144      0.000      26.432      46.487\n",
            "age            0.0007      0.013      0.052      0.958      -0.025       0.027\n",
            "b              0.0093      0.003      3.467      0.001       0.004       0.015\n",
            "chas           2.6867      0.862      3.118      0.002       0.994       4.380\n",
            "crim          -0.1080      0.033     -3.287      0.001      -0.173      -0.043\n",
            "dis           -1.4756      0.199     -7.398      0.000      -1.867      -1.084\n",
            "indus          0.0206      0.061      0.334      0.738      -0.100       0.141\n",
            "lstat         -0.5248      0.051    -10.347      0.000      -0.624      -0.425\n",
            "nox          -17.7666      3.820     -4.651      0.000     -25.272     -10.262\n",
            "ptratio       -0.9527      0.131     -7.283      0.000      -1.210      -0.696\n",
            "rad            0.3060      0.066      4.613      0.000       0.176       0.436\n",
            "rm             3.8099      0.418      9.116      0.000       2.989       4.631\n",
            "tax           -0.0123      0.004     -3.280      0.001      -0.020      -0.005\n",
            "zn             0.0464      0.014      3.382      0.001       0.019       0.073\n",
            "==============================================================================\n",
            "Omnibus:                      178.041   Durbin-Watson:                   1.078\n",
            "Prob(Omnibus):                  0.000   Jarque-Bera (JB):              783.126\n",
            "Skew:                           1.521   Prob(JB):                    8.84e-171\n",
            "Kurtosis:                       8.281   Cond. No.                     1.51e+04\n",
            "==============================================================================\n",
            "\n",
            "Notes:\n",
            "[1] Standard Errors assume that the covariance matrix of the errors is correctly specified.\n",
            "[2] The condition number is large, 1.51e+04. This might indicate that there are\n",
            "strong multicollinearity or other numerical problems.\n"
          ]
        }
      ],
      "source": [
        "# All columns (except medv, which is our response)\n",
        "model = sm.OLS.from_formula('medv ~ ' + '+'.join(df.columns.difference(['medv'])), df)\n",
        "result = model.fit()\n",
        "print(result.summary())"
      ]
    },
    {
      "cell_type": "markdown",
      "metadata": {
        "id": "NiCRQC7kG-8M"
      },
      "source": [
        "Note that we used the syntax `.join(df.columns.difference(['medv']))` to exclude the response variable above. We can use the same napproach to perform a regression using just a subset of the predictors? For example, in the above regression output, `age` and `indus` have a high p-value. So we may wish to run a regression excluding these predictors:"
      ]
    },
    {
      "cell_type": "code",
      "execution_count": 23,
      "metadata": {
        "jupyter": {
          "outputs_hidden": false
        },
        "id": "mXPACHp0G-8M",
        "outputId": "bad9657e-f0d9-43e6-d9d0-cee43325595e",
        "colab": {
          "base_uri": "https://localhost:8080/"
        }
      },
      "outputs": [
        {
          "output_type": "stream",
          "name": "stdout",
          "text": [
            "                            OLS Regression Results                            \n",
            "==============================================================================\n",
            "Dep. Variable:                   medv   R-squared:                       0.741\n",
            "Model:                            OLS   Adj. R-squared:                  0.735\n",
            "Method:                 Least Squares   F-statistic:                     128.2\n",
            "Date:                Fri, 11 Nov 2022   Prob (F-statistic):          5.54e-137\n",
            "Time:                        14:41:54   Log-Likelihood:                -1498.9\n",
            "No. Observations:                 506   AIC:                             3022.\n",
            "Df Residuals:                     494   BIC:                             3072.\n",
            "Df Model:                          11                                         \n",
            "Covariance Type:            nonrobust                                         \n",
            "==============================================================================\n",
            "                 coef    std err          t      P>|t|      [0.025      0.975]\n",
            "------------------------------------------------------------------------------\n",
            "Intercept     36.3411      5.067      7.171      0.000      26.385      46.298\n",
            "b              0.0093      0.003      3.475      0.001       0.004       0.015\n",
            "chas           2.7187      0.854      3.183      0.002       1.040       4.397\n",
            "crim          -0.1084      0.033     -3.307      0.001      -0.173      -0.044\n",
            "dis           -1.4927      0.186     -8.037      0.000      -1.858      -1.128\n",
            "lstat         -0.5226      0.047    -11.019      0.000      -0.616      -0.429\n",
            "nox          -17.3760      3.535     -4.915      0.000     -24.322     -10.430\n",
            "ptratio       -0.9465      0.129     -7.334      0.000      -1.200      -0.693\n",
            "rad            0.2996      0.063      4.726      0.000       0.175       0.424\n",
            "rm             3.8016      0.406      9.356      0.000       3.003       4.600\n",
            "tax           -0.0118      0.003     -3.493      0.001      -0.018      -0.005\n",
            "zn             0.0458      0.014      3.390      0.001       0.019       0.072\n",
            "==============================================================================\n",
            "Omnibus:                      178.430   Durbin-Watson:                   1.078\n",
            "Prob(Omnibus):                  0.000   Jarque-Bera (JB):              787.785\n",
            "Skew:                           1.523   Prob(JB):                    8.60e-172\n",
            "Kurtosis:                       8.300   Cond. No.                     1.47e+04\n",
            "==============================================================================\n",
            "\n",
            "Notes:\n",
            "[1] Standard Errors assume that the covariance matrix of the errors is correctly specified.\n",
            "[2] The condition number is large, 1.47e+04. This might indicate that there are\n",
            "strong multicollinearity or other numerical problems.\n"
          ]
        }
      ],
      "source": [
        "# All columns (except medv age and indus)\n",
        "model = sm.OLS.from_formula('medv ~ ' + '+'.join(df.columns.difference(['medv', 'age', 'indus'])), df)\n",
        "result = model.fit()\n",
        "print(result.summary())"
      ]
    },
    {
      "cell_type": "markdown",
      "metadata": {
        "id": "kCkxGTDgG-8M"
      },
      "source": [
        "## Section 3.6.4 Interaction Terms"
      ]
    },
    {
      "cell_type": "markdown",
      "metadata": {
        "id": "vsCuT8g8G-8N"
      },
      "source": [
        "It is easy to include interaction terms in a linear model using the `.from_formula()` function. The syntax `lstat:black` tells Python to include an interaction term between `lstat` and `black`. The syntax `lstat*age` simultaneously includes `lstat`, `age`, and the interaction term `lstat*age` as predictors; it is a shorthand for `lstat+age+lstat:age`."
      ]
    },
    {
      "cell_type": "code",
      "execution_count": 24,
      "metadata": {
        "jupyter": {
          "outputs_hidden": false
        },
        "id": "oXkA2S51G-8O",
        "outputId": "fc91284b-608f-4ab8-94a3-f90fc3192434",
        "colab": {
          "base_uri": "https://localhost:8080/"
        }
      },
      "outputs": [
        {
          "output_type": "stream",
          "name": "stdout",
          "text": [
            "                            OLS Regression Results                            \n",
            "==============================================================================\n",
            "Dep. Variable:                   medv   R-squared:                       0.556\n",
            "Model:                            OLS   Adj. R-squared:                  0.553\n",
            "Method:                 Least Squares   F-statistic:                     209.3\n",
            "Date:                Fri, 11 Nov 2022   Prob (F-statistic):           4.86e-88\n",
            "Time:                        14:42:14   Log-Likelihood:                -1635.0\n",
            "No. Observations:                 506   AIC:                             3278.\n",
            "Df Residuals:                     502   BIC:                             3295.\n",
            "Df Model:                           3                                         \n",
            "Covariance Type:            nonrobust                                         \n",
            "==============================================================================\n",
            "                 coef    std err          t      P>|t|      [0.025      0.975]\n",
            "------------------------------------------------------------------------------\n",
            "Intercept     36.0885      1.470     24.553      0.000      33.201      38.976\n",
            "lstat         -1.3921      0.167     -8.313      0.000      -1.721      -1.063\n",
            "age           -0.0007      0.020     -0.036      0.971      -0.040       0.038\n",
            "lstat:age      0.0042      0.002      2.244      0.025       0.001       0.008\n",
            "==============================================================================\n",
            "Omnibus:                      135.601   Durbin-Watson:                   0.965\n",
            "Prob(Omnibus):                  0.000   Jarque-Bera (JB):              296.955\n",
            "Skew:                           1.417   Prob(JB):                     3.29e-65\n",
            "Kurtosis:                       5.461   Cond. No.                     6.88e+03\n",
            "==============================================================================\n",
            "\n",
            "Notes:\n",
            "[1] Standard Errors assume that the covariance matrix of the errors is correctly specified.\n",
            "[2] The condition number is large, 6.88e+03. This might indicate that there are\n",
            "strong multicollinearity or other numerical problems.\n"
          ]
        }
      ],
      "source": [
        "print(sm.OLS.from_formula('medv ~ lstat*age', df).fit().summary())"
      ]
    },
    {
      "cell_type": "markdown",
      "metadata": {
        "id": "zZk-Y_XlG-8P"
      },
      "source": [
        "## Section 3.6.5 Non-linear Transformations of the Predictors"
      ]
    },
    {
      "cell_type": "markdown",
      "metadata": {
        "id": "sgYuevwvG-8P"
      },
      "source": [
        "The `.from_formula()` function can also accommodate non-linear transformations of the predictors. For instance, given a predictor `X`, we can create a predictor `X^2` using `np.square(X)`. We now perform a regression of `medv` onto `lstat` and `lstat^2`."
      ]
    },
    {
      "cell_type": "code",
      "execution_count": 25,
      "metadata": {
        "jupyter": {
          "outputs_hidden": false
        },
        "id": "DbIGORAzG-8P",
        "outputId": "038f56d2-a4f0-460e-9819-07eaec3058d3",
        "colab": {
          "base_uri": "https://localhost:8080/"
        }
      },
      "outputs": [
        {
          "output_type": "stream",
          "name": "stdout",
          "text": [
            "                            OLS Regression Results                            \n",
            "==============================================================================\n",
            "Dep. Variable:                   medv   R-squared:                       0.641\n",
            "Model:                            OLS   Adj. R-squared:                  0.639\n",
            "Method:                 Least Squares   F-statistic:                     448.5\n",
            "Date:                Fri, 11 Nov 2022   Prob (F-statistic):          1.56e-112\n",
            "Time:                        14:42:23   Log-Likelihood:                -1581.3\n",
            "No. Observations:                 506   AIC:                             3169.\n",
            "Df Residuals:                     503   BIC:                             3181.\n",
            "Df Model:                           2                                         \n",
            "Covariance Type:            nonrobust                                         \n",
            "====================================================================================\n",
            "                       coef    std err          t      P>|t|      [0.025      0.975]\n",
            "------------------------------------------------------------------------------------\n",
            "Intercept           42.8620      0.872     49.149      0.000      41.149      44.575\n",
            "lstat               -2.3328      0.124    -18.843      0.000      -2.576      -2.090\n",
            "np.square(lstat)     0.0435      0.004     11.628      0.000       0.036       0.051\n",
            "==============================================================================\n",
            "Omnibus:                      107.006   Durbin-Watson:                   0.921\n",
            "Prob(Omnibus):                  0.000   Jarque-Bera (JB):              228.388\n",
            "Skew:                           1.128   Prob(JB):                     2.55e-50\n",
            "Kurtosis:                       5.397   Cond. No.                     1.13e+03\n",
            "==============================================================================\n",
            "\n",
            "Notes:\n",
            "[1] Standard Errors assume that the covariance matrix of the errors is correctly specified.\n",
            "[2] The condition number is large, 1.13e+03. This might indicate that there are\n",
            "strong multicollinearity or other numerical problems.\n"
          ]
        }
      ],
      "source": [
        "lm.fit2 = sm.OLS.from_formula('medv ~ lstat + np.square(lstat)', df).fit()\n",
        "print(lm.fit2.summary())"
      ]
    },
    {
      "cell_type": "markdown",
      "metadata": {
        "id": "d75gHVQ4G-8P"
      },
      "source": [
        "The near-zero p-value associated with the quadratic term suggests that it leads to an improved model. We use the `anova_lm()` function to further quantify the extent to which the quadratic fit is superior to the linear fit."
      ]
    },
    {
      "cell_type": "code",
      "execution_count": 26,
      "metadata": {
        "jupyter": {
          "outputs_hidden": false
        },
        "id": "_pIoGTdHG-8Q",
        "outputId": "abbeb1c6-7472-41b9-9ac0-6700284ebd76",
        "colab": {
          "base_uri": "https://localhost:8080/"
        }
      },
      "outputs": [
        {
          "output_type": "stream",
          "name": "stdout",
          "text": [
            "   df_resid           ssr  df_diff     ss_diff           F        Pr(>F)\n",
            "0     504.0  19472.381418      0.0         NaN         NaN           NaN\n",
            "1     503.0  15347.243158      1.0  4125.13826  135.199822  7.630116e-28\n"
          ]
        }
      ],
      "source": [
        "lm.fit = sm.OLS.from_formula('medv ~ lstat', df).fit()\n",
        "print(sm.stats.anova_lm(lm.fit, lm.fit2))"
      ]
    },
    {
      "cell_type": "markdown",
      "metadata": {
        "id": "OSqk2CruG-8Q"
      },
      "source": [
        "Here Model 0 represents the linear submodel containing only one predictor, `lstat`, while Model 1 corresponds to the larger quadraticmodel that has two predictors, `lstat` and `lstat2`. The `anova_lm()` function performs a hypothesis test comparing the two models. The null hypothesis is that the two models fit the data equally well, and the alternative hypothesis is that the full model is superior. \n",
        "\n",
        "The F-statistic is 135 and the associated p-value is virtually zero. This provides very clear evidence that the model containing the predictors `lstat` and `lstat2` is far superior to the model that only contains the predictor `lstat`. This is not surprising, since earlier we saw evidence for non-linearity in the relationship between `medv` and `lstat`. \n",
        "\n",
        "If we type:"
      ]
    },
    {
      "cell_type": "code",
      "execution_count": 28,
      "metadata": {
        "jupyter": {
          "outputs_hidden": false
        },
        "id": "HxnUh8VZG-8Q",
        "outputId": "d920ff2d-da09-4f0e-ba19-d25225507258",
        "colab": {
          "base_uri": "https://localhost:8080/",
          "height": 279
        }
      },
      "outputs": [
        {
          "output_type": "display_data",
          "data": {
            "text/plain": [
              "<Figure size 432x288 with 1 Axes>"
            ],
            "image/png": "[encoded data removed]"
          },
          "metadata": {
            "needs_background": "light"
          }
        }
      ],
      "source": [
        "fitted_values = pd.Series(lm.fit2.fittedvalues, name=\"Fitted Values\")\n",
        "residuals = pd.Series(lm.fit2.get_influence().resid_studentized, name=\"S. Residuals\")\n",
        "sns.regplot(x=fitted_values, y=residuals,  fit_reg=False)\n",
        "plt.grid()\n",
        "plt.show()"
      ]
    },
    {
      "cell_type": "markdown",
      "metadata": {
        "id": "MMKTxX_lG-8Q"
      },
      "source": [
        "then we see that when the `lstat2` term is included in the model, there is little discernible pattern in the residuals."
      ]
    },
    {
      "cell_type": "markdown",
      "metadata": {
        "id": "9rlSJFPdG-8Q"
      },
      "source": [
        "In order to create a cubic fit, we can include a predictor of the form `np.power(x, 3))`. However, this approach can start to get cumbersome for higher order polynomials. A better approach involves using list comprehension inside a `.join()`. For example, the following command produces a fifth-order polynomial fit:"
      ]
    },
    {
      "cell_type": "code",
      "execution_count": 29,
      "metadata": {
        "jupyter": {
          "outputs_hidden": false
        },
        "id": "t_JURgRJG-8R",
        "outputId": "bef0670b-2ef4-4aab-df8c-beb50dd31310",
        "colab": {
          "base_uri": "https://localhost:8080/"
        }
      },
      "outputs": [
        {
          "output_type": "stream",
          "name": "stdout",
          "text": [
            "medv ~ np.power(lstat,1)+np.power(lstat,2)+np.power(lstat,3)+np.power(lstat,4)+np.power(lstat,5)\n",
            "                            OLS Regression Results                            \n",
            "==============================================================================\n",
            "Dep. Variable:                   medv   R-squared:                       0.682\n",
            "Model:                            OLS   Adj. R-squared:                  0.679\n",
            "Method:                 Least Squares   F-statistic:                     214.2\n",
            "Date:                Fri, 11 Nov 2022   Prob (F-statistic):          8.73e-122\n",
            "Time:                        14:44:21   Log-Likelihood:                -1550.6\n",
            "No. Observations:                 506   AIC:                             3113.\n",
            "Df Residuals:                     500   BIC:                             3139.\n",
            "Df Model:                           5                                         \n",
            "Covariance Type:            nonrobust                                         \n",
            "======================================================================================\n",
            "                         coef    std err          t      P>|t|      [0.025      0.975]\n",
            "--------------------------------------------------------------------------------------\n",
            "Intercept             67.6997      3.604     18.783      0.000      60.618      74.781\n",
            "np.power(lstat, 1)   -11.9911      1.526     -7.859      0.000     -14.989      -8.994\n",
            "np.power(lstat, 2)     1.2728      0.223      5.703      0.000       0.834       1.711\n",
            "np.power(lstat, 3)    -0.0683      0.014     -4.747      0.000      -0.097      -0.040\n",
            "np.power(lstat, 4)     0.0017      0.000      4.143      0.000       0.001       0.003\n",
            "np.power(lstat, 5) -1.632e-05   4.42e-06     -3.692      0.000    -2.5e-05   -7.63e-06\n",
            "==============================================================================\n",
            "Omnibus:                      144.085   Durbin-Watson:                   0.987\n",
            "Prob(Omnibus):                  0.000   Jarque-Bera (JB):              494.545\n",
            "Skew:                           1.292   Prob(JB):                    4.08e-108\n",
            "Kurtosis:                       7.096   Cond. No.                     1.37e+08\n",
            "==============================================================================\n",
            "\n",
            "Notes:\n",
            "[1] Standard Errors assume that the covariance matrix of the errors is correctly specified.\n",
            "[2] The condition number is large, 1.37e+08. This might indicate that there are\n",
            "strong multicollinearity or other numerical problems.\n"
          ]
        }
      ],
      "source": [
        "formula_5 = 'medv ~ ' + '+'.join(['np.power(lstat,' + str(i) + ')' for i in range(1,6)])\n",
        "print(formula_5)\n",
        "print(sm.OLS.from_formula(formula_5, df).fit().summary())"
      ]
    },
    {
      "cell_type": "markdown",
      "metadata": {
        "id": "D5ev2z4zG-8R"
      },
      "source": [
        "Of course, we are in no way restricted to using polynomial transformations of the predictors. Here we try a log transformation."
      ]
    },
    {
      "cell_type": "code",
      "execution_count": 30,
      "metadata": {
        "jupyter": {
          "outputs_hidden": false
        },
        "id": "Y16HrzYhG-8R",
        "outputId": "e043132a-7af3-45f6-8c04-4e600c5e9e4c",
        "colab": {
          "base_uri": "https://localhost:8080/"
        }
      },
      "outputs": [
        {
          "output_type": "stream",
          "name": "stdout",
          "text": [
            "                            OLS Regression Results                            \n",
            "==============================================================================\n",
            "Dep. Variable:                   medv   R-squared:                       0.436\n",
            "Model:                            OLS   Adj. R-squared:                  0.435\n",
            "Method:                 Least Squares   F-statistic:                     389.3\n",
            "Date:                Fri, 11 Nov 2022   Prob (F-statistic):           1.22e-64\n",
            "Time:                        14:44:27   Log-Likelihood:                -1695.4\n",
            "No. Observations:                 506   AIC:                             3395.\n",
            "Df Residuals:                     504   BIC:                             3403.\n",
            "Df Model:                           1                                         \n",
            "Covariance Type:            nonrobust                                         \n",
            "==============================================================================\n",
            "                 coef    std err          t      P>|t|      [0.025      0.975]\n",
            "------------------------------------------------------------------------------\n",
            "Intercept    -76.4878      5.028    -15.213      0.000     -86.366     -66.610\n",
            "np.log(rm)    54.0546      2.739     19.732      0.000      48.672      59.437\n",
            "==============================================================================\n",
            "Omnibus:                      117.102   Durbin-Watson:                   0.681\n",
            "Prob(Omnibus):                  0.000   Jarque-Bera (JB):              584.336\n",
            "Skew:                           0.916   Prob(JB):                    1.30e-127\n",
            "Kurtosis:                       7.936   Cond. No.                         38.9\n",
            "==============================================================================\n",
            "\n",
            "Notes:\n",
            "[1] Standard Errors assume that the covariance matrix of the errors is correctly specified.\n"
          ]
        }
      ],
      "source": [
        "print(sm.OLS.from_formula('medv ~ np.log(rm)', df).fit().summary())"
      ]
    },
    {
      "cell_type": "markdown",
      "metadata": {
        "id": "wnx6VqwGG-8R"
      },
      "source": [
        "## Section 3.6.6 Qualitative Predictors"
      ]
    },
    {
      "cell_type": "markdown",
      "metadata": {
        "id": "kvNwnWUzG-8R"
      },
      "source": [
        "We will now examine the [`Carseats`](http://www.science.smith.edu/~jcrouser/SDS293/data/Carseats.csv) data that we talked about earlier in class. We will attempt to predict `Sales` (child car seat sales) in 400 locations based on a number of predictors."
      ]
    },
    {
      "cell_type": "code",
      "execution_count": 32,
      "metadata": {
        "jupyter": {
          "outputs_hidden": false
        },
        "id": "gs37BT9UG-8R",
        "outputId": "9a163ef0-3bad-4b5c-ae51-87bbc7a5fd14",
        "colab": {
          "base_uri": "https://localhost:8080/",
          "height": 206
        }
      },
      "outputs": [
        {
          "output_type": "execute_result",
          "data": {
            "text/plain": [
              "   Sales  CompPrice  Income  Advertising  Population  Price ShelveLoc  Age  \\\n",
              "0   9.50        138      73           11         276    120       Bad   42   \n",
              "1  11.22        111      48           16         260     83      Good   65   \n",
              "2  10.06        113      35           10         269     80    Medium   59   \n",
              "3   7.40        117     100            4         466     97    Medium   55   \n",
              "4   4.15        141      64            3         340    128       Bad   38   \n",
              "\n",
              "   Education Urban   US  \n",
              "0         17   Yes  Yes  \n",
              "1         10   Yes  Yes  \n",
              "2         12   Yes  Yes  \n",
              "3         14   Yes  Yes  \n",
              "4         13   Yes   No  "
            ],
            "text/html": [
              "\n",
              "  <div id=\"df-c80fbbc6-b6b2-48bd-a6ab-0938f65ab3b6\">\n",
              "    <div class=\"colab-df-container\">\n",
              "      <div>\n",
              "<style scoped>\n",
              "    .dataframe tbody tr th:only-of-type {\n",
              "        vertical-align: middle;\n",
              "    }\n",
              "\n",
              "    .dataframe tbody tr th {\n",
              "        vertical-align: top;\n",
              "    }\n",
              "\n",
              "    .dataframe thead th {\n",
              "        text-align: right;\n",
              "    }\n",
              "</style>\n",
              "<table border=\"1\" class=\"dataframe\">\n",
              "  <thead>\n",
              "    <tr style=\"text-align: right;\">\n",
              "      <th></th>\n",
              "      <th>Sales</th>\n",
              "      <th>CompPrice</th>\n",
              "      <th>Income</th>\n",
              "      <th>Advertising</th>\n",
              "      <th>Population</th>\n",
              "      <th>Price</th>\n",
              "      <th>ShelveLoc</th>\n",
              "      <th>Age</th>\n",
              "      <th>Education</th>\n",
              "      <th>Urban</th>\n",
              "      <th>US</th>\n",
              "    </tr>\n",
              "  </thead>\n",
              "  <tbody>\n",
              "    <tr>\n",
              "      <th>0</th>\n",
              "      <td>9.50</td>\n",
              "      <td>138</td>\n",
              "      <td>73</td>\n",
              "      <td>11</td>\n",
              "      <td>276</td>\n",
              "      <td>120</td>\n",
              "      <td>Bad</td>\n",
              "      <td>42</td>\n",
              "      <td>17</td>\n",
              "      <td>Yes</td>\n",
              "      <td>Yes</td>\n",
              "    </tr>\n",
              "    <tr>\n",
              "      <th>1</th>\n",
              "      <td>11.22</td>\n",
              "      <td>111</td>\n",
              "      <td>48</td>\n",
              "      <td>16</td>\n",
              "      <td>260</td>\n",
              "      <td>83</td>\n",
              "      <td>Good</td>\n",
              "      <td>65</td>\n",
              "      <td>10</td>\n",
              "      <td>Yes</td>\n",
              "      <td>Yes</td>\n",
              "    </tr>\n",
              "    <tr>\n",
              "      <th>2</th>\n",
              "      <td>10.06</td>\n",
              "      <td>113</td>\n",
              "      <td>35</td>\n",
              "      <td>10</td>\n",
              "      <td>269</td>\n",
              "      <td>80</td>\n",
              "      <td>Medium</td>\n",
              "      <td>59</td>\n",
              "      <td>12</td>\n",
              "      <td>Yes</td>\n",
              "      <td>Yes</td>\n",
              "    </tr>\n",
              "    <tr>\n",
              "      <th>3</th>\n",
              "      <td>7.40</td>\n",
              "      <td>117</td>\n",
              "      <td>100</td>\n",
              "      <td>4</td>\n",
              "      <td>466</td>\n",
              "      <td>97</td>\n",
              "      <td>Medium</td>\n",
              "      <td>55</td>\n",
              "      <td>14</td>\n",
              "      <td>Yes</td>\n",
              "      <td>Yes</td>\n",
              "    </tr>\n",
              "    <tr>\n",
              "      <th>4</th>\n",
              "      <td>4.15</td>\n",
              "      <td>141</td>\n",
              "      <td>64</td>\n",
              "      <td>3</td>\n",
              "      <td>340</td>\n",
              "      <td>128</td>\n",
              "      <td>Bad</td>\n",
              "      <td>38</td>\n",
              "      <td>13</td>\n",
              "      <td>Yes</td>\n",
              "      <td>No</td>\n",
              "    </tr>\n",
              "  </tbody>\n",
              "</table>\n",
              "</div>\n",
              "      <button class=\"colab-df-convert\" onclick=\"convertToInteractive('df-c80fbbc6-b6b2-48bd-a6ab-0938f65ab3b6')\"\n",
              "              title=\"Convert this dataframe to an interactive table.\"\n",
              "              style=\"display:none;\">\n",
              "        \n",
              "  <svg xmlns=\"http://www.w3.org/2000/svg\" height=\"24px\"viewBox=\"0 0 24 24\"\n",
              "       width=\"24px\">\n",
              "    <path d=\"M0 0h24v24H0V0z\" fill=\"none\"/>\n",
              "    <path d=\"M18.56 5.44l.94 2.06.94-2.06 2.06-.94-2.06-.94-.94-2.06-.94 2.06-2.06.94zm-11 1L8.5 8.5l.94-2.06 2.06-.94-2.06-.94L8.5 2.5l-.94 2.06-2.06.94zm10 10l.94 2.06.94-2.06 2.06-.94-2.06-.94-.94-2.06-.94 2.06-2.06.94z\"/><path d=\"M17.41 7.96l-1.37-1.37c-.4-.4-.92-.59-1.43-.59-.52 0-1.04.2-1.43.59L10.3 9.45l-7.72 7.72c-.78.78-.78 2.05 0 2.83L4 21.41c.39.39.9.59 1.41.59.51 0 1.02-.2 1.41-.59l7.78-7.78 2.81-2.81c.8-.78.8-2.07 0-2.86zM5.41 20L4 18.59l7.72-7.72 1.47 1.35L5.41 20z\"/>\n",
              "  </svg>\n",
              "      </button>\n",
              "      \n",
              "  <style>\n",
              "    .colab-df-container {\n",
              "      display:flex;\n",
              "      flex-wrap:wrap;\n",
              "      gap: 12px;\n",
              "    }\n",
              "\n",
              "    .colab-df-convert {\n",
              "      background-color: #E8F0FE;\n",
              "      border: none;\n",
              "      border-radius: 50%;\n",
              "      cursor: pointer;\n",
              "      display: none;\n",
              "      fill: #1967D2;\n",
              "      height: 32px;\n",
              "      padding: 0 0 0 0;\n",
              "      width: 32px;\n",
              "    }\n",
              "\n",
              "    .colab-df-convert:hover {\n",
              "      background-color: #E2EBFA;\n",
              "      box-shadow: 0px 1px 2px rgba(60, 64, 67, 0.3), 0px 1px 3px 1px rgba(60, 64, 67, 0.15);\n",
              "      fill: #174EA6;\n",
              "    }\n",
              "\n",
              "    [theme=dark] .colab-df-convert {\n",
              "      background-color: #3B4455;\n",
              "      fill: #D2E3FC;\n",
              "    }\n",
              "\n",
              "    [theme=dark] .colab-df-convert:hover {\n",
              "      background-color: #434B5C;\n",
              "      box-shadow: 0px 1px 3px 1px rgba(0, 0, 0, 0.15);\n",
              "      filter: drop-shadow(0px 1px 2px rgba(0, 0, 0, 0.3));\n",
              "      fill: #FFFFFF;\n",
              "    }\n",
              "  </style>\n",
              "\n",
              "      <script>\n",
              "        const buttonEl =\n",
              "          document.querySelector('#df-c80fbbc6-b6b2-48bd-a6ab-0938f65ab3b6 button.colab-df-convert');\n",
              "        buttonEl.style.display =\n",
              "          google.colab.kernel.accessAllowed ? 'block' : 'none';\n",
              "\n",
              "        async function convertToInteractive(key) {\n",
              "          const element = document.querySelector('#df-c80fbbc6-b6b2-48bd-a6ab-0938f65ab3b6');\n",
              "          const dataTable =\n",
              "            await google.colab.kernel.invokeFunction('convertToInteractive',\n",
              "                                                     [key], {});\n",
              "          if (!dataTable) return;\n",
              "\n",
              "          const docLinkHtml = 'Like what you see? Visit the ' +\n",
              "            '<a target=\"_blank\" href=https://colab.research.google.com/notebooks/data_table.ipynb>data table notebook</a>'\n",
              "            + ' to learn more about interactive tables.';\n",
              "          element.innerHTML = '';\n",
              "          dataTable['output_type'] = 'display_data';\n",
              "          await google.colab.output.renderOutput(dataTable, element);\n",
              "          const docLink = document.createElement('div');\n",
              "          docLink.innerHTML = docLinkHtml;\n",
              "          element.appendChild(docLink);\n",
              "        }\n",
              "      </script>\n",
              "    </div>\n",
              "  </div>\n",
              "  "
            ]
          },
          "metadata": {},
          "execution_count": 32
        }
      ],
      "source": [
        "if from_smith_edu:\n",
        "    df2 = pd.read_csv('Carseats.csv')\n",
        "else:\n",
        "    import statsmodels.datasets as smd\n",
        "    df2 = smd.get_rdataset('Carseats', 'ISLR')\n",
        "    df2.data.__doc__= df2.__doc__\n",
        "    df2 = df2.data\n",
        "df2.head()"
      ]
    },
    {
      "cell_type": "code",
      "execution_count": 33,
      "metadata": {
        "id": "BJNnK6xiG-8R",
        "outputId": "79d9ee32-b630-4177-d403-f596aa861fd0",
        "colab": {
          "base_uri": "https://localhost:8080/"
        }
      },
      "outputs": [
        {
          "output_type": "stream",
          "name": "stdout",
          "text": [
            ".. container::\n",
            "\n",
            "   ======== ===============\n",
            "   Carseats R Documentation\n",
            "   ======== ===============\n",
            "\n",
            "   .. rubric:: Sales of Child Car Seats\n",
            "      :name: sales-of-child-car-seats\n",
            "\n",
            "   .. rubric:: Description\n",
            "      :name: description\n",
            "\n",
            "   A simulated data set containing sales of child car seats at 400\n",
            "   different stores.\n",
            "\n",
            "   .. rubric:: Usage\n",
            "      :name: usage\n",
            "\n",
            "   ::\n",
            "\n",
            "      Carseats\n",
            "\n",
            "   .. rubric:: Format\n",
            "      :name: format\n",
            "\n",
            "   A data frame with 400 observations on the following 11 variables.\n",
            "\n",
            "   ``Sales``\n",
            "      Unit sales (in thousands) at each location\n",
            "\n",
            "   ``CompPrice``\n",
            "      Price charged by competitor at each location\n",
            "\n",
            "   ``Income``\n",
            "      Community income level (in thousands of dollars)\n",
            "\n",
            "   ``Advertising``\n",
            "      Local advertising budget for company at each location (in\n",
            "      thousands of dollars)\n",
            "\n",
            "   ``Population``\n",
            "      Population size in region (in thousands)\n",
            "\n",
            "   ``Price``\n",
            "      Price company charges for car seats at each site\n",
            "\n",
            "   ``ShelveLoc``\n",
            "      A factor with levels ``Bad``, ``Good`` and ``Medium`` indicating\n",
            "      the quality of the shelving location for the car seats at each\n",
            "      site\n",
            "\n",
            "   ``Age``\n",
            "      Average age of the local population\n",
            "\n",
            "   ``Education``\n",
            "      Education level at each location\n",
            "\n",
            "   ``Urban``\n",
            "      A factor with levels ``No`` and ``Yes`` to indicate whether the\n",
            "      store is in an urban or rural location\n",
            "\n",
            "   ``US``\n",
            "      A factor with levels ``No`` and ``Yes`` to indicate whether the\n",
            "      store is in the US or not\n",
            "\n",
            "   .. rubric:: Source\n",
            "      :name: source\n",
            "\n",
            "   Simulated data\n",
            "\n",
            "   .. rubric:: References\n",
            "      :name: references\n",
            "\n",
            "   James, G., Witten, D., Hastie, T., and Tibshirani, R. (2013) *An\n",
            "   Introduction to Statistical Learning with applications in R*,\n",
            "   https://www.statlearning.com, Springer-Verlag, New York\n",
            "\n",
            "   .. rubric:: Examples\n",
            "      :name: examples\n",
            "\n",
            "   ::\n",
            "\n",
            "      summary(Carseats)\n",
            "      lm.fit=lm(Sales~Advertising+Price,data=Carseats)\n",
            "\n"
          ]
        }
      ],
      "source": [
        "print(df2.__doc__)"
      ]
    },
    {
      "cell_type": "markdown",
      "metadata": {
        "id": "Y6IjGPo0G-8R"
      },
      "source": [
        "The `Carseats` data includes qualitative predictors such as `Shelveloc`, an indicator of the quality of the shelving location—that is, the space within a store in which the car seat is displayed—at each location. The predictor `Shelveloc` takes on three possible values, `Bad`, `Medium`, and `Good`.\n",
        "\n",
        "Given a qualitative variable such as `Shelveloc`, Python generates dummy variables automatically. Below we fit a multiple regression model that includes some interaction terms."
      ]
    },
    {
      "cell_type": "code",
      "execution_count": 34,
      "metadata": {
        "jupyter": {
          "outputs_hidden": false
        },
        "id": "AcePEM_ZG-8S",
        "outputId": "95ceffb4-3e54-4d44-aa73-e1160440d32f",
        "colab": {
          "base_uri": "https://localhost:8080/"
        }
      },
      "outputs": [
        {
          "output_type": "stream",
          "name": "stdout",
          "text": [
            "Sales ~ Income:Advertising+Price:Age + Advertising + Age + CompPrice + Education + Income + Population + Price + ShelveLoc + US + Urban\n",
            "                            OLS Regression Results                            \n",
            "==============================================================================\n",
            "Dep. Variable:                  Sales   R-squared:                       0.876\n",
            "Model:                            OLS   Adj. R-squared:                  0.872\n",
            "Method:                 Least Squares   F-statistic:                     210.0\n",
            "Date:                Fri, 11 Nov 2022   Prob (F-statistic):          6.14e-166\n",
            "Time:                        14:45:03   Log-Likelihood:                -564.67\n",
            "No. Observations:                 400   AIC:                             1157.\n",
            "Df Residuals:                     386   BIC:                             1213.\n",
            "Df Model:                          13                                         \n",
            "Covariance Type:            nonrobust                                         \n",
            "=======================================================================================\n",
            "                          coef    std err          t      P>|t|      [0.025      0.975]\n",
            "---------------------------------------------------------------------------------------\n",
            "Intercept               6.5756      1.009      6.519      0.000       4.592       8.559\n",
            "ShelveLoc[T.Good]       4.8487      0.153     31.724      0.000       4.548       5.149\n",
            "ShelveLoc[T.Medium]     1.9533      0.126     15.531      0.000       1.706       2.201\n",
            "US[T.Yes]              -0.1576      0.149     -1.058      0.291      -0.450       0.135\n",
            "Urban[T.Yes]            0.1402      0.112      1.247      0.213      -0.081       0.361\n",
            "Income:Advertising      0.0008      0.000      2.698      0.007       0.000       0.001\n",
            "Price:Age               0.0001      0.000      0.801      0.424      -0.000       0.000\n",
            "Advertising             0.0702      0.023      3.107      0.002       0.026       0.115\n",
            "Age                    -0.0579      0.016     -3.633      0.000      -0.089      -0.027\n",
            "CompPrice               0.0929      0.004     22.567      0.000       0.085       0.101\n",
            "Education              -0.0209      0.020     -1.063      0.288      -0.059       0.018\n",
            "Income                  0.0109      0.003      4.183      0.000       0.006       0.016\n",
            "Population              0.0002      0.000      0.433      0.665      -0.001       0.001\n",
            "Price                  -0.1008      0.007    -13.549      0.000      -0.115      -0.086\n",
            "==============================================================================\n",
            "Omnibus:                        1.281   Durbin-Watson:                   2.047\n",
            "Prob(Omnibus):                  0.527   Jarque-Bera (JB):                1.147\n",
            "Skew:                           0.129   Prob(JB):                        0.564\n",
            "Kurtosis:                       3.050   Cond. No.                     1.31e+05\n",
            "==============================================================================\n",
            "\n",
            "Notes:\n",
            "[1] Standard Errors assume that the covariance matrix of the errors is correctly specified.\n",
            "[2] The condition number is large, 1.31e+05. This might indicate that there are\n",
            "strong multicollinearity or other numerical problems.\n"
          ]
        }
      ],
      "source": [
        "formula_carseat = 'Sales ~ Income:Advertising+Price:Age + ' + \" + \".join(df2.columns.difference(['Sales']))\n",
        "print(formula_carseat)\n",
        "print(sm.OLS.from_formula(formula_carseat, df2).fit().summary())"
      ]
    },
    {
      "cell_type": "markdown",
      "metadata": {
        "id": "GnE5Q86hG-8S"
      },
      "source": [
        "To learn how to set other coding schemes (or _contrasts_), see: http://statsmodels.sourceforge.net/devel/examples/notebooks/generated/contrasts.html"
      ]
    },
    {
      "cell_type": "code",
      "execution_count": null,
      "metadata": {
        "id": "boRJPFdfG-8U"
      },
      "outputs": [],
      "source": []
    }
  ],
  "metadata": {
    "anaconda-cloud": {},
    "kernelspec": {
      "display_name": "base",
      "language": "python",
      "name": "python3"
    },
    "language_info": {
      "codemirror_mode": {
        "name": "ipython",
        "version": 3
      },
      "file_extension": ".py",
      "mimetype": "text/x-python",
      "name": "python",
      "nbconvert_exporter": "python",
      "pygments_lexer": "ipython3",
      "version": "3.8.13 | packaged by conda-forge | (default, Mar 25 2022, 06:04:10) \n[GCC 10.3.0]"
    },
    "vscode": {
      "interpreter": {
        "hash": "d8b53ac59aeb7dd99955ed1c7af180cec0b2adbd03b0a8162d4077beb5f10154"
      }
    },
    "colab": {
      "provenance": []
    }
  },
  "nbformat": 4,
  "nbformat_minor": 0
}