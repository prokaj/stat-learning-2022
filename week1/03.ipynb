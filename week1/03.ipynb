{
 "cells": [
  {
   "cell_type": "markdown",
   "id": "308a1d75",
   "metadata": {},
   "source": [
    "This exercise involves the\n",
    "[`Auto`](https://www.statlearning.com/s/Auto.csv) data set. Make sure\n",
    "that the missing values have been removed from the data, e.g.\n",
    "\n",
    "    #----------------\n",
    "    import statsmodels.datasets as sm_datasets\n",
    "    auto = sm_datasets.get_rdataset('Auto', 'ISLR')\n",
    "    auto.data\n",
    "    #----------------\n",
    "\n",
    "or from the web page\n",
    "\n",
    "    #----------------\n",
    "    from urllib.request import urlopen\n",
    "    import pandas as pd\n",
    "    url = 'https://www.statlearning.com/s/Auto.csv'\n",
    "    auto = pd.read_csv(url, na_values='?').dropna()\n",
    "    auto\n",
    "\n",
    "a.  Which of the predictors are quantitative, and which are qualitative?\n"
   ]
  },
  {
   "cell_type": "code",
   "execution_count": null,
   "id": "c5f74beb",
   "metadata": {},
   "outputs": [],
   "source": [
    "##\n"
   ]
  },
  {
   "cell_type": "markdown",
   "id": "90155459",
   "metadata": {},
   "source": [
    "b.  What is the range (minimum, maximum) of each quantitative predictor?\n",
    "    You can answer this using the `min`, `max` functions or write a\n",
    "    little function, called `minmax`, which returns this tuple.\n"
   ]
  },
  {
   "cell_type": "code",
   "execution_count": null,
   "id": "6a91de39",
   "metadata": {},
   "outputs": [],
   "source": [
    "##\n"
   ]
  },
  {
   "cell_type": "markdown",
   "id": "a4a9a782",
   "metadata": {},
   "source": [
    "c.  What is the mean and standard deviation of each quantitative\n",
    "    predictor?\n"
   ]
  },
  {
   "cell_type": "code",
   "execution_count": null,
   "id": "77724014",
   "metadata": {},
   "outputs": [],
   "source": [
    "##\n"
   ]
  },
  {
   "cell_type": "markdown",
   "id": "0243634d",
   "metadata": {},
   "source": [
    "d.  Now remove the 10th through 85th observations. What is the range,\n",
    "    mean, and standard deviation of each predictor in the subset of the\n",
    "    data that remains?\n"
   ]
  },
  {
   "cell_type": "code",
   "execution_count": null,
   "id": "06d9b803",
   "metadata": {},
   "outputs": [],
   "source": [
    "##\n"
   ]
  },
  {
   "cell_type": "markdown",
   "id": "be85ba5c",
   "metadata": {},
   "source": [
    "e.  Using the full data set, investigate the predictors graphically,\n",
    "    using scatterplots or other tools of your choice. Create some plots\n",
    "    highlighting the relationships among the predictors. Comment on your\n",
    "    findings.\n"
   ]
  },
  {
   "cell_type": "code",
   "execution_count": null,
   "id": "90228ab5",
   "metadata": {},
   "outputs": [],
   "source": [
    "##\n"
   ]
  },
  {
   "cell_type": "markdown",
   "id": "443201e9",
   "metadata": {},
   "source": [
    "f.  Suppose that we wish to predict gas mileage (`mpg`) on the basis of\n",
    "    the other variables. Do your plots suggest that any of the other\n",
    "    variables might be useful in predicting `mpg`? Justify your answer.\n"
   ]
  },
  {
   "cell_type": "code",
   "execution_count": null,
   "id": "c6ff30fa",
   "metadata": {},
   "outputs": [],
   "source": [
    "##\n"
   ]
  }
 ],
 "metadata": {
  "jupytext": {
   "cell_metadata_filter": "-all",
   "main_language": "python",
   "notebook_metadata_filter": "-all"
  }
 },
 "nbformat": 4,
 "nbformat_minor": 5
}