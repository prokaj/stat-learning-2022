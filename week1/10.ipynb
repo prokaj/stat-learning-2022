{
 "cells": [
  {
   "cell_type": "markdown",
   "id": "45182d35",
   "metadata": {},
   "source": [
    "In this exercise, you will further analyze the `Wage` data.\n",
    "\n",
    "a.  Perform polynomial regression to predict `wage` using `age`. Use\n",
    "    cross-validation to select the optimal degree $d$ for the\n",
    "    polynomial. What degree was chosen?\n"
   ]
  },
  {
   "cell_type": "code",
   "execution_count": null,
   "id": "d6061be3",
   "metadata": {},
   "outputs": [],
   "source": [
    "##\n"
   ]
  },
  {
   "cell_type": "markdown",
   "id": "4647b05e",
   "metadata": {},
   "source": [
    "b.  Now use $C_p$, BIC, adjusted $R^2$ as model selection criterion.\n",
    "    What degree was chosen.\n"
   ]
  },
  {
   "cell_type": "code",
   "execution_count": null,
   "id": "d248c708",
   "metadata": {},
   "outputs": [],
   "source": [
    "##\n"
   ]
  }
 ],
 "metadata": {
  "jupytext": {
   "cell_metadata_filter": "-all",
   "main_language": "python",
   "notebook_metadata_filter": "-all"
  }
 },
 "nbformat": 4,
 "nbformat_minor": 5
}