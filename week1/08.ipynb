{
 "cells": [
  {
   "cell_type": "markdown",
   "id": "cef9321e",
   "metadata": {},
   "source": [
    "This problem involves the Boston data set. We will now try to predict\n",
    "per capita crime rate using the other variables in this data set. In\n",
    "other words, per capita crime rate is the response, and the other\n",
    "variables are the predictors.\n",
    "\n",
    "a.  For each predictor, fit a simple linear regression model to predict\n",
    "    the response. Describe your results. In which of the models is there\n",
    "    a statistically significant association between the predictor and\n",
    "    the response? Create some plots to back up your assertions.\n"
   ]
  },
  {
   "cell_type": "code",
   "execution_count": null,
   "id": "79b37b99",
   "metadata": {},
   "outputs": [],
   "source": [
    "##\n"
   ]
  },
  {
   "cell_type": "markdown",
   "id": "93e9bc2e",
   "metadata": {},
   "source": [
    "b.  Fit a multiple regression model to predict the response using all of\n",
    "    the predictors. Describe your results. For which predictors can we\n",
    "    reject the null hypothesis $H_0 : \\beta_j = 0$?\n"
   ]
  },
  {
   "cell_type": "code",
   "execution_count": null,
   "id": "64b9186a",
   "metadata": {},
   "outputs": [],
   "source": [
    "##\n"
   ]
  },
  {
   "cell_type": "markdown",
   "id": "9e5b1928",
   "metadata": {},
   "source": [
    "c.  How do your results from (a) compare to your results from (b)?\n",
    "    Create a plot displaying the univariate regression coefficients\n",
    "    from (a) on the $x$-axis, and the multiple regression coefficients\n",
    "    from (b) on the $y$-axis. That is, each predictor is displayed as a\n",
    "    single point in the plot. Its coefficient in a simple linear\n",
    "    regression model is shown on the $x$-axis, and its coefficient\n",
    "    estimate in the multiple linear regression model is shown on the\n",
    "    $y$-axis.\n"
   ]
  },
  {
   "cell_type": "code",
   "execution_count": null,
   "id": "5c7c7a05",
   "metadata": {},
   "outputs": [],
   "source": [
    "##\n"
   ]
  },
  {
   "cell_type": "markdown",
   "id": "f721ebb5",
   "metadata": {},
   "source": [
    "d.  Is there evidence of non-linear association between any of the\n",
    "    predictors and the response? To answer this question, for each\n",
    "    predictor $X$, fit a model of the form\n",
    "    $$Y = \\beta_0 + \\beta_1X + \\beta_2 X^2 + \\beta_3 X^3 + \\varepsilon.$$\n"
   ]
  },
  {
   "cell_type": "code",
   "execution_count": null,
   "id": "ab80e84c",
   "metadata": {},
   "outputs": [],
   "source": [
    "##\n"
   ]
  }
 ],
 "metadata": {
  "jupytext": {
   "cell_metadata_filter": "-all",
   "main_language": "python",
   "notebook_metadata_filter": "-all"
  }
 },
 "nbformat": 4,
 "nbformat_minor": 5
}