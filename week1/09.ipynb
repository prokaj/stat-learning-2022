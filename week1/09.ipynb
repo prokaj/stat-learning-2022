{
 "cells": [
  {
   "cell_type": "markdown",
   "id": "9ace1b42",
   "metadata": {
    "lines_to_next_cell": 0
   },
   "source": [
    "We will now perform cross-validation on a simulated data set.\n",
    "\n",
    "a.  Generate a simulated data set as follows:\n",
    "\n",
    "        #--------------\n",
    "        np.random.seed(1)\n",
    "        x = np.random.normal(size=100)\n",
    "        y = x - 2*(x**2) + np.random.normal(size=100)\n",
    "        #--------------\n",
    "\n",
    "    In this data set, what is $n$ and what is $p$? Write out the model\n",
    "    used to generate the data in equation form.\n",
    "\n",
    "    "
   ]
  },
  {
   "cell_type": "code",
   "execution_count": null,
   "id": "262348d2",
   "metadata": {},
   "outputs": [],
   "source": [
    "##\n"
   ]
  },
  {
   "cell_type": "markdown",
   "id": "9f2c02af",
   "metadata": {},
   "source": [
    "b.  Create a scatterplot of $X$ against $Y$. Comment on what you find.\n"
   ]
  },
  {
   "cell_type": "code",
   "execution_count": null,
   "id": "771d26f9",
   "metadata": {},
   "outputs": [],
   "source": [
    "##\n"
   ]
  },
  {
   "cell_type": "markdown",
   "id": "d1771412",
   "metadata": {},
   "source": [
    "c.  Set a random seed, and then compute the LOOCV errors that result\n",
    "    from fitting the following four models using least squares:\n",
    "    $$\\begin{aligned}\n",
    "        \\tag{i.} Y &= \\beta_0 + \\beta_1 X + \\varepsilon\\\\\n",
    "        \\tag{ii.} Y &= \\beta_0 + \\beta_1 X + \\beta_2 X^2 + \\varepsilon\\\\\n",
    "        \\tag{iii.} Y &= \\beta_0 + \\beta_1 X + \\beta_2 X^2 + \\beta_3 X^3 + \\varepsilon\\\\\n",
    "        \\tag{iv.} Y &= \\beta_0 + \\beta_1 X + \\beta_2 X^2 + \\beta_3 X^3 + \\beta_4 X^4 + \\varepsilon.\n",
    "      \\end{aligned}$$ Note you may find it helpful to use the\n",
    "    `pandas.DataFrame` function to create a single data set containing\n",
    "    both $X$ and $Y$.\n"
   ]
  },
  {
   "cell_type": "code",
   "execution_count": null,
   "id": "224775ea",
   "metadata": {},
   "outputs": [],
   "source": [
    "##\n"
   ]
  },
  {
   "cell_type": "markdown",
   "id": "e08256d4",
   "metadata": {},
   "source": [
    "d.  Repeat (c) using another random seed, and report your results. Are\n",
    "    your results the same as what you got in (c)? Why?\n"
   ]
  },
  {
   "cell_type": "code",
   "execution_count": null,
   "id": "a998f454",
   "metadata": {},
   "outputs": [],
   "source": [
    "##\n"
   ]
  },
  {
   "cell_type": "markdown",
   "id": "97960e5b",
   "metadata": {},
   "source": [
    "e.  Which of the models in (c) had the smallest LOOCV error? Is this\n",
    "    what you expected? Explain your answer.\n"
   ]
  },
  {
   "cell_type": "code",
   "execution_count": null,
   "id": "a105abdd",
   "metadata": {},
   "outputs": [],
   "source": [
    "##\n"
   ]
  },
  {
   "cell_type": "markdown",
   "id": "935f61a3",
   "metadata": {},
   "source": [
    "f.  Comment on the statistical significance of the coefficient estimates\n",
    "    that results from fitting each of the models in (c) using least\n",
    "    squares. Do these results agree with the conclusions drawn based on\n",
    "    the cross-validation results?\n"
   ]
  },
  {
   "cell_type": "code",
   "execution_count": null,
   "id": "db38fd87",
   "metadata": {},
   "outputs": [],
   "source": [
    "##\n"
   ]
  }
 ],
 "metadata": {
  "jupytext": {
   "cell_metadata_filter": "-all",
   "main_language": "python",
   "notebook_metadata_filter": "-all"
  }
 },
 "nbformat": 4,
 "nbformat_minor": 5
}